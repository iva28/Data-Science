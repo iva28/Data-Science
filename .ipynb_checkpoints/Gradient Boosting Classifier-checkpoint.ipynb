{
 "cells": [
  {
   "cell_type": "markdown",
   "id": "70f095ab",
   "metadata": {},
   "source": [
    "# Gradient boosted decision tree"
   ]
  },
  {
   "cell_type": "code",
   "execution_count": 1,
   "id": "ec0bd6e3",
   "metadata": {},
   "outputs": [],
   "source": [
    "import pandas as pd\n",
    "import matplotlib.pyplot as plt\n",
    "import seaborn as sn\n",
    "import numpy as np\n",
    "import joblib"
   ]
  },
  {
   "cell_type": "markdown",
   "id": "3c9af836",
   "metadata": {},
   "source": [
    "#### Importing training and testing sets"
   ]
  },
  {
   "cell_type": "code",
   "execution_count": 2,
   "id": "ffb7b9d6",
   "metadata": {},
   "outputs": [],
   "source": [
    "X_train = joblib.load('X_train.joblib')\n",
    "X_test = joblib.load('X_test.joblib')\n",
    "y_train = joblib.load('y_train.joblib')\n",
    "y_test = joblib.load('y_test.joblib')"
   ]
  },
  {
   "cell_type": "code",
   "execution_count": 3,
   "id": "f732074b",
   "metadata": {},
   "outputs": [
    {
     "data": {
      "text/html": [
       "<div>\n",
       "<style scoped>\n",
       "    .dataframe tbody tr th:only-of-type {\n",
       "        vertical-align: middle;\n",
       "    }\n",
       "\n",
       "    .dataframe tbody tr th {\n",
       "        vertical-align: top;\n",
       "    }\n",
       "\n",
       "    .dataframe thead th {\n",
       "        text-align: right;\n",
       "    }\n",
       "</style>\n",
       "<table border=\"1\" class=\"dataframe\">\n",
       "  <thead>\n",
       "    <tr style=\"text-align: right;\">\n",
       "      <th></th>\n",
       "      <th>BNUM_OUT</th>\n",
       "      <th>BNUM_IN</th>\n",
       "      <th>REV_OUT</th>\n",
       "      <th>USAGE_OUT_INT_DUR</th>\n",
       "      <th>USAGE_OUT_OFFNET_DUR</th>\n",
       "      <th>USAGE_OUT_ONNET_DUR</th>\n",
       "      <th>LNE_TENURE</th>\n",
       "      <th>Segment 1</th>\n",
       "      <th>Segment 2</th>\n",
       "      <th>Segment 3</th>\n",
       "      <th>Segment 5</th>\n",
       "    </tr>\n",
       "  </thead>\n",
       "  <tbody>\n",
       "    <tr>\n",
       "      <th>0</th>\n",
       "      <td>0.548670</td>\n",
       "      <td>0.618258</td>\n",
       "      <td>-0.791595</td>\n",
       "      <td>0.0</td>\n",
       "      <td>-0.737565</td>\n",
       "      <td>1.803933</td>\n",
       "      <td>-1.056235</td>\n",
       "      <td>-0.555267</td>\n",
       "      <td>1.516427</td>\n",
       "      <td>-0.429513</td>\n",
       "      <td>-0.663266</td>\n",
       "    </tr>\n",
       "    <tr>\n",
       "      <th>1</th>\n",
       "      <td>0.548670</td>\n",
       "      <td>0.713341</td>\n",
       "      <td>-0.349134</td>\n",
       "      <td>0.0</td>\n",
       "      <td>-0.117997</td>\n",
       "      <td>1.803933</td>\n",
       "      <td>0.692729</td>\n",
       "      <td>-0.555267</td>\n",
       "      <td>1.516427</td>\n",
       "      <td>-0.429513</td>\n",
       "      <td>-0.663266</td>\n",
       "    </tr>\n",
       "    <tr>\n",
       "      <th>2</th>\n",
       "      <td>1.817986</td>\n",
       "      <td>2.044500</td>\n",
       "      <td>2.305630</td>\n",
       "      <td>0.0</td>\n",
       "      <td>1.947230</td>\n",
       "      <td>-0.637988</td>\n",
       "      <td>1.310010</td>\n",
       "      <td>-0.555267</td>\n",
       "      <td>1.516427</td>\n",
       "      <td>-0.429513</td>\n",
       "      <td>-0.663266</td>\n",
       "    </tr>\n",
       "    <tr>\n",
       "      <th>3</th>\n",
       "      <td>1.471809</td>\n",
       "      <td>0.428092</td>\n",
       "      <td>-0.791595</td>\n",
       "      <td>0.0</td>\n",
       "      <td>-0.737565</td>\n",
       "      <td>1.803933</td>\n",
       "      <td>-1.159116</td>\n",
       "      <td>-0.555267</td>\n",
       "      <td>1.516427</td>\n",
       "      <td>-0.429513</td>\n",
       "      <td>-0.663266</td>\n",
       "    </tr>\n",
       "    <tr>\n",
       "      <th>4</th>\n",
       "      <td>2.164163</td>\n",
       "      <td>2.044500</td>\n",
       "      <td>-0.349134</td>\n",
       "      <td>0.0</td>\n",
       "      <td>0.501571</td>\n",
       "      <td>1.803933</td>\n",
       "      <td>1.447184</td>\n",
       "      <td>-0.555267</td>\n",
       "      <td>1.516427</td>\n",
       "      <td>-0.429513</td>\n",
       "      <td>-0.663266</td>\n",
       "    </tr>\n",
       "    <tr>\n",
       "      <th>...</th>\n",
       "      <td>...</td>\n",
       "      <td>...</td>\n",
       "      <td>...</td>\n",
       "      <td>...</td>\n",
       "      <td>...</td>\n",
       "      <td>...</td>\n",
       "      <td>...</td>\n",
       "      <td>...</td>\n",
       "      <td>...</td>\n",
       "      <td>...</td>\n",
       "      <td>...</td>\n",
       "    </tr>\n",
       "    <tr>\n",
       "      <th>3674</th>\n",
       "      <td>0.317886</td>\n",
       "      <td>0.998589</td>\n",
       "      <td>0.535788</td>\n",
       "      <td>0.0</td>\n",
       "      <td>0.914616</td>\n",
       "      <td>-0.237673</td>\n",
       "      <td>-1.124822</td>\n",
       "      <td>-0.555267</td>\n",
       "      <td>1.516427</td>\n",
       "      <td>-0.429513</td>\n",
       "      <td>-0.663266</td>\n",
       "    </tr>\n",
       "    <tr>\n",
       "      <th>3675</th>\n",
       "      <td>-0.720645</td>\n",
       "      <td>-0.617819</td>\n",
       "      <td>-0.349134</td>\n",
       "      <td>0.0</td>\n",
       "      <td>-0.737565</td>\n",
       "      <td>-0.718051</td>\n",
       "      <td>-0.473247</td>\n",
       "      <td>-0.555267</td>\n",
       "      <td>-0.659445</td>\n",
       "      <td>-0.429513</td>\n",
       "      <td>1.507691</td>\n",
       "    </tr>\n",
       "    <tr>\n",
       "      <th>3676</th>\n",
       "      <td>-0.836038</td>\n",
       "      <td>0.142844</td>\n",
       "      <td>-0.349134</td>\n",
       "      <td>0.0</td>\n",
       "      <td>-0.737565</td>\n",
       "      <td>-0.718051</td>\n",
       "      <td>-1.021942</td>\n",
       "      <td>-0.555267</td>\n",
       "      <td>-0.659445</td>\n",
       "      <td>-0.429513</td>\n",
       "      <td>1.507691</td>\n",
       "    </tr>\n",
       "    <tr>\n",
       "      <th>3677</th>\n",
       "      <td>2.164163</td>\n",
       "      <td>2.044500</td>\n",
       "      <td>-0.791595</td>\n",
       "      <td>0.0</td>\n",
       "      <td>-0.737565</td>\n",
       "      <td>1.803933</td>\n",
       "      <td>-0.679008</td>\n",
       "      <td>-0.555267</td>\n",
       "      <td>1.516427</td>\n",
       "      <td>-0.429513</td>\n",
       "      <td>-0.663266</td>\n",
       "    </tr>\n",
       "    <tr>\n",
       "      <th>3678</th>\n",
       "      <td>0.548670</td>\n",
       "      <td>-0.807984</td>\n",
       "      <td>-0.791595</td>\n",
       "      <td>0.0</td>\n",
       "      <td>-0.737565</td>\n",
       "      <td>1.803933</td>\n",
       "      <td>-1.159116</td>\n",
       "      <td>-0.555267</td>\n",
       "      <td>1.516427</td>\n",
       "      <td>-0.429513</td>\n",
       "      <td>-0.663266</td>\n",
       "    </tr>\n",
       "  </tbody>\n",
       "</table>\n",
       "<p>3679 rows × 11 columns</p>\n",
       "</div>"
      ],
      "text/plain": [
       "      BNUM_OUT   BNUM_IN   REV_OUT  USAGE_OUT_INT_DUR  USAGE_OUT_OFFNET_DUR  \\\n",
       "0     0.548670  0.618258 -0.791595                0.0             -0.737565   \n",
       "1     0.548670  0.713341 -0.349134                0.0             -0.117997   \n",
       "2     1.817986  2.044500  2.305630                0.0              1.947230   \n",
       "3     1.471809  0.428092 -0.791595                0.0             -0.737565   \n",
       "4     2.164163  2.044500 -0.349134                0.0              0.501571   \n",
       "...        ...       ...       ...                ...                   ...   \n",
       "3674  0.317886  0.998589  0.535788                0.0              0.914616   \n",
       "3675 -0.720645 -0.617819 -0.349134                0.0             -0.737565   \n",
       "3676 -0.836038  0.142844 -0.349134                0.0             -0.737565   \n",
       "3677  2.164163  2.044500 -0.791595                0.0             -0.737565   \n",
       "3678  0.548670 -0.807984 -0.791595                0.0             -0.737565   \n",
       "\n",
       "      USAGE_OUT_ONNET_DUR  LNE_TENURE  Segment 1  Segment 2  Segment 3  \\\n",
       "0                1.803933   -1.056235  -0.555267   1.516427  -0.429513   \n",
       "1                1.803933    0.692729  -0.555267   1.516427  -0.429513   \n",
       "2               -0.637988    1.310010  -0.555267   1.516427  -0.429513   \n",
       "3                1.803933   -1.159116  -0.555267   1.516427  -0.429513   \n",
       "4                1.803933    1.447184  -0.555267   1.516427  -0.429513   \n",
       "...                   ...         ...        ...        ...        ...   \n",
       "3674            -0.237673   -1.124822  -0.555267   1.516427  -0.429513   \n",
       "3675            -0.718051   -0.473247  -0.555267  -0.659445  -0.429513   \n",
       "3676            -0.718051   -1.021942  -0.555267  -0.659445  -0.429513   \n",
       "3677             1.803933   -0.679008  -0.555267   1.516427  -0.429513   \n",
       "3678             1.803933   -1.159116  -0.555267   1.516427  -0.429513   \n",
       "\n",
       "      Segment 5  \n",
       "0     -0.663266  \n",
       "1     -0.663266  \n",
       "2     -0.663266  \n",
       "3     -0.663266  \n",
       "4     -0.663266  \n",
       "...         ...  \n",
       "3674  -0.663266  \n",
       "3675   1.507691  \n",
       "3676   1.507691  \n",
       "3677  -0.663266  \n",
       "3678  -0.663266  \n",
       "\n",
       "[3679 rows x 11 columns]"
      ]
     },
     "execution_count": 3,
     "metadata": {},
     "output_type": "execute_result"
    }
   ],
   "source": [
    "X_train"
   ]
  },
  {
   "cell_type": "code",
   "execution_count": 4,
   "id": "69643277",
   "metadata": {},
   "outputs": [
    {
     "data": {
      "text/plain": [
       "BNUM_OUT                0\n",
       "BNUM_IN                 0\n",
       "REV_OUT                 0\n",
       "USAGE_OUT_INT_DUR       0\n",
       "USAGE_OUT_OFFNET_DUR    0\n",
       "USAGE_OUT_ONNET_DUR     0\n",
       "LNE_TENURE              0\n",
       "Segment 1               0\n",
       "Segment 2               0\n",
       "Segment 3               0\n",
       "Segment 5               0\n",
       "dtype: int64"
      ]
     },
     "execution_count": 4,
     "metadata": {},
     "output_type": "execute_result"
    }
   ],
   "source": [
    "X_train.isna().sum().sort_values(ascending = False)"
   ]
  },
  {
   "cell_type": "markdown",
   "id": "caaefd98",
   "metadata": {},
   "source": [
    "###### Preview of training data"
   ]
  },
  {
   "cell_type": "code",
   "execution_count": 5,
   "id": "f7960922",
   "metadata": {},
   "outputs": [
    {
     "data": {
      "text/html": [
       "<div>\n",
       "<style scoped>\n",
       "    .dataframe tbody tr th:only-of-type {\n",
       "        vertical-align: middle;\n",
       "    }\n",
       "\n",
       "    .dataframe tbody tr th {\n",
       "        vertical-align: top;\n",
       "    }\n",
       "\n",
       "    .dataframe thead th {\n",
       "        text-align: right;\n",
       "    }\n",
       "</style>\n",
       "<table border=\"1\" class=\"dataframe\">\n",
       "  <thead>\n",
       "    <tr style=\"text-align: right;\">\n",
       "      <th></th>\n",
       "      <th>BNUM_OUT</th>\n",
       "      <th>BNUM_IN</th>\n",
       "      <th>REV_OUT</th>\n",
       "      <th>USAGE_OUT_INT_DUR</th>\n",
       "      <th>USAGE_OUT_OFFNET_DUR</th>\n",
       "      <th>USAGE_OUT_ONNET_DUR</th>\n",
       "      <th>LNE_TENURE</th>\n",
       "      <th>Segment 1</th>\n",
       "      <th>Segment 2</th>\n",
       "      <th>Segment 3</th>\n",
       "      <th>Segment 5</th>\n",
       "    </tr>\n",
       "  </thead>\n",
       "  <tbody>\n",
       "    <tr>\n",
       "      <th>count</th>\n",
       "      <td>3.679000e+03</td>\n",
       "      <td>3.679000e+03</td>\n",
       "      <td>3.679000e+03</td>\n",
       "      <td>3679.0</td>\n",
       "      <td>3.679000e+03</td>\n",
       "      <td>3.679000e+03</td>\n",
       "      <td>3.679000e+03</td>\n",
       "      <td>3.679000e+03</td>\n",
       "      <td>3.679000e+03</td>\n",
       "      <td>3.679000e+03</td>\n",
       "      <td>3.679000e+03</td>\n",
       "    </tr>\n",
       "    <tr>\n",
       "      <th>mean</th>\n",
       "      <td>6.083745e-17</td>\n",
       "      <td>3.862695e-17</td>\n",
       "      <td>1.762355e-17</td>\n",
       "      <td>0.0</td>\n",
       "      <td>4.248964e-17</td>\n",
       "      <td>-3.862695e-17</td>\n",
       "      <td>1.245719e-16</td>\n",
       "      <td>-5.794042e-17</td>\n",
       "      <td>3.379858e-17</td>\n",
       "      <td>4.924936e-17</td>\n",
       "      <td>9.463603e-17</td>\n",
       "    </tr>\n",
       "    <tr>\n",
       "      <th>std</th>\n",
       "      <td>1.000136e+00</td>\n",
       "      <td>1.000136e+00</td>\n",
       "      <td>1.000136e+00</td>\n",
       "      <td>0.0</td>\n",
       "      <td>1.000136e+00</td>\n",
       "      <td>1.000136e+00</td>\n",
       "      <td>1.000136e+00</td>\n",
       "      <td>1.000136e+00</td>\n",
       "      <td>1.000136e+00</td>\n",
       "      <td>1.000136e+00</td>\n",
       "      <td>1.000136e+00</td>\n",
       "    </tr>\n",
       "    <tr>\n",
       "      <th>min</th>\n",
       "      <td>-9.514300e-01</td>\n",
       "      <td>-1.093233e+00</td>\n",
       "      <td>-7.915945e-01</td>\n",
       "      <td>0.0</td>\n",
       "      <td>-7.375648e-01</td>\n",
       "      <td>-7.180514e-01</td>\n",
       "      <td>-1.364876e+00</td>\n",
       "      <td>-5.552670e-01</td>\n",
       "      <td>-6.594448e-01</td>\n",
       "      <td>-4.295133e-01</td>\n",
       "      <td>-6.632660e-01</td>\n",
       "    </tr>\n",
       "    <tr>\n",
       "      <th>25%</th>\n",
       "      <td>-8.360376e-01</td>\n",
       "      <td>-8.079842e-01</td>\n",
       "      <td>-7.915945e-01</td>\n",
       "      <td>0.0</td>\n",
       "      <td>-7.375648e-01</td>\n",
       "      <td>-7.180514e-01</td>\n",
       "      <td>-9.533552e-01</td>\n",
       "      <td>-5.552670e-01</td>\n",
       "      <td>-6.594448e-01</td>\n",
       "      <td>-4.295133e-01</td>\n",
       "      <td>-6.632660e-01</td>\n",
       "    </tr>\n",
       "    <tr>\n",
       "      <th>50%</th>\n",
       "      <td>-3.744683e-01</td>\n",
       "      <td>-3.325701e-01</td>\n",
       "      <td>-3.491338e-01</td>\n",
       "      <td>0.0</td>\n",
       "      <td>-5.310422e-01</td>\n",
       "      <td>-5.979569e-01</td>\n",
       "      <td>-2.331934e-01</td>\n",
       "      <td>-5.552670e-01</td>\n",
       "      <td>-6.594448e-01</td>\n",
       "      <td>-4.295133e-01</td>\n",
       "      <td>-6.632660e-01</td>\n",
       "    </tr>\n",
       "    <tr>\n",
       "      <th>75%</th>\n",
       "      <td>5.486703e-01</td>\n",
       "      <td>6.182579e-01</td>\n",
       "      <td>5.357875e-01</td>\n",
       "      <td>0.0</td>\n",
       "      <td>5.015710e-01</td>\n",
       "      <td>5.629564e-01</td>\n",
       "      <td>9.670763e-01</td>\n",
       "      <td>-5.552670e-01</td>\n",
       "      <td>1.516427e+00</td>\n",
       "      <td>-4.295133e-01</td>\n",
       "      <td>1.507691e+00</td>\n",
       "    </tr>\n",
       "    <tr>\n",
       "      <th>max</th>\n",
       "      <td>2.164163e+00</td>\n",
       "      <td>2.044500e+00</td>\n",
       "      <td>2.305630e+00</td>\n",
       "      <td>0.0</td>\n",
       "      <td>1.947230e+00</td>\n",
       "      <td>1.803933e+00</td>\n",
       "      <td>1.481478e+00</td>\n",
       "      <td>1.800935e+00</td>\n",
       "      <td>1.516427e+00</td>\n",
       "      <td>2.328217e+00</td>\n",
       "      <td>1.507691e+00</td>\n",
       "    </tr>\n",
       "  </tbody>\n",
       "</table>\n",
       "</div>"
      ],
      "text/plain": [
       "           BNUM_OUT       BNUM_IN       REV_OUT  USAGE_OUT_INT_DUR  \\\n",
       "count  3.679000e+03  3.679000e+03  3.679000e+03             3679.0   \n",
       "mean   6.083745e-17  3.862695e-17  1.762355e-17                0.0   \n",
       "std    1.000136e+00  1.000136e+00  1.000136e+00                0.0   \n",
       "min   -9.514300e-01 -1.093233e+00 -7.915945e-01                0.0   \n",
       "25%   -8.360376e-01 -8.079842e-01 -7.915945e-01                0.0   \n",
       "50%   -3.744683e-01 -3.325701e-01 -3.491338e-01                0.0   \n",
       "75%    5.486703e-01  6.182579e-01  5.357875e-01                0.0   \n",
       "max    2.164163e+00  2.044500e+00  2.305630e+00                0.0   \n",
       "\n",
       "       USAGE_OUT_OFFNET_DUR  USAGE_OUT_ONNET_DUR    LNE_TENURE     Segment 1  \\\n",
       "count          3.679000e+03         3.679000e+03  3.679000e+03  3.679000e+03   \n",
       "mean           4.248964e-17        -3.862695e-17  1.245719e-16 -5.794042e-17   \n",
       "std            1.000136e+00         1.000136e+00  1.000136e+00  1.000136e+00   \n",
       "min           -7.375648e-01        -7.180514e-01 -1.364876e+00 -5.552670e-01   \n",
       "25%           -7.375648e-01        -7.180514e-01 -9.533552e-01 -5.552670e-01   \n",
       "50%           -5.310422e-01        -5.979569e-01 -2.331934e-01 -5.552670e-01   \n",
       "75%            5.015710e-01         5.629564e-01  9.670763e-01 -5.552670e-01   \n",
       "max            1.947230e+00         1.803933e+00  1.481478e+00  1.800935e+00   \n",
       "\n",
       "          Segment 2     Segment 3     Segment 5  \n",
       "count  3.679000e+03  3.679000e+03  3.679000e+03  \n",
       "mean   3.379858e-17  4.924936e-17  9.463603e-17  \n",
       "std    1.000136e+00  1.000136e+00  1.000136e+00  \n",
       "min   -6.594448e-01 -4.295133e-01 -6.632660e-01  \n",
       "25%   -6.594448e-01 -4.295133e-01 -6.632660e-01  \n",
       "50%   -6.594448e-01 -4.295133e-01 -6.632660e-01  \n",
       "75%    1.516427e+00 -4.295133e-01  1.507691e+00  \n",
       "max    1.516427e+00  2.328217e+00  1.507691e+00  "
      ]
     },
     "execution_count": 5,
     "metadata": {},
     "output_type": "execute_result"
    }
   ],
   "source": [
    "X_train.describe()"
   ]
  },
  {
   "cell_type": "markdown",
   "id": "c7aa72d8",
   "metadata": {},
   "source": [
    "##### Summary statistics of the training variables"
   ]
  },
  {
   "cell_type": "code",
   "execution_count": 7,
   "id": "cc98e670",
   "metadata": {},
   "outputs": [
    {
     "name": "stdout",
     "output_type": "stream",
     "text": [
      "       BNUM_OUT  BNUM_IN  REV_OUT  USAGE_OUT_INT_DUR  USAGE_OUT_OFFNET_DUR  \\\n",
      "count    3679.0   3679.0   3679.0             3679.0                3679.0   \n",
      "mean        0.0      0.0      0.0                0.0                   0.0   \n",
      "std         1.0      1.0      1.0                0.0                   1.0   \n",
      "min        -1.0     -1.0     -1.0                0.0                  -1.0   \n",
      "25%        -1.0     -1.0     -1.0                0.0                  -1.0   \n",
      "50%        -0.0     -0.0     -0.0                0.0                  -1.0   \n",
      "75%         1.0      1.0      1.0                0.0                   1.0   \n",
      "max         2.0      2.0      2.0                0.0                   2.0   \n",
      "\n",
      "       USAGE_OUT_ONNET_DUR  LNE_TENURE  Segment 1  Segment 2  Segment 3  \\\n",
      "count               3679.0      3679.0     3679.0     3679.0     3679.0   \n",
      "mean                  -0.0         0.0       -0.0        0.0        0.0   \n",
      "std                    1.0         1.0        1.0        1.0        1.0   \n",
      "min                   -1.0        -1.0       -1.0       -1.0       -0.0   \n",
      "25%                   -1.0        -1.0       -1.0       -1.0       -0.0   \n",
      "50%                   -1.0        -0.0       -1.0       -1.0       -0.0   \n",
      "75%                    1.0         1.0       -1.0        2.0       -0.0   \n",
      "max                    2.0         1.0        2.0        2.0        2.0   \n",
      "\n",
      "       Segment 5  \n",
      "count     3679.0  \n",
      "mean         0.0  \n",
      "std          1.0  \n",
      "min         -1.0  \n",
      "25%         -1.0  \n",
      "50%         -1.0  \n",
      "75%          2.0  \n",
      "max          2.0   2\n"
     ]
    }
   ],
   "source": [
    "print(round(X_train.describe()),2)"
   ]
  },
  {
   "cell_type": "code",
   "execution_count": 8,
   "id": "0691e7fe",
   "metadata": {},
   "outputs": [
    {
     "data": {
      "text/plain": [
       "CHURN\n",
       "0    76.35227\n",
       "1    23.64773\n",
       "Name: count, dtype: float64"
      ]
     },
     "execution_count": 8,
     "metadata": {},
     "output_type": "execute_result"
    }
   ],
   "source": [
    "y_train.value_counts()/len(X_train) * 100\n",
    "# inbalanced data set"
   ]
  },
  {
   "cell_type": "markdown",
   "id": "3a0a8ec2",
   "metadata": {},
   "source": [
    "#### Creating and fitting Gradient Boosting Classifier model"
   ]
  },
  {
   "cell_type": "code",
   "execution_count": 9,
   "id": "839b0341",
   "metadata": {},
   "outputs": [],
   "source": [
    "from sklearn.ensemble import GradientBoostingClassifier\n",
    "gb_model = GradientBoostingClassifier(n_estimators = 100, learning_rate = 0.1, random_state=0)\n",
    "\n",
    "gb_model = gb_model.fit(X_train, y_train)"
   ]
  },
  {
   "cell_type": "markdown",
   "id": "50d48578",
   "metadata": {},
   "source": [
    "##### Plotting 42nd tree in the ensemble"
   ]
  },
  {
   "cell_type": "code",
   "execution_count": 11,
   "id": "ac378799",
   "metadata": {},
   "outputs": [
    {
     "data": {
      "image/png": "[encoded data removed]",
      "text/plain": [
       "<Figure size 600x600 with 1 Axes>"
      ]
     },
     "metadata": {},
     "output_type": "display_data"
    }
   ],
   "source": [
    "from sklearn.tree import plot_tree\n",
    "sub_tree = gb_model.estimators_[42, 0]\n",
    "\n",
    "plt.figure(figsize=(6, 6))\n",
    "plot_tree(sub_tree, feature_names=X_train.columns, filled=True, rounded=True)\n",
    "plt.show()"
   ]
  },
  {
   "cell_type": "markdown",
   "id": "767c09c5",
   "metadata": {},
   "source": [
    "##### Creating CHURN event predictions with created classifier"
   ]
  },
  {
   "cell_type": "code",
   "execution_count": 12,
   "id": "89bfea0b",
   "metadata": {},
   "outputs": [
    {
     "data": {
      "text/plain": [
       "array([1, 0, 0, 1, 0, 0, 0, 0, 1, 0], dtype=int64)"
      ]
     },
     "execution_count": 12,
     "metadata": {},
     "output_type": "execute_result"
    }
   ],
   "source": [
    "y_pred = gb_model.predict(X_test)\n",
    "y_pred[:10]"
   ]
  },
  {
   "cell_type": "markdown",
   "id": "42fb4642",
   "metadata": {},
   "source": [
    "###### Checking accuracy of the model"
   ]
  },
  {
   "cell_type": "code",
   "execution_count": 13,
   "id": "2eba78d8",
   "metadata": {},
   "outputs": [
    {
     "name": "stdout",
     "output_type": "stream",
     "text": [
      "Model accuracy score: 99.6739\n"
     ]
    }
   ],
   "source": [
    "from sklearn.metrics import accuracy_score\n",
    "acc_score = accuracy_score(y_test, y_pred) * 100\n",
    "\n",
    "print('Model accuracy score: {0:0.4f}'.format(acc_score))"
   ]
  },
  {
   "cell_type": "markdown",
   "id": "df0b3f6e",
   "metadata": {},
   "source": [
    "###### Confusion matrix"
   ]
  },
  {
   "cell_type": "code",
   "execution_count": 14,
   "id": "ec5d26e2",
   "metadata": {},
   "outputs": [
    {
     "data": {
      "text/plain": [
       "<sklearn.metrics._plot.confusion_matrix.ConfusionMatrixDisplay at 0x2125cfdaa10>"
      ]
     },
     "execution_count": 14,
     "metadata": {},
     "output_type": "execute_result"
    },
    {
     "data": {
      "text/plain": [
       "<Figure size 200x200 with 0 Axes>"
      ]
     },
     "metadata": {},
     "output_type": "display_data"
    },
    {
     "data": {
      "image/png": "[encoded data removed]",
      "text/plain": [
       "<Figure size 640x480 with 2 Axes>"
      ]
     },
     "metadata": {},
     "output_type": "display_data"
    }
   ],
   "source": [
    "from sklearn.metrics import confusion_matrix, ConfusionMatrixDisplay\n",
    "cm = confusion_matrix(y_test, y_pred)\n",
    "\n",
    "cm_display = ConfusionMatrixDisplay(confusion_matrix = cm)\n",
    "\n",
    "plt.figure(figsize=(2,2))\n",
    "cm_display.plot()"
   ]
  },
  {
   "cell_type": "markdown",
   "id": "5c41e170",
   "metadata": {},
   "source": [
    "##### F1 score (measuring harmonic mean between Precision and Recall)"
   ]
  },
  {
   "cell_type": "code",
   "execution_count": 15,
   "id": "9045cffa",
   "metadata": {},
   "outputs": [
    {
     "data": {
      "text/plain": [
       "99.30394431554525"
      ]
     },
     "execution_count": 15,
     "metadata": {},
     "output_type": "execute_result"
    }
   ],
   "source": [
    "from sklearn.metrics import f1_score as f1\n",
    "f1(y_test, y_pred) *100"
   ]
  },
  {
   "cell_type": "code",
   "execution_count": 16,
   "id": "6a04948e",
   "metadata": {},
   "outputs": [
    {
     "data": {
      "image/png": "[encoded data removed]",
      "text/plain": [
       "<Figure size 400x400 with 1 Axes>"
      ]
     },
     "metadata": {},
     "output_type": "display_data"
    }
   ],
   "source": [
    "plt.figure(figsize=(4,4))\n",
    "\n",
    "from sklearn import metrics\n",
    "\n",
    "y_scores = gb_model.predict_proba(X_test)[:, 1]\n",
    "\n",
    "fpr, tpr, thresholds = metrics.roc_curve(y_test, y_scores)\n",
    "\n",
    "roc_auc = metrics.auc(fpr, tpr)\n",
    "\n",
    "plt.plot(fpr, tpr, label=f\"ROC curve (AUC = {roc_auc:.4f})\")\n",
    "\n",
    "plt.legend(loc='lower right')\n",
    "plt.text(0.6, 0.3, f'AUC = {roc_auc:.4f}', fontsize=12)\n",
    "plt.show()"
   ]
  },
  {
   "cell_type": "markdown",
   "id": "2b7ae396",
   "metadata": {},
   "source": [
    "##### Feature importance "
   ]
  },
  {
   "cell_type": "code",
   "execution_count": 17,
   "id": "719261f8",
   "metadata": {},
   "outputs": [
    {
     "data": {
      "text/html": [
       "<div>\n",
       "<style scoped>\n",
       "    .dataframe tbody tr th:only-of-type {\n",
       "        vertical-align: middle;\n",
       "    }\n",
       "\n",
       "    .dataframe tbody tr th {\n",
       "        vertical-align: top;\n",
       "    }\n",
       "\n",
       "    .dataframe thead th {\n",
       "        text-align: right;\n",
       "    }\n",
       "</style>\n",
       "<table border=\"1\" class=\"dataframe\">\n",
       "  <thead>\n",
       "    <tr style=\"text-align: right;\">\n",
       "      <th></th>\n",
       "      <th>Feature score</th>\n",
       "    </tr>\n",
       "  </thead>\n",
       "  <tbody>\n",
       "    <tr>\n",
       "      <th>Segment 1</th>\n",
       "      <td>0.99837088</td>\n",
       "    </tr>\n",
       "    <tr>\n",
       "      <th>Segment 5</th>\n",
       "      <td>0.00123437</td>\n",
       "    </tr>\n",
       "    <tr>\n",
       "      <th>LNE_TENURE</th>\n",
       "      <td>0.00029961</td>\n",
       "    </tr>\n",
       "    <tr>\n",
       "      <th>REV_OUT</th>\n",
       "      <td>0.00002768</td>\n",
       "    </tr>\n",
       "    <tr>\n",
       "      <th>BNUM_OUT</th>\n",
       "      <td>0.00002343</td>\n",
       "    </tr>\n",
       "    <tr>\n",
       "      <th>BNUM_IN</th>\n",
       "      <td>0.00001879</td>\n",
       "    </tr>\n",
       "    <tr>\n",
       "      <th>USAGE_OUT_ONNET_DUR</th>\n",
       "      <td>0.00001338</td>\n",
       "    </tr>\n",
       "    <tr>\n",
       "      <th>Segment 2</th>\n",
       "      <td>0.00001187</td>\n",
       "    </tr>\n",
       "    <tr>\n",
       "      <th>USAGE_OUT_INT_DUR</th>\n",
       "      <td>0.00000000</td>\n",
       "    </tr>\n",
       "    <tr>\n",
       "      <th>USAGE_OUT_OFFNET_DUR</th>\n",
       "      <td>0.00000000</td>\n",
       "    </tr>\n",
       "    <tr>\n",
       "      <th>Segment 3</th>\n",
       "      <td>0.00000000</td>\n",
       "    </tr>\n",
       "  </tbody>\n",
       "</table>\n",
       "</div>"
      ],
      "text/plain": [
       "                     Feature score\n",
       "Segment 1               0.99837088\n",
       "Segment 5               0.00123437\n",
       "LNE_TENURE              0.00029961\n",
       "REV_OUT                 0.00002768\n",
       "BNUM_OUT                0.00002343\n",
       "BNUM_IN                 0.00001879\n",
       "USAGE_OUT_ONNET_DUR     0.00001338\n",
       "Segment 2               0.00001187\n",
       "USAGE_OUT_INT_DUR       0.00000000\n",
       "USAGE_OUT_OFFNET_DUR    0.00000000\n",
       "Segment 3               0.00000000"
      ]
     },
     "execution_count": 17,
     "metadata": {},
     "output_type": "execute_result"
    }
   ],
   "source": [
    "feature_importance = pd.DataFrame(gb_model.feature_importances_,index = X_train.columns, columns = ['Feature score'])\n",
    "\n",
    "feature_importance['Feature score'] = feature_importance['Feature score'].apply(lambda x: f'{x:.8f}')\n",
    "\n",
    "feature_importance.sort_values(by = 'Feature score', ascending = False, inplace = True)\n",
    "feature_importance"
   ]
  }
 ],
 "metadata": {
  "kernelspec": {
   "display_name": "Python 3 (ipykernel)",
   "language": "python",
   "name": "python3"
  },
  "language_info": {
   "codemirror_mode": {
    "name": "ipython",
    "version": 3
   },
   "file_extension": ".py",
   "mimetype": "text/x-python",
   "name": "python",
   "nbconvert_exporter": "python",
   "pygments_lexer": "ipython3",
   "version": "3.11.5"
  }
 },
 "nbformat": 4,
 "nbformat_minor": 5
}

{
 "cells": [
  {
   "cell_type": "code",
   "execution_count": 1,
   "id": "ec0bd6e3",
   "metadata": {},
   "outputs": [],
   "source": [
    "import pandas as pd\n",
    "import matplotlib.pyplot as plt\n",
    "import seaborn as sn\n",
    "import numpy as np"
   ]
  },
  {
   "cell_type": "code",
   "execution_count": 2,
   "id": "2a5d6f0a",
   "metadata": {},
   "outputs": [],
   "source": [
    "# loading the data\n",
    "data = pd.read_excel('data.xlsx')"
   ]
  },
  {
   "cell_type": "code",
   "execution_count": 3,
   "id": "ef590885",
   "metadata": {},
   "outputs": [
    {
     "data": {
      "text/html": [
       "<div>\n",
       "<style scoped>\n",
       "    .dataframe tbody tr th:only-of-type {\n",
       "        vertical-align: middle;\n",
       "    }\n",
       "\n",
       "    .dataframe tbody tr th {\n",
       "        vertical-align: top;\n",
       "    }\n",
       "\n",
       "    .dataframe thead th {\n",
       "        text-align: right;\n",
       "    }\n",
       "</style>\n",
       "<table border=\"1\" class=\"dataframe\">\n",
       "  <thead>\n",
       "    <tr style=\"text-align: right;\">\n",
       "      <th></th>\n",
       "      <th>SUBSCRIBER_ID</th>\n",
       "      <th>BNUM_OUT</th>\n",
       "      <th>BNUM_IN</th>\n",
       "      <th>CHURN</th>\n",
       "      <th>PROD_CNT_MACRO</th>\n",
       "      <th>REV_BUN_MAC</th>\n",
       "      <th>REV_OUT</th>\n",
       "      <th>USAGE_OUT_INT_DUR</th>\n",
       "      <th>USAGE_OUT_OFFNET_DUR</th>\n",
       "      <th>USAGE_OUT_ONNET_DUR</th>\n",
       "      <th>LNE_TENURE</th>\n",
       "      <th>TOPUP_AMT</th>\n",
       "      <th>TOPUP_CNT</th>\n",
       "      <th>Segment</th>\n",
       "    </tr>\n",
       "  </thead>\n",
       "  <tbody>\n",
       "    <tr>\n",
       "      <th>0</th>\n",
       "      <td>1</td>\n",
       "      <td>2.0</td>\n",
       "      <td>3.0</td>\n",
       "      <td>1</td>\n",
       "      <td>NaN</td>\n",
       "      <td>NaN</td>\n",
       "      <td>0.0</td>\n",
       "      <td>0.0</td>\n",
       "      <td>2.0</td>\n",
       "      <td>1.0</td>\n",
       "      <td>163</td>\n",
       "      <td>NaN</td>\n",
       "      <td>NaN</td>\n",
       "      <td>Segment 1</td>\n",
       "    </tr>\n",
       "    <tr>\n",
       "      <th>1</th>\n",
       "      <td>2</td>\n",
       "      <td>52.0</td>\n",
       "      <td>32.0</td>\n",
       "      <td>0</td>\n",
       "      <td>3.0</td>\n",
       "      <td>2.0</td>\n",
       "      <td>1.0</td>\n",
       "      <td>0.0</td>\n",
       "      <td>0.0</td>\n",
       "      <td>966.0</td>\n",
       "      <td>76</td>\n",
       "      <td>2.0</td>\n",
       "      <td>3.0</td>\n",
       "      <td>Segment 2</td>\n",
       "    </tr>\n",
       "    <tr>\n",
       "      <th>2</th>\n",
       "      <td>3</td>\n",
       "      <td>NaN</td>\n",
       "      <td>NaN</td>\n",
       "      <td>0</td>\n",
       "      <td>NaN</td>\n",
       "      <td>NaN</td>\n",
       "      <td>NaN</td>\n",
       "      <td>NaN</td>\n",
       "      <td>NaN</td>\n",
       "      <td>NaN</td>\n",
       "      <td>118</td>\n",
       "      <td>NaN</td>\n",
       "      <td>0.0</td>\n",
       "      <td>Segment 3</td>\n",
       "    </tr>\n",
       "    <tr>\n",
       "      <th>3</th>\n",
       "      <td>4</td>\n",
       "      <td>4.0</td>\n",
       "      <td>5.0</td>\n",
       "      <td>1</td>\n",
       "      <td>NaN</td>\n",
       "      <td>NaN</td>\n",
       "      <td>3.0</td>\n",
       "      <td>0.0</td>\n",
       "      <td>5.0</td>\n",
       "      <td>5.0</td>\n",
       "      <td>107</td>\n",
       "      <td>4.0</td>\n",
       "      <td>2.0</td>\n",
       "      <td>Segment 1</td>\n",
       "    </tr>\n",
       "    <tr>\n",
       "      <th>4</th>\n",
       "      <td>5</td>\n",
       "      <td>0.0</td>\n",
       "      <td>14.0</td>\n",
       "      <td>0</td>\n",
       "      <td>0.0</td>\n",
       "      <td>NaN</td>\n",
       "      <td>0.0</td>\n",
       "      <td>0.0</td>\n",
       "      <td>0.0</td>\n",
       "      <td>0.0</td>\n",
       "      <td>149</td>\n",
       "      <td>6.0</td>\n",
       "      <td>2.0</td>\n",
       "      <td>Segment 5</td>\n",
       "    </tr>\n",
       "  </tbody>\n",
       "</table>\n",
       "</div>"
      ],
      "text/plain": [
       "   SUBSCRIBER_ID  BNUM_OUT  BNUM_IN  CHURN  PROD_CNT_MACRO  REV_BUN_MAC  \\\n",
       "0              1       2.0      3.0      1             NaN          NaN   \n",
       "1              2      52.0     32.0      0             3.0          2.0   \n",
       "2              3       NaN      NaN      0             NaN          NaN   \n",
       "3              4       4.0      5.0      1             NaN          NaN   \n",
       "4              5       0.0     14.0      0             0.0          NaN   \n",
       "\n",
       "   REV_OUT  USAGE_OUT_INT_DUR  USAGE_OUT_OFFNET_DUR  USAGE_OUT_ONNET_DUR  \\\n",
       "0      0.0                0.0                   2.0                  1.0   \n",
       "1      1.0                0.0                   0.0                966.0   \n",
       "2      NaN                NaN                   NaN                  NaN   \n",
       "3      3.0                0.0                   5.0                  5.0   \n",
       "4      0.0                0.0                   0.0                  0.0   \n",
       "\n",
       "   LNE_TENURE  TOPUP_AMT  TOPUP_CNT    Segment  \n",
       "0         163        NaN        NaN  Segment 1  \n",
       "1          76        2.0        3.0  Segment 2  \n",
       "2         118        NaN        0.0  Segment 3  \n",
       "3         107        4.0        2.0  Segment 1  \n",
       "4         149        6.0        2.0  Segment 5  "
      ]
     },
     "execution_count": 3,
     "metadata": {},
     "output_type": "execute_result"
    }
   ],
   "source": [
    "# preview the data\n",
    "data.head()"
   ]
  },
  {
   "cell_type": "code",
   "execution_count": 4,
   "id": "c3680b20",
   "metadata": {},
   "outputs": [
    {
     "data": {
      "text/plain": [
       "REV_BUN_MAC             3977\n",
       "PROD_CNT_MACRO          2825\n",
       "TOPUP_AMT               2263\n",
       "TOPUP_CNT               1909\n",
       "REV_OUT                  508\n",
       "BNUM_OUT                 488\n",
       "BNUM_IN                  488\n",
       "USAGE_OUT_INT_DUR        401\n",
       "USAGE_OUT_OFFNET_DUR     401\n",
       "USAGE_OUT_ONNET_DUR      401\n",
       "Segment                    2\n",
       "SUBSCRIBER_ID              0\n",
       "CHURN                      0\n",
       "LNE_TENURE                 0\n",
       "dtype: int64"
      ]
     },
     "execution_count": 4,
     "metadata": {},
     "output_type": "execute_result"
    }
   ],
   "source": [
    "# examining the presence of missing values\n",
    "total_missing = data.isna().sum().sort_values(ascending = False)\n",
    "total_missing"
   ]
  },
  {
   "cell_type": "code",
   "execution_count": 5,
   "id": "d2902db7",
   "metadata": {},
   "outputs": [
    {
     "data": {
      "text/plain": [
       "Index(['BNUM_OUT', 'BNUM_IN', 'CHURN', 'PROD_CNT_MACRO', 'REV_BUN_MAC',\n",
       "       'REV_OUT', 'USAGE_OUT_INT_DUR', 'USAGE_OUT_OFFNET_DUR',\n",
       "       'USAGE_OUT_ONNET_DUR', 'LNE_TENURE', 'TOPUP_AMT', 'TOPUP_CNT',\n",
       "       'Segment'],\n",
       "      dtype='object')"
      ]
     },
     "execution_count": 5,
     "metadata": {},
     "output_type": "execute_result"
    }
   ],
   "source": [
    "# deleting SUBSCRIBER_ID variable as it is not very useful and informative for creating predictive model\n",
    "data = data.drop('SUBSCRIBER_ID', axis = 1)\n",
    "data.columns"
   ]
  },
  {
   "cell_type": "code",
   "execution_count": 6,
   "id": "0f572a7e",
   "metadata": {},
   "outputs": [
    {
     "data": {
      "text/html": [
       "<div>\n",
       "<style scoped>\n",
       "    .dataframe tbody tr th:only-of-type {\n",
       "        vertical-align: middle;\n",
       "    }\n",
       "\n",
       "    .dataframe tbody tr th {\n",
       "        vertical-align: top;\n",
       "    }\n",
       "\n",
       "    .dataframe thead th {\n",
       "        text-align: right;\n",
       "    }\n",
       "</style>\n",
       "<table border=\"1\" class=\"dataframe\">\n",
       "  <thead>\n",
       "    <tr style=\"text-align: right;\">\n",
       "      <th></th>\n",
       "      <th>BNUM_OUT</th>\n",
       "      <th>BNUM_IN</th>\n",
       "      <th>CHURN</th>\n",
       "      <th>REV_OUT</th>\n",
       "      <th>USAGE_OUT_INT_DUR</th>\n",
       "      <th>USAGE_OUT_OFFNET_DUR</th>\n",
       "      <th>USAGE_OUT_ONNET_DUR</th>\n",
       "      <th>LNE_TENURE</th>\n",
       "      <th>Segment</th>\n",
       "    </tr>\n",
       "  </thead>\n",
       "  <tbody>\n",
       "    <tr>\n",
       "      <th>0</th>\n",
       "      <td>2.0</td>\n",
       "      <td>3.0</td>\n",
       "      <td>1</td>\n",
       "      <td>0.0</td>\n",
       "      <td>0.0</td>\n",
       "      <td>2.0</td>\n",
       "      <td>1.0</td>\n",
       "      <td>163</td>\n",
       "      <td>Segment 1</td>\n",
       "    </tr>\n",
       "    <tr>\n",
       "      <th>1</th>\n",
       "      <td>52.0</td>\n",
       "      <td>32.0</td>\n",
       "      <td>0</td>\n",
       "      <td>1.0</td>\n",
       "      <td>0.0</td>\n",
       "      <td>0.0</td>\n",
       "      <td>966.0</td>\n",
       "      <td>76</td>\n",
       "      <td>Segment 2</td>\n",
       "    </tr>\n",
       "    <tr>\n",
       "      <th>2</th>\n",
       "      <td>NaN</td>\n",
       "      <td>NaN</td>\n",
       "      <td>0</td>\n",
       "      <td>NaN</td>\n",
       "      <td>NaN</td>\n",
       "      <td>NaN</td>\n",
       "      <td>NaN</td>\n",
       "      <td>118</td>\n",
       "      <td>Segment 3</td>\n",
       "    </tr>\n",
       "    <tr>\n",
       "      <th>3</th>\n",
       "      <td>4.0</td>\n",
       "      <td>5.0</td>\n",
       "      <td>1</td>\n",
       "      <td>3.0</td>\n",
       "      <td>0.0</td>\n",
       "      <td>5.0</td>\n",
       "      <td>5.0</td>\n",
       "      <td>107</td>\n",
       "      <td>Segment 1</td>\n",
       "    </tr>\n",
       "    <tr>\n",
       "      <th>4</th>\n",
       "      <td>0.0</td>\n",
       "      <td>14.0</td>\n",
       "      <td>0</td>\n",
       "      <td>0.0</td>\n",
       "      <td>0.0</td>\n",
       "      <td>0.0</td>\n",
       "      <td>0.0</td>\n",
       "      <td>149</td>\n",
       "      <td>Segment 5</td>\n",
       "    </tr>\n",
       "    <tr>\n",
       "      <th>...</th>\n",
       "      <td>...</td>\n",
       "      <td>...</td>\n",
       "      <td>...</td>\n",
       "      <td>...</td>\n",
       "      <td>...</td>\n",
       "      <td>...</td>\n",
       "      <td>...</td>\n",
       "      <td>...</td>\n",
       "      <td>...</td>\n",
       "    </tr>\n",
       "    <tr>\n",
       "      <th>4995</th>\n",
       "      <td>1.0</td>\n",
       "      <td>0.0</td>\n",
       "      <td>1</td>\n",
       "      <td>0.0</td>\n",
       "      <td>0.0</td>\n",
       "      <td>0.0</td>\n",
       "      <td>1.0</td>\n",
       "      <td>137</td>\n",
       "      <td>Segment 1</td>\n",
       "    </tr>\n",
       "    <tr>\n",
       "      <th>4996</th>\n",
       "      <td>11.0</td>\n",
       "      <td>11.0</td>\n",
       "      <td>0</td>\n",
       "      <td>0.0</td>\n",
       "      <td>0.0</td>\n",
       "      <td>2.0</td>\n",
       "      <td>213.0</td>\n",
       "      <td>150</td>\n",
       "      <td>Segment 2</td>\n",
       "    </tr>\n",
       "    <tr>\n",
       "      <th>4997</th>\n",
       "      <td>2.0</td>\n",
       "      <td>9.0</td>\n",
       "      <td>0</td>\n",
       "      <td>0.0</td>\n",
       "      <td>0.0</td>\n",
       "      <td>0.0</td>\n",
       "      <td>188.0</td>\n",
       "      <td>134</td>\n",
       "      <td>Segment 5</td>\n",
       "    </tr>\n",
       "    <tr>\n",
       "      <th>4998</th>\n",
       "      <td>15.0</td>\n",
       "      <td>17.0</td>\n",
       "      <td>0</td>\n",
       "      <td>3.0</td>\n",
       "      <td>0.0</td>\n",
       "      <td>3.0</td>\n",
       "      <td>2.0</td>\n",
       "      <td>115</td>\n",
       "      <td>Segment 3</td>\n",
       "    </tr>\n",
       "    <tr>\n",
       "      <th>4999</th>\n",
       "      <td>1.0</td>\n",
       "      <td>4.0</td>\n",
       "      <td>1</td>\n",
       "      <td>0.0</td>\n",
       "      <td>0.0</td>\n",
       "      <td>0.0</td>\n",
       "      <td>0.0</td>\n",
       "      <td>156</td>\n",
       "      <td>Segment 1</td>\n",
       "    </tr>\n",
       "  </tbody>\n",
       "</table>\n",
       "<p>5000 rows × 9 columns</p>\n",
       "</div>"
      ],
      "text/plain": [
       "      BNUM_OUT  BNUM_IN  CHURN  REV_OUT  USAGE_OUT_INT_DUR  \\\n",
       "0          2.0      3.0      1      0.0                0.0   \n",
       "1         52.0     32.0      0      1.0                0.0   \n",
       "2          NaN      NaN      0      NaN                NaN   \n",
       "3          4.0      5.0      1      3.0                0.0   \n",
       "4          0.0     14.0      0      0.0                0.0   \n",
       "...        ...      ...    ...      ...                ...   \n",
       "4995       1.0      0.0      1      0.0                0.0   \n",
       "4996      11.0     11.0      0      0.0                0.0   \n",
       "4997       2.0      9.0      0      0.0                0.0   \n",
       "4998      15.0     17.0      0      3.0                0.0   \n",
       "4999       1.0      4.0      1      0.0                0.0   \n",
       "\n",
       "      USAGE_OUT_OFFNET_DUR  USAGE_OUT_ONNET_DUR  LNE_TENURE    Segment  \n",
       "0                      2.0                  1.0         163  Segment 1  \n",
       "1                      0.0                966.0          76  Segment 2  \n",
       "2                      NaN                  NaN         118  Segment 3  \n",
       "3                      5.0                  5.0         107  Segment 1  \n",
       "4                      0.0                  0.0         149  Segment 5  \n",
       "...                    ...                  ...         ...        ...  \n",
       "4995                   0.0                  1.0         137  Segment 1  \n",
       "4996                   2.0                213.0         150  Segment 2  \n",
       "4997                   0.0                188.0         134  Segment 5  \n",
       "4998                   3.0                  2.0         115  Segment 3  \n",
       "4999                   0.0                  0.0         156  Segment 1  \n",
       "\n",
       "[5000 rows x 9 columns]"
      ]
     },
     "execution_count": 6,
     "metadata": {},
     "output_type": "execute_result"
    }
   ],
   "source": [
    "# handling missing values the same way as shown in Script and Logistical Refression Model scripts\n",
    "data = data.drop(['REV_BUN_MAC','PROD_CNT_MACRO','TOPUP_AMT','TOPUP_CNT'], axis = 1)\n",
    "data"
   ]
  },
  {
   "cell_type": "code",
   "execution_count": 7,
   "id": "7424581a",
   "metadata": {},
   "outputs": [],
   "source": [
    "# filling missing values in Segment variable\n",
    "most_frequent = data.Segment.mode()[0]\n",
    "data.Segment = data.Segment.fillna(most_frequent)"
   ]
  },
  {
   "cell_type": "code",
   "execution_count": 8,
   "id": "6704094d",
   "metadata": {},
   "outputs": [],
   "source": [
    "# eliminating rows with missing values for columns USAGE_OUT_INT_DUR, USAGE_OUT_OFFNET_DUR, USAGE_OUT_ONNET_DUR\n",
    "data = data.dropna(subset = ['USAGE_OUT_INT_DUR', 'USAGE_OUT_OFFNET_DUR','USAGE_OUT_ONNET_DUR'])"
   ]
  },
  {
   "cell_type": "code",
   "execution_count": 9,
   "id": "12c487f1",
   "metadata": {},
   "outputs": [
    {
     "data": {
      "text/plain": [
       "0       Segment 1\n",
       "1       Segment 2\n",
       "3       Segment 1\n",
       "4       Segment 5\n",
       "5       Segment 3\n",
       "          ...    \n",
       "4995    Segment 1\n",
       "4996    Segment 2\n",
       "4997    Segment 5\n",
       "4998    Segment 3\n",
       "4999    Segment 1\n",
       "Name: Segment, Length: 4599, dtype: object"
      ]
     },
     "execution_count": 9,
     "metadata": {},
     "output_type": "execute_result"
    }
   ],
   "source": [
    "# capturing Segment variable\n",
    "segment = data.Segment\n",
    "segment"
   ]
  },
  {
   "cell_type": "code",
   "execution_count": 10,
   "id": "078f9d53",
   "metadata": {},
   "outputs": [
    {
     "data": {
      "text/plain": [
       "REV_OUT     1.0\n",
       "BNUM_OUT    1.0\n",
       "BNUM_IN     1.0\n",
       "dtype: float64"
      ]
     },
     "execution_count": 10,
     "metadata": {},
     "output_type": "execute_result"
    }
   ],
   "source": [
    "# applying shapiro test to see the distribution of variables\n",
    "from scipy.stats import shapiro\n",
    "\n",
    "columns_shapiro = ['REV_OUT','BNUM_OUT','BNUM_IN']\n",
    "columns_shapiro\n",
    "p_values = data[columns_shapiro].apply(lambda x: shapiro(x)[1])\n",
    "p_values"
   ]
  },
  {
   "cell_type": "code",
   "execution_count": 11,
   "id": "ad68013d",
   "metadata": {},
   "outputs": [],
   "source": [
    "# filling missing values in variables REV_OUT, BNUM_OUT and BNUM_IN with their mean values (since they are normally distributed)\n",
    "from sklearn.impute import SimpleImputer\n",
    "imp = SimpleImputer(strategy='mean')\n",
    "data_inputed = imp.fit_transform(data.drop('Segment',axis=1))"
   ]
  },
  {
   "cell_type": "code",
   "execution_count": 12,
   "id": "9e4bbe5b",
   "metadata": {},
   "outputs": [
    {
     "data": {
      "text/html": [
       "<div>\n",
       "<style scoped>\n",
       "    .dataframe tbody tr th:only-of-type {\n",
       "        vertical-align: middle;\n",
       "    }\n",
       "\n",
       "    .dataframe tbody tr th {\n",
       "        vertical-align: top;\n",
       "    }\n",
       "\n",
       "    .dataframe thead th {\n",
       "        text-align: right;\n",
       "    }\n",
       "</style>\n",
       "<table border=\"1\" class=\"dataframe\">\n",
       "  <thead>\n",
       "    <tr style=\"text-align: right;\">\n",
       "      <th></th>\n",
       "      <th>BNUM_OUT</th>\n",
       "      <th>BNUM_IN</th>\n",
       "      <th>CHURN</th>\n",
       "      <th>REV_OUT</th>\n",
       "      <th>USAGE_OUT_INT_DUR</th>\n",
       "      <th>USAGE_OUT_OFFNET_DUR</th>\n",
       "      <th>USAGE_OUT_ONNET_DUR</th>\n",
       "      <th>LNE_TENURE</th>\n",
       "    </tr>\n",
       "  </thead>\n",
       "  <tbody>\n",
       "    <tr>\n",
       "      <th>0</th>\n",
       "      <td>2.0</td>\n",
       "      <td>3.0</td>\n",
       "      <td>1.0</td>\n",
       "      <td>0.0</td>\n",
       "      <td>0.0</td>\n",
       "      <td>2.0</td>\n",
       "      <td>1.0</td>\n",
       "      <td>163.0</td>\n",
       "    </tr>\n",
       "    <tr>\n",
       "      <th>1</th>\n",
       "      <td>52.0</td>\n",
       "      <td>32.0</td>\n",
       "      <td>0.0</td>\n",
       "      <td>1.0</td>\n",
       "      <td>0.0</td>\n",
       "      <td>0.0</td>\n",
       "      <td>966.0</td>\n",
       "      <td>76.0</td>\n",
       "    </tr>\n",
       "    <tr>\n",
       "      <th>2</th>\n",
       "      <td>4.0</td>\n",
       "      <td>5.0</td>\n",
       "      <td>1.0</td>\n",
       "      <td>3.0</td>\n",
       "      <td>0.0</td>\n",
       "      <td>5.0</td>\n",
       "      <td>5.0</td>\n",
       "      <td>107.0</td>\n",
       "    </tr>\n",
       "    <tr>\n",
       "      <th>3</th>\n",
       "      <td>0.0</td>\n",
       "      <td>14.0</td>\n",
       "      <td>0.0</td>\n",
       "      <td>0.0</td>\n",
       "      <td>0.0</td>\n",
       "      <td>0.0</td>\n",
       "      <td>0.0</td>\n",
       "      <td>149.0</td>\n",
       "    </tr>\n",
       "    <tr>\n",
       "      <th>4</th>\n",
       "      <td>0.0</td>\n",
       "      <td>1.0</td>\n",
       "      <td>0.0</td>\n",
       "      <td>0.0</td>\n",
       "      <td>0.0</td>\n",
       "      <td>0.0</td>\n",
       "      <td>0.0</td>\n",
       "      <td>139.0</td>\n",
       "    </tr>\n",
       "    <tr>\n",
       "      <th>...</th>\n",
       "      <td>...</td>\n",
       "      <td>...</td>\n",
       "      <td>...</td>\n",
       "      <td>...</td>\n",
       "      <td>...</td>\n",
       "      <td>...</td>\n",
       "      <td>...</td>\n",
       "      <td>...</td>\n",
       "    </tr>\n",
       "    <tr>\n",
       "      <th>4594</th>\n",
       "      <td>1.0</td>\n",
       "      <td>0.0</td>\n",
       "      <td>1.0</td>\n",
       "      <td>0.0</td>\n",
       "      <td>0.0</td>\n",
       "      <td>0.0</td>\n",
       "      <td>1.0</td>\n",
       "      <td>137.0</td>\n",
       "    </tr>\n",
       "    <tr>\n",
       "      <th>4595</th>\n",
       "      <td>11.0</td>\n",
       "      <td>11.0</td>\n",
       "      <td>0.0</td>\n",
       "      <td>0.0</td>\n",
       "      <td>0.0</td>\n",
       "      <td>2.0</td>\n",
       "      <td>213.0</td>\n",
       "      <td>150.0</td>\n",
       "    </tr>\n",
       "    <tr>\n",
       "      <th>4596</th>\n",
       "      <td>2.0</td>\n",
       "      <td>9.0</td>\n",
       "      <td>0.0</td>\n",
       "      <td>0.0</td>\n",
       "      <td>0.0</td>\n",
       "      <td>0.0</td>\n",
       "      <td>188.0</td>\n",
       "      <td>134.0</td>\n",
       "    </tr>\n",
       "    <tr>\n",
       "      <th>4597</th>\n",
       "      <td>15.0</td>\n",
       "      <td>17.0</td>\n",
       "      <td>0.0</td>\n",
       "      <td>3.0</td>\n",
       "      <td>0.0</td>\n",
       "      <td>3.0</td>\n",
       "      <td>2.0</td>\n",
       "      <td>115.0</td>\n",
       "    </tr>\n",
       "    <tr>\n",
       "      <th>4598</th>\n",
       "      <td>1.0</td>\n",
       "      <td>4.0</td>\n",
       "      <td>1.0</td>\n",
       "      <td>0.0</td>\n",
       "      <td>0.0</td>\n",
       "      <td>0.0</td>\n",
       "      <td>0.0</td>\n",
       "      <td>156.0</td>\n",
       "    </tr>\n",
       "  </tbody>\n",
       "</table>\n",
       "<p>4599 rows × 8 columns</p>\n",
       "</div>"
      ],
      "text/plain": [
       "      BNUM_OUT  BNUM_IN  CHURN  REV_OUT  USAGE_OUT_INT_DUR  \\\n",
       "0          2.0      3.0    1.0      0.0                0.0   \n",
       "1         52.0     32.0    0.0      1.0                0.0   \n",
       "2          4.0      5.0    1.0      3.0                0.0   \n",
       "3          0.0     14.0    0.0      0.0                0.0   \n",
       "4          0.0      1.0    0.0      0.0                0.0   \n",
       "...        ...      ...    ...      ...                ...   \n",
       "4594       1.0      0.0    1.0      0.0                0.0   \n",
       "4595      11.0     11.0    0.0      0.0                0.0   \n",
       "4596       2.0      9.0    0.0      0.0                0.0   \n",
       "4597      15.0     17.0    0.0      3.0                0.0   \n",
       "4598       1.0      4.0    1.0      0.0                0.0   \n",
       "\n",
       "      USAGE_OUT_OFFNET_DUR  USAGE_OUT_ONNET_DUR  LNE_TENURE  \n",
       "0                      2.0                  1.0       163.0  \n",
       "1                      0.0                966.0        76.0  \n",
       "2                      5.0                  5.0       107.0  \n",
       "3                      0.0                  0.0       149.0  \n",
       "4                      0.0                  0.0       139.0  \n",
       "...                    ...                  ...         ...  \n",
       "4594                   0.0                  1.0       137.0  \n",
       "4595                   2.0                213.0       150.0  \n",
       "4596                   0.0                188.0       134.0  \n",
       "4597                   3.0                  2.0       115.0  \n",
       "4598                   0.0                  0.0       156.0  \n",
       "\n",
       "[4599 rows x 8 columns]"
      ]
     },
     "execution_count": 12,
     "metadata": {},
     "output_type": "execute_result"
    }
   ],
   "source": [
    "# checking if there are remaining missing values\n",
    "column_names = data.drop('Segment',axis =1).columns\n",
    "# column_names \n",
    "data_inputed = pd.DataFrame(data_inputed, columns = column_names)\n",
    "data_inputed.isna().sum().sort_values(ascending = False)\n",
    "data_inputed"
   ]
  },
  {
   "cell_type": "code",
   "execution_count": 13,
   "id": "d19876dd",
   "metadata": {},
   "outputs": [
    {
     "data": {
      "image/png": "[encoded data removed]",
      "text/plain": [
       "<Figure size 400x400 with 1 Axes>"
      ]
     },
     "metadata": {},
     "output_type": "display_data"
    }
   ],
   "source": [
    "# checking the distribution of CHURN variable (how many customers have left the company)\n",
    "plt.figure(figsize=(4,4))\n",
    "ax = sn.countplot(x = 'CHURN', data = data_inputed)\n",
    "# The dataset in not balanced"
   ]
  },
  {
   "cell_type": "code",
   "execution_count": 14,
   "id": "df135a3c",
   "metadata": {},
   "outputs": [
    {
     "data": {
      "text/html": [
       "<div>\n",
       "<style scoped>\n",
       "    .dataframe tbody tr th:only-of-type {\n",
       "        vertical-align: middle;\n",
       "    }\n",
       "\n",
       "    .dataframe tbody tr th {\n",
       "        vertical-align: top;\n",
       "    }\n",
       "\n",
       "    .dataframe thead th {\n",
       "        text-align: right;\n",
       "    }\n",
       "</style>\n",
       "<table border=\"1\" class=\"dataframe\">\n",
       "  <thead>\n",
       "    <tr style=\"text-align: right;\">\n",
       "      <th></th>\n",
       "      <th>Segment 1</th>\n",
       "      <th>Segment 2</th>\n",
       "      <th>Segment 3</th>\n",
       "      <th>Segment 5</th>\n",
       "    </tr>\n",
       "  </thead>\n",
       "  <tbody>\n",
       "    <tr>\n",
       "      <th>0</th>\n",
       "      <td>1</td>\n",
       "      <td>0</td>\n",
       "      <td>0</td>\n",
       "      <td>0</td>\n",
       "    </tr>\n",
       "    <tr>\n",
       "      <th>1</th>\n",
       "      <td>0</td>\n",
       "      <td>1</td>\n",
       "      <td>0</td>\n",
       "      <td>0</td>\n",
       "    </tr>\n",
       "    <tr>\n",
       "      <th>3</th>\n",
       "      <td>1</td>\n",
       "      <td>0</td>\n",
       "      <td>0</td>\n",
       "      <td>0</td>\n",
       "    </tr>\n",
       "    <tr>\n",
       "      <th>4</th>\n",
       "      <td>0</td>\n",
       "      <td>0</td>\n",
       "      <td>0</td>\n",
       "      <td>1</td>\n",
       "    </tr>\n",
       "    <tr>\n",
       "      <th>5</th>\n",
       "      <td>0</td>\n",
       "      <td>0</td>\n",
       "      <td>1</td>\n",
       "      <td>0</td>\n",
       "    </tr>\n",
       "    <tr>\n",
       "      <th>...</th>\n",
       "      <td>...</td>\n",
       "      <td>...</td>\n",
       "      <td>...</td>\n",
       "      <td>...</td>\n",
       "    </tr>\n",
       "    <tr>\n",
       "      <th>4995</th>\n",
       "      <td>1</td>\n",
       "      <td>0</td>\n",
       "      <td>0</td>\n",
       "      <td>0</td>\n",
       "    </tr>\n",
       "    <tr>\n",
       "      <th>4996</th>\n",
       "      <td>0</td>\n",
       "      <td>1</td>\n",
       "      <td>0</td>\n",
       "      <td>0</td>\n",
       "    </tr>\n",
       "    <tr>\n",
       "      <th>4997</th>\n",
       "      <td>0</td>\n",
       "      <td>0</td>\n",
       "      <td>0</td>\n",
       "      <td>1</td>\n",
       "    </tr>\n",
       "    <tr>\n",
       "      <th>4998</th>\n",
       "      <td>0</td>\n",
       "      <td>0</td>\n",
       "      <td>1</td>\n",
       "      <td>0</td>\n",
       "    </tr>\n",
       "    <tr>\n",
       "      <th>4999</th>\n",
       "      <td>1</td>\n",
       "      <td>0</td>\n",
       "      <td>0</td>\n",
       "      <td>0</td>\n",
       "    </tr>\n",
       "  </tbody>\n",
       "</table>\n",
       "<p>4599 rows × 4 columns</p>\n",
       "</div>"
      ],
      "text/plain": [
       "      Segment 1  Segment 2  Segment 3  Segment 5\n",
       "0             1          0          0          0\n",
       "1             0          1          0          0\n",
       "3             1          0          0          0\n",
       "4             0          0          0          1\n",
       "5             0          0          1          0\n",
       "...         ...        ...        ...        ...\n",
       "4995          1          0          0          0\n",
       "4996          0          1          0          0\n",
       "4997          0          0          0          1\n",
       "4998          0          0          1          0\n",
       "4999          1          0          0          0\n",
       "\n",
       "[4599 rows x 4 columns]"
      ]
     },
     "execution_count": 14,
     "metadata": {},
     "output_type": "execute_result"
    }
   ],
   "source": [
    "# encoding categorical variable Segment\n",
    "segment = pd.get_dummies(segment)\n",
    "segment = segment.astype(int)\n",
    "segment"
   ]
  },
  {
   "cell_type": "code",
   "execution_count": 17,
   "id": "5215388e",
   "metadata": {},
   "outputs": [
    {
     "data": {
      "text/plain": [
       "BNUM_OUT                0\n",
       "BNUM_IN                 0\n",
       "REV_OUT                 0\n",
       "USAGE_OUT_INT_DUR       0\n",
       "USAGE_OUT_OFFNET_DUR    0\n",
       "USAGE_OUT_ONNET_DUR     0\n",
       "LNE_TENURE              0\n",
       "Segment 1               0\n",
       "Segment 2               0\n",
       "Segment 3               0\n",
       "Segment 5               0\n",
       "dtype: int64"
      ]
     },
     "execution_count": 17,
     "metadata": {},
     "output_type": "execute_result"
    }
   ],
   "source": [
    "# Input data\n",
    "X = data_inputed.drop('CHURN', axis = 1)\n",
    "segment.reset_index(drop=True, inplace=True)\n",
    "X.reset_index(drop=True, inplace=True)\n",
    "\n",
    "X = pd.concat([X, segment], axis=1)\n",
    "X\n",
    "# X.isna().sum().sort_values(ascending = False)"
   ]
  },
  {
   "cell_type": "code",
   "execution_count": 19,
   "id": "3a302d19",
   "metadata": {},
   "outputs": [
    {
     "data": {
      "text/plain": [
       "4599"
      ]
     },
     "execution_count": 19,
     "metadata": {},
     "output_type": "execute_result"
    }
   ],
   "source": [
    "# target variable CHURN\n",
    "y = data['CHURN']\n",
    "y\n",
    "# y.isna().sum()"
   ]
  },
  {
   "cell_type": "code",
   "execution_count": 20,
   "id": "9f4d9837",
   "metadata": {},
   "outputs": [],
   "source": [
    "# splitting data into training and testing sets\n",
    "from sklearn.model_selection import train_test_split\n",
    "X_train, X_test, y_train, y_test = train_test_split(X,y, test_size= 0.2, random_state = 0, stratify = y)"
   ]
  },
  {
   "cell_type": "code",
   "execution_count": 21,
   "id": "839b0341",
   "metadata": {},
   "outputs": [],
   "source": [
    "# creating and fitting Gradian Boostint Classifier model\n",
    "from sklearn.ensemble import GradientBoostingClassifier\n",
    "gb_model = GradientBoostingClassifier(n_estimators = 100, learning_rate = 0.1, random_state=0)\n",
    "\n",
    "# fitting the model to the data\n",
    "gb_model = gb_model.fit(X_train, y_train)"
   ]
  },
  {
   "cell_type": "code",
   "execution_count": 62,
   "id": "53583c99",
   "metadata": {},
   "outputs": [
    {
     "name": "stdout",
     "output_type": "stream",
     "text": [
      "Note: you may need to restart the kernel to use updated packages.\n"
     ]
    },
    {
     "name": "stderr",
     "output_type": "stream",
     "text": [
      "ERROR: Exception:\n",
      "Traceback (most recent call last):\n",
      "  File \"C:\\Users\\DELL\\anaconda3\\Lib\\site-packages\\pip\\_internal\\cli\\base_command.py\", line 180, in exc_logging_wrapper\n",
      "    status = run_func(*args)\n",
      "             ^^^^^^^^^^^^^^^\n",
      "  File \"C:\\Users\\DELL\\anaconda3\\Lib\\site-packages\\pip\\_internal\\cli\\req_command.py\", line 248, in wrapper\n",
      "    return func(self, options, args)\n",
      "           ^^^^^^^^^^^^^^^^^^^^^^^^^\n",
      "  File \"C:\\Users\\DELL\\anaconda3\\Lib\\site-packages\\pip\\_internal\\commands\\install.py\", line 362, in run\n",
      "    resolver = self.make_resolver(\n",
      "               ^^^^^^^^^^^^^^^^^^^\n",
      "  File \"C:\\Users\\DELL\\anaconda3\\Lib\\site-packages\\pip\\_internal\\cli\\req_command.py\", line 358, in make_resolver\n",
      "    return pip._internal.resolution.resolvelib.resolver.Resolver(\n",
      "           ^^^^^^^^^^^^^^^^^^^^^^^^^^^^^^^^^^^^^^^^^^^^^^^^^^^^^^\n",
      "  File \"C:\\Users\\DELL\\anaconda3\\Lib\\site-packages\\pip\\_internal\\resolution\\resolvelib\\resolver.py\", line 55, in __init__\n",
      "    self.factory = Factory(\n",
      "                   ^^^^^^^^\n",
      "  File \"C:\\Users\\DELL\\anaconda3\\Lib\\site-packages\\pip\\_internal\\resolution\\resolvelib\\factory.py\", line 120, in __init__\n",
      "    self._installed_dists = {\n",
      "                            ^\n",
      "  File \"C:\\Users\\DELL\\anaconda3\\Lib\\site-packages\\pip\\_internal\\resolution\\resolvelib\\factory.py\", line 120, in <dictcomp>\n",
      "    self._installed_dists = {\n",
      "                            ^\n",
      "  File \"C:\\Users\\DELL\\anaconda3\\Lib\\site-packages\\pip\\_internal\\metadata\\base.py\", line 664, in <genexpr>\n",
      "    return (d for d in it if d.canonical_name not in skip)\n",
      "           ^^^^^^^^^^^^^^^^^^^^^^^^^^^^^^^^^^^^^^^^^^^^^^^\n",
      "  File \"C:\\Users\\DELL\\anaconda3\\Lib\\site-packages\\pip\\_internal\\metadata\\base.py\", line 612, in iter_all_distributions\n",
      "    for dist in self._iter_distributions():\n",
      "  File \"C:\\Users\\DELL\\anaconda3\\Lib\\site-packages\\pip\\_internal\\metadata\\importlib\\_envs.py\", line 175, in _iter_distributions\n",
      "    yield from finder.find(location)\n",
      "  File \"C:\\Users\\DELL\\anaconda3\\Lib\\site-packages\\pip\\_internal\\metadata\\importlib\\_envs.py\", line 79, in find\n",
      "    for dist, info_location in self._find_impl(location):\n",
      "  File \"C:\\Users\\DELL\\anaconda3\\Lib\\site-packages\\pip\\_internal\\metadata\\importlib\\_envs.py\", line 64, in _find_impl\n",
      "    raw_name = get_dist_name(dist)\n",
      "               ^^^^^^^^^^^^^^^^^^^\n",
      "  File \"C:\\Users\\DELL\\anaconda3\\Lib\\site-packages\\pip\\_internal\\metadata\\importlib\\_compat.py\", line 52, in get_dist_name\n",
      "    name = cast(Any, dist).name\n",
      "           ^^^^^^^^^^^^^^^^^^^^\n",
      "  File \"C:\\Users\\DELL\\anaconda3\\Lib\\importlib\\metadata\\__init__.py\", line 622, in name\n",
      "    return self.metadata['Name']\n",
      "           ^^^^^^^^^^^^^\n",
      "  File \"C:\\Users\\DELL\\anaconda3\\Lib\\importlib\\metadata\\__init__.py\", line 610, in metadata\n",
      "    self.read_text('METADATA')\n",
      "  File \"C:\\Users\\DELL\\anaconda3\\Lib\\importlib\\metadata\\__init__.py\", line 938, in read_text\n",
      "    return self._path.joinpath(filename).read_text(encoding='utf-8')\n",
      "           ^^^^^^^^^^^^^^^^^^^^^^^^^^^^^^^^^^^^^^^^^^^^^^^^^^^^^^^^^\n",
      "  File \"C:\\Users\\DELL\\anaconda3\\Lib\\pathlib.py\", line 1059, in read_text\n",
      "    return f.read()\n",
      "           ^^^^^^^^\n",
      "  File \"<frozen codecs>\", line 322, in decode\n",
      "MemoryError\n"
     ]
    }
   ],
   "source": [
    "pip install dtreeviz"
   ]
  },
  {
   "cell_type": "code",
   "execution_count": 61,
   "id": "ac378799",
   "metadata": {},
   "outputs": [
    {
     "ename": "ModuleNotFoundError",
     "evalue": "No module named 'dtreeviz'",
     "output_type": "error",
     "traceback": [
      "\u001b[1;31m---------------------------------------------------------------------------\u001b[0m",
      "\u001b[1;31mModuleNotFoundError\u001b[0m                       Traceback (most recent call last)",
      "Cell \u001b[1;32mIn[61], line 2\u001b[0m\n\u001b[0;32m      1\u001b[0m \u001b[38;5;66;03m# plotting the tree\u001b[39;00m\n\u001b[1;32m----> 2\u001b[0m \u001b[38;5;28;01mfrom\u001b[39;00m \u001b[38;5;21;01mdtreeviz\u001b[39;00m\u001b[38;5;21;01m.\u001b[39;00m\u001b[38;5;21;01mtrees\u001b[39;00m \u001b[38;5;28;01mimport\u001b[39;00m \u001b[38;5;241m*\u001b[39m\n\u001b[0;32m      3\u001b[0m \u001b[38;5;66;03m# Get the tree number 42\u001b[39;00m\n\u001b[0;32m      4\u001b[0m sub_tree \u001b[38;5;241m=\u001b[39m gb_model\u001b[38;5;241m.\u001b[39mestimators_[\u001b[38;5;241m42\u001b[39m, \u001b[38;5;241m0\u001b[39m]\n",
      "\u001b[1;31mModuleNotFoundError\u001b[0m: No module named 'dtreeviz'"
     ]
    }
   ],
   "source": [
    "# plotting the tree\n",
    "from dtreeviz.trees import *\n",
    "# Get the tree number 42\n",
    "sub_tree = gb_model.estimators_[42, 0]\n",
    "\n",
    "# Visualization\n",
    "viz = dtreeviz(sub_tree,\n",
    "               x_data=X,\n",
    "               y_data=y,\n",
    "               target_name='Positive',\n",
    "               class_names=['0', '1'],\n",
    "               title='Tree 42 visualization')\n",
    "\n",
    "viz.save(\"tree_visualization.svg\") \n",
    "viz.view()"
   ]
  },
  {
   "cell_type": "code",
   "execution_count": 23,
   "id": "89bfea0b",
   "metadata": {},
   "outputs": [
    {
     "data": {
      "text/plain": [
       "array([1, 0, 0, 1, 0, 0, 0, 0, 1, 0], dtype=int64)"
      ]
     },
     "execution_count": 23,
     "metadata": {},
     "output_type": "execute_result"
    }
   ],
   "source": [
    "# generating predictions with created model\n",
    "y_pred = gb_model.predict(X_test)\n",
    "y_pred[:10]"
   ]
  },
  {
   "cell_type": "code",
   "execution_count": 25,
   "id": "2eba78d8",
   "metadata": {},
   "outputs": [
    {
     "name": "stdout",
     "output_type": "stream",
     "text": [
      "Model accuracy score: 99.6739\n"
     ]
    }
   ],
   "source": [
    "# checking accuracy of the model\n",
    "from sklearn.metrics import accuracy_score\n",
    "acc_score = accuracy_score(y_test, y_pred) * 100\n",
    "\n",
    "print('Model accuracy score: {0:0.4f}'.format(acc_score))"
   ]
  },
  {
   "cell_type": "code",
   "execution_count": 33,
   "id": "ec5d26e2",
   "metadata": {},
   "outputs": [
    {
     "data": {
      "text/plain": [
       "<sklearn.metrics._plot.confusion_matrix.ConfusionMatrixDisplay at 0x200ca36bad0>"
      ]
     },
     "execution_count": 33,
     "metadata": {},
     "output_type": "execute_result"
    },
    {
     "data": {
      "text/plain": [
       "<Figure size 200x200 with 0 Axes>"
      ]
     },
     "metadata": {},
     "output_type": "display_data"
    },
    {
     "data": {
      "image/png": "[encoded data removed]",
      "text/plain": [
       "<Figure size 640x480 with 2 Axes>"
      ]
     },
     "metadata": {},
     "output_type": "display_data"
    }
   ],
   "source": [
    "# confusion matrix\n",
    "from sklearn.metrics import confusion_matrix, ConfusionMatrixDisplay\n",
    "cm = confusion_matrix(y_test, y_pred)\n",
    "\n",
    "cm_display = ConfusionMatrixDisplay(confusion_matrix = cm)\n",
    "\n",
    "plt.figure(figsize=(2,2))\n",
    "cm_display.plot()"
   ]
  },
  {
   "cell_type": "code",
   "execution_count": 36,
   "id": "9045cffa",
   "metadata": {},
   "outputs": [
    {
     "data": {
      "text/plain": [
       "99.30394431554525"
      ]
     },
     "execution_count": 36,
     "metadata": {},
     "output_type": "execute_result"
    }
   ],
   "source": [
    "# F1 score, measuring harmonic mean between Precision and Recall\n",
    "from sklearn.metrics import f1_score as f1\n",
    "f1(y_test, y_pred) *100"
   ]
  },
  {
   "cell_type": "code",
   "execution_count": 50,
   "id": "6a04948e",
   "metadata": {},
   "outputs": [
    {
     "data": {
      "image/png": "[encoded data removed]",
      "text/plain": [
       "<Figure size 400x400 with 1 Axes>"
      ]
     },
     "metadata": {},
     "output_type": "display_data"
    }
   ],
   "source": [
    "plt.figure(figsize=(4,4))\n",
    "# Area under the curve\n",
    "from sklearn import metrics\n",
    "\n",
    "# Making predictions on the test dataset\n",
    "y_scores = gb_model.predict_proba(X_test)[:, 1]\n",
    "\n",
    "# Calculating the ROC curve\n",
    "fpr, tpr, thresholds = metrics.roc_curve(y_test, y_scores)\n",
    "\n",
    "# Calculating the AUC\n",
    "roc_auc = metrics.auc(fpr, tpr)\n",
    "\n",
    "plt.plot(fpr, tpr, label=f\"ROC curve (AUC = {roc_auc:.4f})\")\n",
    "\n",
    "plt.legend(loc='lower right')\n",
    "plt.text(0.6, 0.3, f'AUC = {roc_auc:.4f}', fontsize=12)\n",
    "plt.show()"
   ]
  },
  {
   "cell_type": "code",
   "execution_count": 56,
   "id": "719261f8",
   "metadata": {},
   "outputs": [
    {
     "data": {
      "text/html": [
       "<div>\n",
       "<style scoped>\n",
       "    .dataframe tbody tr th:only-of-type {\n",
       "        vertical-align: middle;\n",
       "    }\n",
       "\n",
       "    .dataframe tbody tr th {\n",
       "        vertical-align: top;\n",
       "    }\n",
       "\n",
       "    .dataframe thead th {\n",
       "        text-align: right;\n",
       "    }\n",
       "</style>\n",
       "<table border=\"1\" class=\"dataframe\">\n",
       "  <thead>\n",
       "    <tr style=\"text-align: right;\">\n",
       "      <th></th>\n",
       "      <th>Feature score</th>\n",
       "    </tr>\n",
       "  </thead>\n",
       "  <tbody>\n",
       "    <tr>\n",
       "      <th>Segment 1</th>\n",
       "      <td>0.99689129</td>\n",
       "    </tr>\n",
       "    <tr>\n",
       "      <th>REV_OUT</th>\n",
       "      <td>0.00301559</td>\n",
       "    </tr>\n",
       "    <tr>\n",
       "      <th>LNE_TENURE</th>\n",
       "      <td>0.00003795</td>\n",
       "    </tr>\n",
       "    <tr>\n",
       "      <th>BNUM_OUT</th>\n",
       "      <td>0.00002498</td>\n",
       "    </tr>\n",
       "    <tr>\n",
       "      <th>Segment 2</th>\n",
       "      <td>0.00001451</td>\n",
       "    </tr>\n",
       "    <tr>\n",
       "      <th>BNUM_IN</th>\n",
       "      <td>0.00001316</td>\n",
       "    </tr>\n",
       "    <tr>\n",
       "      <th>USAGE_OUT_ONNET_DUR</th>\n",
       "      <td>0.00000253</td>\n",
       "    </tr>\n",
       "    <tr>\n",
       "      <th>USAGE_OUT_INT_DUR</th>\n",
       "      <td>0.00000000</td>\n",
       "    </tr>\n",
       "    <tr>\n",
       "      <th>USAGE_OUT_OFFNET_DUR</th>\n",
       "      <td>0.00000000</td>\n",
       "    </tr>\n",
       "    <tr>\n",
       "      <th>Segment 3</th>\n",
       "      <td>0.00000000</td>\n",
       "    </tr>\n",
       "    <tr>\n",
       "      <th>Segment 5</th>\n",
       "      <td>0.00000000</td>\n",
       "    </tr>\n",
       "  </tbody>\n",
       "</table>\n",
       "</div>"
      ],
      "text/plain": [
       "                     Feature score\n",
       "Segment 1               0.99689129\n",
       "REV_OUT                 0.00301559\n",
       "LNE_TENURE              0.00003795\n",
       "BNUM_OUT                0.00002498\n",
       "Segment 2               0.00001451\n",
       "BNUM_IN                 0.00001316\n",
       "USAGE_OUT_ONNET_DUR     0.00000253\n",
       "USAGE_OUT_INT_DUR       0.00000000\n",
       "USAGE_OUT_OFFNET_DUR    0.00000000\n",
       "Segment 3               0.00000000\n",
       "Segment 5               0.00000000"
      ]
     },
     "execution_count": 56,
     "metadata": {},
     "output_type": "execute_result"
    }
   ],
   "source": [
    "# Feature importance\n",
    "feature_importance = pd.DataFrame(gb_model.feature_importances_,index = X.columns, columns = ['Feature score'])\n",
    "\n",
    "feature_importance['Feature score'] = feature_importance['Feature score'].apply(lambda x: f'{x:.8f}')\n",
    "\n",
    "# sorting the values in descending order\n",
    "feature_importance.sort_values(by = 'Feature score', ascending = False, inplace = True)\n",
    "feature_importance"
   ]
  }
 ],
 "metadata": {
  "kernelspec": {
   "display_name": "Python 3 (ipykernel)",
   "language": "python",
   "name": "python3"
  },
  "language_info": {
   "codemirror_mode": {
    "name": "ipython",
    "version": 3
   },
   "file_extension": ".py",
   "mimetype": "text/x-python",
   "name": "python",
   "nbconvert_exporter": "python",
   "pygments_lexer": "ipython3",
   "version": "3.11.5"
  }
 },
 "nbformat": 4,
 "nbformat_minor": 5
}

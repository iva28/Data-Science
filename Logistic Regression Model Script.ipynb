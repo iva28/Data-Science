{
 "cells": [
  {
   "cell_type": "markdown",
   "id": "90018c92",
   "metadata": {},
   "source": [
    "# Logistic regression model"
   ]
  },
  {
   "cell_type": "code",
   "execution_count": 1,
   "id": "382336e8",
   "metadata": {},
   "outputs": [],
   "source": [
    "import pandas as pd\n",
    "import matplotlib.pyplot as plt\n",
    "import seaborn as sn\n",
    "import numpy as np\n",
    "import joblib"
   ]
  },
  {
   "cell_type": "markdown",
   "id": "3c9af836",
   "metadata": {},
   "source": [
    "#### Importing training and testing sets"
   ]
  },
  {
   "cell_type": "code",
   "execution_count": 2,
   "id": "2023580e",
   "metadata": {},
   "outputs": [],
   "source": [
    "X_train = joblib.load('./datasets/X_train.joblib')\n",
    "X_test = joblib.load('./datasets/X_test.joblib')\n",
    "y_train = joblib.load('./datasets/y_train.joblib')\n",
    "y_test = joblib.load('./datasets/y_test.joblib')"
   ]
  },
  {
   "cell_type": "code",
   "execution_count": 3,
   "id": "649d364e",
   "metadata": {},
   "outputs": [
    {
     "data": {
      "text/html": [
       "<div>\n",
       "<style scoped>\n",
       "    .dataframe tbody tr th:only-of-type {\n",
       "        vertical-align: middle;\n",
       "    }\n",
       "\n",
       "    .dataframe tbody tr th {\n",
       "        vertical-align: top;\n",
       "    }\n",
       "\n",
       "    .dataframe thead th {\n",
       "        text-align: right;\n",
       "    }\n",
       "</style>\n",
       "<table border=\"1\" class=\"dataframe\">\n",
       "  <thead>\n",
       "    <tr style=\"text-align: right;\">\n",
       "      <th></th>\n",
       "      <th>BNUM_OUT</th>\n",
       "      <th>BNUM_IN</th>\n",
       "      <th>REV_OUT</th>\n",
       "      <th>USAGE_OUT_INT_DUR</th>\n",
       "      <th>USAGE_OUT_OFFNET_DUR</th>\n",
       "      <th>USAGE_OUT_ONNET_DUR</th>\n",
       "      <th>LNE_TENURE</th>\n",
       "      <th>Segment 1</th>\n",
       "      <th>Segment 2</th>\n",
       "      <th>Segment 3</th>\n",
       "      <th>Segment 5</th>\n",
       "    </tr>\n",
       "  </thead>\n",
       "  <tbody>\n",
       "    <tr>\n",
       "      <th>0</th>\n",
       "      <td>0.548670</td>\n",
       "      <td>0.618258</td>\n",
       "      <td>-0.791595</td>\n",
       "      <td>0.0</td>\n",
       "      <td>-0.737565</td>\n",
       "      <td>1.803933</td>\n",
       "      <td>-1.056235</td>\n",
       "      <td>-0.555267</td>\n",
       "      <td>1.516427</td>\n",
       "      <td>-0.429513</td>\n",
       "      <td>-0.663266</td>\n",
       "    </tr>\n",
       "    <tr>\n",
       "      <th>1</th>\n",
       "      <td>0.548670</td>\n",
       "      <td>0.713341</td>\n",
       "      <td>-0.349134</td>\n",
       "      <td>0.0</td>\n",
       "      <td>-0.117997</td>\n",
       "      <td>1.803933</td>\n",
       "      <td>0.692729</td>\n",
       "      <td>-0.555267</td>\n",
       "      <td>1.516427</td>\n",
       "      <td>-0.429513</td>\n",
       "      <td>-0.663266</td>\n",
       "    </tr>\n",
       "    <tr>\n",
       "      <th>2</th>\n",
       "      <td>1.817986</td>\n",
       "      <td>2.044500</td>\n",
       "      <td>2.305630</td>\n",
       "      <td>0.0</td>\n",
       "      <td>1.947230</td>\n",
       "      <td>-0.637988</td>\n",
       "      <td>1.310010</td>\n",
       "      <td>-0.555267</td>\n",
       "      <td>1.516427</td>\n",
       "      <td>-0.429513</td>\n",
       "      <td>-0.663266</td>\n",
       "    </tr>\n",
       "    <tr>\n",
       "      <th>3</th>\n",
       "      <td>1.471809</td>\n",
       "      <td>0.428092</td>\n",
       "      <td>-0.791595</td>\n",
       "      <td>0.0</td>\n",
       "      <td>-0.737565</td>\n",
       "      <td>1.803933</td>\n",
       "      <td>-1.159116</td>\n",
       "      <td>-0.555267</td>\n",
       "      <td>1.516427</td>\n",
       "      <td>-0.429513</td>\n",
       "      <td>-0.663266</td>\n",
       "    </tr>\n",
       "    <tr>\n",
       "      <th>4</th>\n",
       "      <td>2.164163</td>\n",
       "      <td>2.044500</td>\n",
       "      <td>-0.349134</td>\n",
       "      <td>0.0</td>\n",
       "      <td>0.501571</td>\n",
       "      <td>1.803933</td>\n",
       "      <td>1.447184</td>\n",
       "      <td>-0.555267</td>\n",
       "      <td>1.516427</td>\n",
       "      <td>-0.429513</td>\n",
       "      <td>-0.663266</td>\n",
       "    </tr>\n",
       "    <tr>\n",
       "      <th>...</th>\n",
       "      <td>...</td>\n",
       "      <td>...</td>\n",
       "      <td>...</td>\n",
       "      <td>...</td>\n",
       "      <td>...</td>\n",
       "      <td>...</td>\n",
       "      <td>...</td>\n",
       "      <td>...</td>\n",
       "      <td>...</td>\n",
       "      <td>...</td>\n",
       "      <td>...</td>\n",
       "    </tr>\n",
       "    <tr>\n",
       "      <th>3674</th>\n",
       "      <td>0.317886</td>\n",
       "      <td>0.998589</td>\n",
       "      <td>0.535788</td>\n",
       "      <td>0.0</td>\n",
       "      <td>0.914616</td>\n",
       "      <td>-0.237673</td>\n",
       "      <td>-1.124822</td>\n",
       "      <td>-0.555267</td>\n",
       "      <td>1.516427</td>\n",
       "      <td>-0.429513</td>\n",
       "      <td>-0.663266</td>\n",
       "    </tr>\n",
       "    <tr>\n",
       "      <th>3675</th>\n",
       "      <td>-0.720645</td>\n",
       "      <td>-0.617819</td>\n",
       "      <td>-0.349134</td>\n",
       "      <td>0.0</td>\n",
       "      <td>-0.737565</td>\n",
       "      <td>-0.718051</td>\n",
       "      <td>-0.473247</td>\n",
       "      <td>-0.555267</td>\n",
       "      <td>-0.659445</td>\n",
       "      <td>-0.429513</td>\n",
       "      <td>1.507691</td>\n",
       "    </tr>\n",
       "    <tr>\n",
       "      <th>3676</th>\n",
       "      <td>-0.836038</td>\n",
       "      <td>0.142844</td>\n",
       "      <td>-0.349134</td>\n",
       "      <td>0.0</td>\n",
       "      <td>-0.737565</td>\n",
       "      <td>-0.718051</td>\n",
       "      <td>-1.021942</td>\n",
       "      <td>-0.555267</td>\n",
       "      <td>-0.659445</td>\n",
       "      <td>-0.429513</td>\n",
       "      <td>1.507691</td>\n",
       "    </tr>\n",
       "    <tr>\n",
       "      <th>3677</th>\n",
       "      <td>2.164163</td>\n",
       "      <td>2.044500</td>\n",
       "      <td>-0.791595</td>\n",
       "      <td>0.0</td>\n",
       "      <td>-0.737565</td>\n",
       "      <td>1.803933</td>\n",
       "      <td>-0.679008</td>\n",
       "      <td>-0.555267</td>\n",
       "      <td>1.516427</td>\n",
       "      <td>-0.429513</td>\n",
       "      <td>-0.663266</td>\n",
       "    </tr>\n",
       "    <tr>\n",
       "      <th>3678</th>\n",
       "      <td>0.548670</td>\n",
       "      <td>-0.807984</td>\n",
       "      <td>-0.791595</td>\n",
       "      <td>0.0</td>\n",
       "      <td>-0.737565</td>\n",
       "      <td>1.803933</td>\n",
       "      <td>-1.159116</td>\n",
       "      <td>-0.555267</td>\n",
       "      <td>1.516427</td>\n",
       "      <td>-0.429513</td>\n",
       "      <td>-0.663266</td>\n",
       "    </tr>\n",
       "  </tbody>\n",
       "</table>\n",
       "<p>3679 rows × 11 columns</p>\n",
       "</div>"
      ],
      "text/plain": [
       "      BNUM_OUT   BNUM_IN   REV_OUT  USAGE_OUT_INT_DUR  USAGE_OUT_OFFNET_DUR  \\\n",
       "0     0.548670  0.618258 -0.791595                0.0             -0.737565   \n",
       "1     0.548670  0.713341 -0.349134                0.0             -0.117997   \n",
       "2     1.817986  2.044500  2.305630                0.0              1.947230   \n",
       "3     1.471809  0.428092 -0.791595                0.0             -0.737565   \n",
       "4     2.164163  2.044500 -0.349134                0.0              0.501571   \n",
       "...        ...       ...       ...                ...                   ...   \n",
       "3674  0.317886  0.998589  0.535788                0.0              0.914616   \n",
       "3675 -0.720645 -0.617819 -0.349134                0.0             -0.737565   \n",
       "3676 -0.836038  0.142844 -0.349134                0.0             -0.737565   \n",
       "3677  2.164163  2.044500 -0.791595                0.0             -0.737565   \n",
       "3678  0.548670 -0.807984 -0.791595                0.0             -0.737565   \n",
       "\n",
       "      USAGE_OUT_ONNET_DUR  LNE_TENURE  Segment 1  Segment 2  Segment 3  \\\n",
       "0                1.803933   -1.056235  -0.555267   1.516427  -0.429513   \n",
       "1                1.803933    0.692729  -0.555267   1.516427  -0.429513   \n",
       "2               -0.637988    1.310010  -0.555267   1.516427  -0.429513   \n",
       "3                1.803933   -1.159116  -0.555267   1.516427  -0.429513   \n",
       "4                1.803933    1.447184  -0.555267   1.516427  -0.429513   \n",
       "...                   ...         ...        ...        ...        ...   \n",
       "3674            -0.237673   -1.124822  -0.555267   1.516427  -0.429513   \n",
       "3675            -0.718051   -0.473247  -0.555267  -0.659445  -0.429513   \n",
       "3676            -0.718051   -1.021942  -0.555267  -0.659445  -0.429513   \n",
       "3677             1.803933   -0.679008  -0.555267   1.516427  -0.429513   \n",
       "3678             1.803933   -1.159116  -0.555267   1.516427  -0.429513   \n",
       "\n",
       "      Segment 5  \n",
       "0     -0.663266  \n",
       "1     -0.663266  \n",
       "2     -0.663266  \n",
       "3     -0.663266  \n",
       "4     -0.663266  \n",
       "...         ...  \n",
       "3674  -0.663266  \n",
       "3675   1.507691  \n",
       "3676   1.507691  \n",
       "3677  -0.663266  \n",
       "3678  -0.663266  \n",
       "\n",
       "[3679 rows x 11 columns]"
      ]
     },
     "execution_count": 3,
     "metadata": {},
     "output_type": "execute_result"
    }
   ],
   "source": [
    "X_train"
   ]
  },
  {
   "cell_type": "code",
   "execution_count": 4,
   "id": "c119040e",
   "metadata": {},
   "outputs": [
    {
     "data": {
      "text/plain": [
       "BNUM_OUT                0\n",
       "BNUM_IN                 0\n",
       "REV_OUT                 0\n",
       "USAGE_OUT_INT_DUR       0\n",
       "USAGE_OUT_OFFNET_DUR    0\n",
       "USAGE_OUT_ONNET_DUR     0\n",
       "LNE_TENURE              0\n",
       "Segment 1               0\n",
       "Segment 2               0\n",
       "Segment 3               0\n",
       "Segment 5               0\n",
       "dtype: int64"
      ]
     },
     "execution_count": 4,
     "metadata": {},
     "output_type": "execute_result"
    }
   ],
   "source": [
    "X_train.isna().sum().sort_values(ascending = False)"
   ]
  },
  {
   "cell_type": "markdown",
   "id": "caaefd98",
   "metadata": {},
   "source": [
    "###### Preview of training data"
   ]
  },
  {
   "cell_type": "code",
   "execution_count": 5,
   "id": "c065b26b",
   "metadata": {},
   "outputs": [
    {
     "data": {
      "text/html": [
       "<div>\n",
       "<style scoped>\n",
       "    .dataframe tbody tr th:only-of-type {\n",
       "        vertical-align: middle;\n",
       "    }\n",
       "\n",
       "    .dataframe tbody tr th {\n",
       "        vertical-align: top;\n",
       "    }\n",
       "\n",
       "    .dataframe thead th {\n",
       "        text-align: right;\n",
       "    }\n",
       "</style>\n",
       "<table border=\"1\" class=\"dataframe\">\n",
       "  <thead>\n",
       "    <tr style=\"text-align: right;\">\n",
       "      <th></th>\n",
       "      <th>BNUM_OUT</th>\n",
       "      <th>BNUM_IN</th>\n",
       "      <th>REV_OUT</th>\n",
       "      <th>USAGE_OUT_INT_DUR</th>\n",
       "      <th>USAGE_OUT_OFFNET_DUR</th>\n",
       "      <th>USAGE_OUT_ONNET_DUR</th>\n",
       "      <th>LNE_TENURE</th>\n",
       "      <th>Segment 1</th>\n",
       "      <th>Segment 2</th>\n",
       "      <th>Segment 3</th>\n",
       "      <th>Segment 5</th>\n",
       "    </tr>\n",
       "  </thead>\n",
       "  <tbody>\n",
       "    <tr>\n",
       "      <th>count</th>\n",
       "      <td>3.679000e+03</td>\n",
       "      <td>3.679000e+03</td>\n",
       "      <td>3.679000e+03</td>\n",
       "      <td>3679.0</td>\n",
       "      <td>3.679000e+03</td>\n",
       "      <td>3.679000e+03</td>\n",
       "      <td>3.679000e+03</td>\n",
       "      <td>3.679000e+03</td>\n",
       "      <td>3.679000e+03</td>\n",
       "      <td>3.679000e+03</td>\n",
       "      <td>3.679000e+03</td>\n",
       "    </tr>\n",
       "    <tr>\n",
       "      <th>mean</th>\n",
       "      <td>6.083745e-17</td>\n",
       "      <td>3.862695e-17</td>\n",
       "      <td>1.762355e-17</td>\n",
       "      <td>0.0</td>\n",
       "      <td>4.248964e-17</td>\n",
       "      <td>-3.862695e-17</td>\n",
       "      <td>1.245719e-16</td>\n",
       "      <td>-5.794042e-17</td>\n",
       "      <td>3.379858e-17</td>\n",
       "      <td>4.924936e-17</td>\n",
       "      <td>9.463603e-17</td>\n",
       "    </tr>\n",
       "    <tr>\n",
       "      <th>std</th>\n",
       "      <td>1.000136e+00</td>\n",
       "      <td>1.000136e+00</td>\n",
       "      <td>1.000136e+00</td>\n",
       "      <td>0.0</td>\n",
       "      <td>1.000136e+00</td>\n",
       "      <td>1.000136e+00</td>\n",
       "      <td>1.000136e+00</td>\n",
       "      <td>1.000136e+00</td>\n",
       "      <td>1.000136e+00</td>\n",
       "      <td>1.000136e+00</td>\n",
       "      <td>1.000136e+00</td>\n",
       "    </tr>\n",
       "    <tr>\n",
       "      <th>min</th>\n",
       "      <td>-9.514300e-01</td>\n",
       "      <td>-1.093233e+00</td>\n",
       "      <td>-7.915945e-01</td>\n",
       "      <td>0.0</td>\n",
       "      <td>-7.375648e-01</td>\n",
       "      <td>-7.180514e-01</td>\n",
       "      <td>-1.364876e+00</td>\n",
       "      <td>-5.552670e-01</td>\n",
       "      <td>-6.594448e-01</td>\n",
       "      <td>-4.295133e-01</td>\n",
       "      <td>-6.632660e-01</td>\n",
       "    </tr>\n",
       "    <tr>\n",
       "      <th>25%</th>\n",
       "      <td>-8.360376e-01</td>\n",
       "      <td>-8.079842e-01</td>\n",
       "      <td>-7.915945e-01</td>\n",
       "      <td>0.0</td>\n",
       "      <td>-7.375648e-01</td>\n",
       "      <td>-7.180514e-01</td>\n",
       "      <td>-9.533552e-01</td>\n",
       "      <td>-5.552670e-01</td>\n",
       "      <td>-6.594448e-01</td>\n",
       "      <td>-4.295133e-01</td>\n",
       "      <td>-6.632660e-01</td>\n",
       "    </tr>\n",
       "    <tr>\n",
       "      <th>50%</th>\n",
       "      <td>-3.744683e-01</td>\n",
       "      <td>-3.325701e-01</td>\n",
       "      <td>-3.491338e-01</td>\n",
       "      <td>0.0</td>\n",
       "      <td>-5.310422e-01</td>\n",
       "      <td>-5.979569e-01</td>\n",
       "      <td>-2.331934e-01</td>\n",
       "      <td>-5.552670e-01</td>\n",
       "      <td>-6.594448e-01</td>\n",
       "      <td>-4.295133e-01</td>\n",
       "      <td>-6.632660e-01</td>\n",
       "    </tr>\n",
       "    <tr>\n",
       "      <th>75%</th>\n",
       "      <td>5.486703e-01</td>\n",
       "      <td>6.182579e-01</td>\n",
       "      <td>5.357875e-01</td>\n",
       "      <td>0.0</td>\n",
       "      <td>5.015710e-01</td>\n",
       "      <td>5.629564e-01</td>\n",
       "      <td>9.670763e-01</td>\n",
       "      <td>-5.552670e-01</td>\n",
       "      <td>1.516427e+00</td>\n",
       "      <td>-4.295133e-01</td>\n",
       "      <td>1.507691e+00</td>\n",
       "    </tr>\n",
       "    <tr>\n",
       "      <th>max</th>\n",
       "      <td>2.164163e+00</td>\n",
       "      <td>2.044500e+00</td>\n",
       "      <td>2.305630e+00</td>\n",
       "      <td>0.0</td>\n",
       "      <td>1.947230e+00</td>\n",
       "      <td>1.803933e+00</td>\n",
       "      <td>1.481478e+00</td>\n",
       "      <td>1.800935e+00</td>\n",
       "      <td>1.516427e+00</td>\n",
       "      <td>2.328217e+00</td>\n",
       "      <td>1.507691e+00</td>\n",
       "    </tr>\n",
       "  </tbody>\n",
       "</table>\n",
       "</div>"
      ],
      "text/plain": [
       "           BNUM_OUT       BNUM_IN       REV_OUT  USAGE_OUT_INT_DUR  \\\n",
       "count  3.679000e+03  3.679000e+03  3.679000e+03             3679.0   \n",
       "mean   6.083745e-17  3.862695e-17  1.762355e-17                0.0   \n",
       "std    1.000136e+00  1.000136e+00  1.000136e+00                0.0   \n",
       "min   -9.514300e-01 -1.093233e+00 -7.915945e-01                0.0   \n",
       "25%   -8.360376e-01 -8.079842e-01 -7.915945e-01                0.0   \n",
       "50%   -3.744683e-01 -3.325701e-01 -3.491338e-01                0.0   \n",
       "75%    5.486703e-01  6.182579e-01  5.357875e-01                0.0   \n",
       "max    2.164163e+00  2.044500e+00  2.305630e+00                0.0   \n",
       "\n",
       "       USAGE_OUT_OFFNET_DUR  USAGE_OUT_ONNET_DUR    LNE_TENURE     Segment 1  \\\n",
       "count          3.679000e+03         3.679000e+03  3.679000e+03  3.679000e+03   \n",
       "mean           4.248964e-17        -3.862695e-17  1.245719e-16 -5.794042e-17   \n",
       "std            1.000136e+00         1.000136e+00  1.000136e+00  1.000136e+00   \n",
       "min           -7.375648e-01        -7.180514e-01 -1.364876e+00 -5.552670e-01   \n",
       "25%           -7.375648e-01        -7.180514e-01 -9.533552e-01 -5.552670e-01   \n",
       "50%           -5.310422e-01        -5.979569e-01 -2.331934e-01 -5.552670e-01   \n",
       "75%            5.015710e-01         5.629564e-01  9.670763e-01 -5.552670e-01   \n",
       "max            1.947230e+00         1.803933e+00  1.481478e+00  1.800935e+00   \n",
       "\n",
       "          Segment 2     Segment 3     Segment 5  \n",
       "count  3.679000e+03  3.679000e+03  3.679000e+03  \n",
       "mean   3.379858e-17  4.924936e-17  9.463603e-17  \n",
       "std    1.000136e+00  1.000136e+00  1.000136e+00  \n",
       "min   -6.594448e-01 -4.295133e-01 -6.632660e-01  \n",
       "25%   -6.594448e-01 -4.295133e-01 -6.632660e-01  \n",
       "50%   -6.594448e-01 -4.295133e-01 -6.632660e-01  \n",
       "75%    1.516427e+00 -4.295133e-01  1.507691e+00  \n",
       "max    1.516427e+00  2.328217e+00  1.507691e+00  "
      ]
     },
     "execution_count": 5,
     "metadata": {},
     "output_type": "execute_result"
    }
   ],
   "source": [
    "X_train.describe()"
   ]
  },
  {
   "cell_type": "markdown",
   "id": "2a21b0ae",
   "metadata": {},
   "source": [
    "#### Finding the categorical variables"
   ]
  },
  {
   "cell_type": "code",
   "execution_count": 6,
   "id": "be5992e9",
   "metadata": {},
   "outputs": [
    {
     "name": "stdout",
     "output_type": "stream",
     "text": [
      "There are 0 categorical variables\n",
      "Categorical variables are:  []\n"
     ]
    }
   ],
   "source": [
    "categorical = [var for var in X_train.columns if X_train[var].dtype == 'O']\n",
    "print('There are {} categorical variables'.format(len(categorical)))\n",
    "print('Categorical variables are: ', categorical)"
   ]
  },
  {
   "cell_type": "markdown",
   "id": "1c118761",
   "metadata": {},
   "source": [
    "#### Finding the categorical variables"
   ]
  },
  {
   "cell_type": "code",
   "execution_count": 7,
   "id": "3e47bfd1",
   "metadata": {},
   "outputs": [
    {
     "name": "stdout",
     "output_type": "stream",
     "text": [
      "There are 11 numerical variables\n",
      "Numerical variables are:  ['BNUM_OUT', 'BNUM_IN', 'REV_OUT', 'USAGE_OUT_INT_DUR', 'USAGE_OUT_OFFNET_DUR', 'USAGE_OUT_ONNET_DUR', 'LNE_TENURE', 'Segment 1', 'Segment 2', 'Segment 3', 'Segment 5']\n"
     ]
    }
   ],
   "source": [
    "numerical = [var for var in X_train.columns if X_train[var].dtype != 'O']\n",
    "print('There are {} numerical variables'.format(len(numerical)))\n",
    "print('Numerical variables are: ', numerical)"
   ]
  },
  {
   "cell_type": "code",
   "execution_count": 8,
   "id": "506f1320",
   "metadata": {},
   "outputs": [
    {
     "data": {
      "text/html": [
       "<div>\n",
       "<style scoped>\n",
       "    .dataframe tbody tr th:only-of-type {\n",
       "        vertical-align: middle;\n",
       "    }\n",
       "\n",
       "    .dataframe tbody tr th {\n",
       "        vertical-align: top;\n",
       "    }\n",
       "\n",
       "    .dataframe thead th {\n",
       "        text-align: right;\n",
       "    }\n",
       "</style>\n",
       "<table border=\"1\" class=\"dataframe\">\n",
       "  <thead>\n",
       "    <tr style=\"text-align: right;\">\n",
       "      <th></th>\n",
       "      <th>BNUM_OUT</th>\n",
       "      <th>BNUM_IN</th>\n",
       "      <th>REV_OUT</th>\n",
       "      <th>USAGE_OUT_INT_DUR</th>\n",
       "      <th>USAGE_OUT_OFFNET_DUR</th>\n",
       "      <th>USAGE_OUT_ONNET_DUR</th>\n",
       "      <th>LNE_TENURE</th>\n",
       "      <th>Segment 1</th>\n",
       "      <th>Segment 2</th>\n",
       "      <th>Segment 3</th>\n",
       "      <th>Segment 5</th>\n",
       "    </tr>\n",
       "  </thead>\n",
       "  <tbody>\n",
       "    <tr>\n",
       "      <th>0</th>\n",
       "      <td>0.548670</td>\n",
       "      <td>0.618258</td>\n",
       "      <td>-0.791595</td>\n",
       "      <td>0.0</td>\n",
       "      <td>-0.737565</td>\n",
       "      <td>1.803933</td>\n",
       "      <td>-1.056235</td>\n",
       "      <td>-0.555267</td>\n",
       "      <td>1.516427</td>\n",
       "      <td>-0.429513</td>\n",
       "      <td>-0.663266</td>\n",
       "    </tr>\n",
       "    <tr>\n",
       "      <th>1</th>\n",
       "      <td>0.548670</td>\n",
       "      <td>0.713341</td>\n",
       "      <td>-0.349134</td>\n",
       "      <td>0.0</td>\n",
       "      <td>-0.117997</td>\n",
       "      <td>1.803933</td>\n",
       "      <td>0.692729</td>\n",
       "      <td>-0.555267</td>\n",
       "      <td>1.516427</td>\n",
       "      <td>-0.429513</td>\n",
       "      <td>-0.663266</td>\n",
       "    </tr>\n",
       "    <tr>\n",
       "      <th>2</th>\n",
       "      <td>1.817986</td>\n",
       "      <td>2.044500</td>\n",
       "      <td>2.305630</td>\n",
       "      <td>0.0</td>\n",
       "      <td>1.947230</td>\n",
       "      <td>-0.637988</td>\n",
       "      <td>1.310010</td>\n",
       "      <td>-0.555267</td>\n",
       "      <td>1.516427</td>\n",
       "      <td>-0.429513</td>\n",
       "      <td>-0.663266</td>\n",
       "    </tr>\n",
       "    <tr>\n",
       "      <th>3</th>\n",
       "      <td>1.471809</td>\n",
       "      <td>0.428092</td>\n",
       "      <td>-0.791595</td>\n",
       "      <td>0.0</td>\n",
       "      <td>-0.737565</td>\n",
       "      <td>1.803933</td>\n",
       "      <td>-1.159116</td>\n",
       "      <td>-0.555267</td>\n",
       "      <td>1.516427</td>\n",
       "      <td>-0.429513</td>\n",
       "      <td>-0.663266</td>\n",
       "    </tr>\n",
       "    <tr>\n",
       "      <th>4</th>\n",
       "      <td>2.164163</td>\n",
       "      <td>2.044500</td>\n",
       "      <td>-0.349134</td>\n",
       "      <td>0.0</td>\n",
       "      <td>0.501571</td>\n",
       "      <td>1.803933</td>\n",
       "      <td>1.447184</td>\n",
       "      <td>-0.555267</td>\n",
       "      <td>1.516427</td>\n",
       "      <td>-0.429513</td>\n",
       "      <td>-0.663266</td>\n",
       "    </tr>\n",
       "  </tbody>\n",
       "</table>\n",
       "</div>"
      ],
      "text/plain": [
       "   BNUM_OUT   BNUM_IN   REV_OUT  USAGE_OUT_INT_DUR  USAGE_OUT_OFFNET_DUR  \\\n",
       "0  0.548670  0.618258 -0.791595                0.0             -0.737565   \n",
       "1  0.548670  0.713341 -0.349134                0.0             -0.117997   \n",
       "2  1.817986  2.044500  2.305630                0.0              1.947230   \n",
       "3  1.471809  0.428092 -0.791595                0.0             -0.737565   \n",
       "4  2.164163  2.044500 -0.349134                0.0              0.501571   \n",
       "\n",
       "   USAGE_OUT_ONNET_DUR  LNE_TENURE  Segment 1  Segment 2  Segment 3  Segment 5  \n",
       "0             1.803933   -1.056235  -0.555267   1.516427  -0.429513  -0.663266  \n",
       "1             1.803933    0.692729  -0.555267   1.516427  -0.429513  -0.663266  \n",
       "2            -0.637988    1.310010  -0.555267   1.516427  -0.429513  -0.663266  \n",
       "3             1.803933   -1.159116  -0.555267   1.516427  -0.429513  -0.663266  \n",
       "4             1.803933    1.447184  -0.555267   1.516427  -0.429513  -0.663266  "
      ]
     },
     "execution_count": 8,
     "metadata": {},
     "output_type": "execute_result"
    }
   ],
   "source": [
    "X_train[numerical].head()"
   ]
  },
  {
   "cell_type": "code",
   "execution_count": 9,
   "id": "94729132",
   "metadata": {},
   "outputs": [
    {
     "data": {
      "text/plain": [
       "BNUM_OUT                0\n",
       "BNUM_IN                 0\n",
       "REV_OUT                 0\n",
       "USAGE_OUT_INT_DUR       0\n",
       "USAGE_OUT_OFFNET_DUR    0\n",
       "USAGE_OUT_ONNET_DUR     0\n",
       "LNE_TENURE              0\n",
       "Segment 1               0\n",
       "Segment 2               0\n",
       "Segment 3               0\n",
       "Segment 5               0\n",
       "dtype: int64"
      ]
     },
     "execution_count": 9,
     "metadata": {},
     "output_type": "execute_result"
    }
   ],
   "source": [
    "X_train[numerical].isnull().sum().sort_values(ascending = False)"
   ]
  },
  {
   "cell_type": "markdown",
   "id": "1c454c62",
   "metadata": {},
   "source": [
    "###### Summary statistics in the numerical variables"
   ]
  },
  {
   "cell_type": "code",
   "execution_count": 10,
   "id": "a2a25810",
   "metadata": {},
   "outputs": [
    {
     "name": "stdout",
     "output_type": "stream",
     "text": [
      "       BNUM_OUT  BNUM_IN  REV_OUT  USAGE_OUT_INT_DUR  USAGE_OUT_OFFNET_DUR  \\\n",
      "count   3679.00  3679.00  3679.00             3679.0               3679.00   \n",
      "mean       0.00     0.00     0.00                0.0                  0.00   \n",
      "std        1.00     1.00     1.00                0.0                  1.00   \n",
      "min       -0.95    -1.09    -0.79                0.0                 -0.74   \n",
      "25%       -0.84    -0.81    -0.79                0.0                 -0.74   \n",
      "50%       -0.37    -0.33    -0.35                0.0                 -0.53   \n",
      "75%        0.55     0.62     0.54                0.0                  0.50   \n",
      "max        2.16     2.04     2.31                0.0                  1.95   \n",
      "\n",
      "       USAGE_OUT_ONNET_DUR  LNE_TENURE  Segment 1  Segment 2  Segment 3  \\\n",
      "count              3679.00     3679.00    3679.00    3679.00    3679.00   \n",
      "mean                 -0.00        0.00      -0.00       0.00       0.00   \n",
      "std                   1.00        1.00       1.00       1.00       1.00   \n",
      "min                  -0.72       -1.36      -0.56      -0.66      -0.43   \n",
      "25%                  -0.72       -0.95      -0.56      -0.66      -0.43   \n",
      "50%                  -0.60       -0.23      -0.56      -0.66      -0.43   \n",
      "75%                   0.56        0.97      -0.56       1.52      -0.43   \n",
      "max                   1.80        1.48       1.80       1.52       2.33   \n",
      "\n",
      "       Segment 5  \n",
      "count    3679.00  \n",
      "mean        0.00  \n",
      "std         1.00  \n",
      "min        -0.66  \n",
      "25%        -0.66  \n",
      "50%        -0.66  \n",
      "75%         1.51  \n",
      "max         1.51  \n"
     ]
    }
   ],
   "source": [
    "print(round(X_train[numerical].describe(),2))"
   ]
  },
  {
   "cell_type": "code",
   "execution_count": 11,
   "id": "cc9b1fb9",
   "metadata": {},
   "outputs": [
    {
     "data": {
      "text/plain": [
       "CHURN\n",
       "0    76.35227\n",
       "1    23.64773\n",
       "Name: count, dtype: float64"
      ]
     },
     "execution_count": 11,
     "metadata": {},
     "output_type": "execute_result"
    }
   ],
   "source": [
    "y_train.value_counts()/len(X_train) * 100\n",
    "# imbalanced data set"
   ]
  },
  {
   "cell_type": "markdown",
   "id": "577f02dd",
   "metadata": {},
   "source": [
    "##### Examining linear correlation between variables and variable CHURN"
   ]
  },
  {
   "cell_type": "code",
   "execution_count": 12,
   "id": "8fd181b4",
   "metadata": {},
   "outputs": [],
   "source": [
    "import warnings\n",
    "from scipy import stats\n",
    "warnings.filterwarnings(\"ignore\", category=UserWarning, module=\"numpy.lib.function_base\")\n",
    "warnings.filterwarnings(\"ignore\", category=stats.ConstantInputWarning)"
   ]
  },
  {
   "cell_type": "code",
   "execution_count": 13,
   "id": "80866dd1",
   "metadata": {},
   "outputs": [
    {
     "name": "stdout",
     "output_type": "stream",
     "text": [
      "Point-Biserial correlation between CHURN and BNUM_OUT: -0.27\n",
      "P-value:  0.0000\n",
      "Point-Biserial correlation between CHURN and BNUM_IN: -0.35\n",
      "P-value:  0.0000\n",
      "Point-Biserial correlation between CHURN and REV_OUT: -0.18\n",
      "P-value:  0.0000\n",
      "Point-Biserial correlation between CHURN and USAGE_OUT_INT_DUR:  nan\n",
      "P-value:  nan\n",
      "Point-Biserial correlation between CHURN and USAGE_OUT_OFFNET_DUR: -0.19\n",
      "P-value:  0.0000\n",
      "Point-Biserial correlation between CHURN and USAGE_OUT_ONNET_DUR: -0.21\n",
      "P-value:  0.0000\n",
      "Point-Biserial correlation between CHURN and LNE_TENURE: -0.07\n",
      "P-value:  0.0001\n",
      "Point-Biserial correlation between CHURN and Segment 1:  1.00\n",
      "P-value:  0.0000\n",
      "Point-Biserial correlation between CHURN and Segment 2: -0.37\n",
      "P-value:  0.0000\n",
      "Point-Biserial correlation between CHURN and Segment 3: -0.24\n",
      "P-value:  0.0000\n",
      "Point-Biserial correlation between CHURN and Segment 5: -0.37\n",
      "P-value:  0.0000\n"
     ]
    }
   ],
   "source": [
    "from scipy.stats import pointbiserialr\n",
    "for column in X_train.columns:\n",
    "    if column != 'CHURN' and column != 'Segment':\n",
    "        corr, p_value = pointbiserialr(y_train, X_train[column])\n",
    "        print(f\"Point-Biserial correlation between CHURN and {column}: {corr: .2f}\")\n",
    "        print(f\"P-value: {p_value: .4f}\")\n",
    "\n",
    "# there are statistically important linear correlations between numerical independent variables and dependent variable CHURN"
   ]
  },
  {
   "cell_type": "markdown",
   "id": "100fa1d8",
   "metadata": {},
   "source": [
    "###### Checking for multicollinearity"
   ]
  },
  {
   "cell_type": "code",
   "execution_count": 14,
   "id": "68329b83",
   "metadata": {},
   "outputs": [
    {
     "data": {
      "image/png": "[encoded data removed]",
      "text/plain": [
       "<Figure size 600x300 with 2 Axes>"
      ]
     },
     "metadata": {},
     "output_type": "display_data"
    }
   ],
   "source": [
    "numerical_data = X_train\n",
    "corr_matrix = numerical_data.corr()\n",
    "\n",
    "plt.figure(figsize = (6,3))\n",
    "sn.heatmap(corr_matrix, annot = True, cmap = 'coolwarm', linewidth = 0.5)\n",
    "plt.title('Correlation matrix')\n",
    "plt.show()\n",
    "# no multicollinearity"
   ]
  },
  {
   "cell_type": "markdown",
   "id": "a8ae1766",
   "metadata": {},
   "source": [
    "#### Creating and fitting Logistic regression model on the training set"
   ]
  },
  {
   "cell_type": "code",
   "execution_count": 15,
   "id": "8ecb6619",
   "metadata": {},
   "outputs": [
    {
     "data": {
      "text/html": [
       "<style>#sk-container-id-1 {color: black;}#sk-container-id-1 pre{padding: 0;}#sk-container-id-1 div.sk-toggleable {background-color: white;}#sk-container-id-1 label.sk-toggleable__label {cursor: pointer;display: block;width: 100%;margin-bottom: 0;padding: 0.3em;box-sizing: border-box;text-align: center;}#sk-container-id-1 label.sk-toggleable__label-arrow:before {content: \"▸\";float: left;margin-right: 0.25em;color: #696969;}#sk-container-id-1 label.sk-toggleable__label-arrow:hover:before {color: black;}#sk-container-id-1 div.sk-estimator:hover label.sk-toggleable__label-arrow:before {color: black;}#sk-container-id-1 div.sk-toggleable__content {max-height: 0;max-width: 0;overflow: hidden;text-align: left;background-color: #f0f8ff;}#sk-container-id-1 div.sk-toggleable__content pre {margin: 0.2em;color: black;border-radius: 0.25em;background-color: #f0f8ff;}#sk-container-id-1 input.sk-toggleable__control:checked~div.sk-toggleable__content {max-height: 200px;max-width: 100%;overflow: auto;}#sk-container-id-1 input.sk-toggleable__control:checked~label.sk-toggleable__label-arrow:before {content: \"▾\";}#sk-container-id-1 div.sk-estimator input.sk-toggleable__control:checked~label.sk-toggleable__label {background-color: #d4ebff;}#sk-container-id-1 div.sk-label input.sk-toggleable__control:checked~label.sk-toggleable__label {background-color: #d4ebff;}#sk-container-id-1 input.sk-hidden--visually {border: 0;clip: rect(1px 1px 1px 1px);clip: rect(1px, 1px, 1px, 1px);height: 1px;margin: -1px;overflow: hidden;padding: 0;position: absolute;width: 1px;}#sk-container-id-1 div.sk-estimator {font-family: monospace;background-color: #f0f8ff;border: 1px dotted black;border-radius: 0.25em;box-sizing: border-box;margin-bottom: 0.5em;}#sk-container-id-1 div.sk-estimator:hover {background-color: #d4ebff;}#sk-container-id-1 div.sk-parallel-item::after {content: \"\";width: 100%;border-bottom: 1px solid gray;flex-grow: 1;}#sk-container-id-1 div.sk-label:hover label.sk-toggleable__label {background-color: #d4ebff;}#sk-container-id-1 div.sk-serial::before {content: \"\";position: absolute;border-left: 1px solid gray;box-sizing: border-box;top: 0;bottom: 0;left: 50%;z-index: 0;}#sk-container-id-1 div.sk-serial {display: flex;flex-direction: column;align-items: center;background-color: white;padding-right: 0.2em;padding-left: 0.2em;position: relative;}#sk-container-id-1 div.sk-item {position: relative;z-index: 1;}#sk-container-id-1 div.sk-parallel {display: flex;align-items: stretch;justify-content: center;background-color: white;position: relative;}#sk-container-id-1 div.sk-item::before, #sk-container-id-1 div.sk-parallel-item::before {content: \"\";position: absolute;border-left: 1px solid gray;box-sizing: border-box;top: 0;bottom: 0;left: 50%;z-index: -1;}#sk-container-id-1 div.sk-parallel-item {display: flex;flex-direction: column;z-index: 1;position: relative;background-color: white;}#sk-container-id-1 div.sk-parallel-item:first-child::after {align-self: flex-end;width: 50%;}#sk-container-id-1 div.sk-parallel-item:last-child::after {align-self: flex-start;width: 50%;}#sk-container-id-1 div.sk-parallel-item:only-child::after {width: 0;}#sk-container-id-1 div.sk-dashed-wrapped {border: 1px dashed gray;margin: 0 0.4em 0.5em 0.4em;box-sizing: border-box;padding-bottom: 0.4em;background-color: white;}#sk-container-id-1 div.sk-label label {font-family: monospace;font-weight: bold;display: inline-block;line-height: 1.2em;}#sk-container-id-1 div.sk-label-container {text-align: center;}#sk-container-id-1 div.sk-container {/* jupyter's `normalize.less` sets `[hidden] { display: none; }` but bootstrap.min.css set `[hidden] { display: none !important; }` so we also need the `!important` here to be able to override the default hidden behavior on the sphinx rendered scikit-learn.org. See: https://github.com/scikit-learn/scikit-learn/issues/21755 */display: inline-block !important;position: relative;}#sk-container-id-1 div.sk-text-repr-fallback {display: none;}</style><div id=\"sk-container-id-1\" class=\"sk-top-container\"><div class=\"sk-text-repr-fallback\"><pre>LogisticRegression(random_state=0, solver=&#x27;liblinear&#x27;)</pre><b>In a Jupyter environment, please rerun this cell to show the HTML representation or trust the notebook. <br />On GitHub, the HTML representation is unable to render, please try loading this page with nbviewer.org.</b></div><div class=\"sk-container\" hidden><div class=\"sk-item\"><div class=\"sk-estimator sk-toggleable\"><input class=\"sk-toggleable__control sk-hidden--visually\" id=\"sk-estimator-id-1\" type=\"checkbox\" checked><label for=\"sk-estimator-id-1\" class=\"sk-toggleable__label sk-toggleable__label-arrow\">LogisticRegression</label><div class=\"sk-toggleable__content\"><pre>LogisticRegression(random_state=0, solver=&#x27;liblinear&#x27;)</pre></div></div></div></div></div>"
      ],
      "text/plain": [
       "LogisticRegression(random_state=0, solver='liblinear')"
      ]
     },
     "execution_count": 15,
     "metadata": {},
     "output_type": "execute_result"
    }
   ],
   "source": [
    "from sklearn.linear_model import LogisticRegression\n",
    "\n",
    "model = LogisticRegression(solver = 'liblinear', random_state = 0)\n",
    "\n",
    "model.fit(X_train,y_train)"
   ]
  },
  {
   "cell_type": "markdown",
   "id": "5d3cbba7",
   "metadata": {},
   "source": [
    "###### Getting coefficients"
   ]
  },
  {
   "cell_type": "code",
   "execution_count": 16,
   "id": "6f87862a",
   "metadata": {},
   "outputs": [
    {
     "name": "stdout",
     "output_type": "stream",
     "text": [
      "                Variable  Coefficient  Absolute_Coefficient\n",
      "7              Segment 1     4.260597              4.260597\n",
      "8              Segment 2    -1.766944              1.766944\n",
      "9              Segment 3    -1.215980              1.215980\n",
      "10             Segment 5    -1.205424              1.205424\n",
      "2                REV_OUT     0.294811              0.294811\n",
      "0               BNUM_OUT     0.263446              0.263446\n",
      "6             LNE_TENURE    -0.164798              0.164798\n",
      "5    USAGE_OUT_ONNET_DUR     0.150735              0.150735\n",
      "1                BNUM_IN     0.077818              0.077818\n",
      "4   USAGE_OUT_OFFNET_DUR    -0.022497              0.022497\n",
      "3      USAGE_OUT_INT_DUR     0.000000              0.000000\n"
     ]
    }
   ],
   "source": [
    "coef = model.coef_[0]\n",
    "coef_data_frame = pd.DataFrame({'Variable': X_train.columns, 'Coefficient': coef})\n",
    "coef_data_frame['Absolute_Coefficient'] = abs(coef_data_frame['Coefficient'])\n",
    "coef_data_frame = coef_data_frame.sort_values(by = 'Absolute_Coefficient', ascending = False)\n",
    "print(coef_data_frame)"
   ]
  },
  {
   "cell_type": "markdown",
   "id": "62f404e9",
   "metadata": {},
   "source": [
    "##### Predicting CHURN variable "
   ]
  },
  {
   "cell_type": "code",
   "execution_count": 17,
   "id": "d06eb572",
   "metadata": {},
   "outputs": [
    {
     "data": {
      "text/plain": [
       "array([1, 0, 0, 1, 0, 0, 0, 0, 1, 0, 1, 0, 0, 0, 1, 1, 0, 1, 0, 0],\n",
       "      dtype=int64)"
      ]
     },
     "execution_count": 17,
     "metadata": {},
     "output_type": "execute_result"
    }
   ],
   "source": [
    "y_pred = model.predict(X_test)\n",
    "y_pred[:20]"
   ]
  },
  {
   "cell_type": "code",
   "execution_count": 18,
   "id": "191f49ac",
   "metadata": {},
   "outputs": [
    {
     "data": {
      "text/plain": [
       "array([[1.44520052e-03, 9.98554799e-01],\n",
       "       [9.99123221e-01, 8.76779134e-04],\n",
       "       [9.98288491e-01, 1.71150880e-03],\n",
       "       ...,\n",
       "       [9.98447441e-01, 1.55255897e-03],\n",
       "       [9.99125967e-01, 8.74032748e-04],\n",
       "       [9.96653181e-01, 3.34681923e-03]])"
      ]
     },
     "execution_count": 18,
     "metadata": {},
     "output_type": "execute_result"
    }
   ],
   "source": [
    "# probabilities for the target variable 0 - remains subscriber, 1 - leaves the company\n",
    "y_prob = model.predict_proba(X_test)\n",
    "y_prob"
   ]
  },
  {
   "cell_type": "markdown",
   "id": "7dce568a",
   "metadata": {},
   "source": [
    "##### Plotting model"
   ]
  },
  {
   "cell_type": "code",
   "execution_count": 19,
   "id": "a1e78bca",
   "metadata": {},
   "outputs": [
    {
     "data": {
      "text/plain": [
       "<Axes: xlabel='BNUM_OUT', ylabel='CHURN'>"
      ]
     },
     "execution_count": 19,
     "metadata": {},
     "output_type": "execute_result"
    },
    {
     "data": {
      "image/png": "[encoded data removed]",
      "text/plain": [
       "<Figure size 800x300 with 1 Axes>"
      ]
     },
     "metadata": {},
     "output_type": "display_data"
    }
   ],
   "source": [
    "plt.figure(figsize=(8,3))\n",
    "sn.regplot(x=X_train.BNUM_OUT, y=y_train, logistic=True, ci=None)"
   ]
  },
  {
   "cell_type": "markdown",
   "id": "aad71e64",
   "metadata": {},
   "source": [
    "##### Checking for accuracy of the created model"
   ]
  },
  {
   "cell_type": "code",
   "execution_count": 20,
   "id": "8662062f",
   "metadata": {},
   "outputs": [
    {
     "name": "stdout",
     "output_type": "stream",
     "text": [
      "Model accuracy score: 99.6739\n"
     ]
    }
   ],
   "source": [
    "from sklearn.metrics import accuracy_score\n",
    "acc_score = accuracy_score(y_test, y_pred) * 100\n",
    "\n",
    "print('Model accuracy score: {0:0.4f}'.format(acc_score))"
   ]
  },
  {
   "cell_type": "markdown",
   "id": "7881509c",
   "metadata": {},
   "source": [
    "##### Checking overfitting of the model"
   ]
  },
  {
   "cell_type": "code",
   "execution_count": 21,
   "id": "6111cee9",
   "metadata": {},
   "outputs": [
    {
     "name": "stdout",
     "output_type": "stream",
     "text": [
      "Training set score: 0.9992\n",
      "Test set score: 0.9967\n"
     ]
    }
   ],
   "source": [
    "print('Training set score: {:.4f}'.format(model.score(X_train, y_train)))\n",
    "print('Test set score: {:.4f}'.format(model.score(X_test, y_test)))\n",
    "\n",
    "# values are identical therefore there is no overfitting"
   ]
  },
  {
   "cell_type": "markdown",
   "id": "372cc825",
   "metadata": {},
   "source": [
    "##### Confusion matrix"
   ]
  },
  {
   "cell_type": "code",
   "execution_count": 22,
   "id": "bcbdf811",
   "metadata": {},
   "outputs": [
    {
     "name": "stdout",
     "output_type": "stream",
     "text": [
      "Confusion matrix\n",
      "\n",
      " [[703   0]\n",
      " [  3 214]]\n",
      "\n",
      "True Positives(TP) =  703\n",
      "\n",
      "True Negatives(TN) =  214\n",
      "\n",
      "False Positives(FP) =  0\n",
      "\n",
      "False Negatives(FN) =  3\n"
     ]
    },
    {
     "data": {
      "text/plain": [
       "<Figure size 200x200 with 0 Axes>"
      ]
     },
     "metadata": {},
     "output_type": "display_data"
    },
    {
     "data": {
      "image/png": "[encoded data removed]",
      "text/plain": [
       "<Figure size 640x480 with 2 Axes>"
      ]
     },
     "metadata": {},
     "output_type": "display_data"
    }
   ],
   "source": [
    "from sklearn.metrics import confusion_matrix, ConfusionMatrixDisplay\n",
    "\n",
    "cm = confusion_matrix(y_test, y_pred)\n",
    "cm_display = ConfusionMatrixDisplay(confusion_matrix = cm)\n",
    "\n",
    "plt.figure(figsize=(2,2))\n",
    "cm_display.plot()\n",
    "\n",
    "print('Confusion matrix\\n\\n', cm)\n",
    "\n",
    "print('\\nTrue Positives(TP) = ', cm[0,0])\n",
    "print('\\nTrue Negatives(TN) = ', cm[1,1])\n",
    "print('\\nFalse Positives(FP) = ', cm[0,1])\n",
    "print('\\nFalse Negatives(FN) = ', cm[1,0])"
   ]
  },
  {
   "cell_type": "markdown",
   "id": "c69df395",
   "metadata": {},
   "source": [
    "##### Evaluating classification metrics"
   ]
  },
  {
   "cell_type": "code",
   "execution_count": 24,
   "id": "63201051",
   "metadata": {},
   "outputs": [
    {
     "name": "stdout",
     "output_type": "stream",
     "text": [
      "              precision    recall  f1-score   support\n",
      "\n",
      "           0       1.00      1.00      1.00       703\n",
      "           1       1.00      0.99      0.99       217\n",
      "\n",
      "    accuracy                           1.00       920\n",
      "   macro avg       1.00      0.99      1.00       920\n",
      "weighted avg       1.00      1.00      1.00       920\n",
      "\n"
     ]
    }
   ],
   "source": [
    "from sklearn.metrics import classification_report\n",
    "print(classification_report(y_test,y_pred))"
   ]
  },
  {
   "cell_type": "markdown",
   "id": "8d47f6f6",
   "metadata": {},
   "source": [
    "#### Classification accuracy and classification error"
   ]
  },
  {
   "cell_type": "code",
   "execution_count": 25,
   "id": "9d2a14a5",
   "metadata": {},
   "outputs": [
    {
     "name": "stdout",
     "output_type": "stream",
     "text": [
      "Classification accuracy : 99.674%\n",
      "Classification error : 0.326%\n"
     ]
    }
   ],
   "source": [
    "TP = cm[0,0]\n",
    "TN = cm[1,1]\n",
    "FP = cm[0,1]\n",
    "FN = cm[1,0]\n",
    "\n",
    "classification_accuracy = (TP + TN) / float(TP + TN + FP + FN) *  100\n",
    "classification_error = (FP + FN) / float(TP + TN + FP + FN) * 100\n",
    "\n",
    "print('Classification accuracy : {0:0.3f}%'.format(classification_accuracy))\n",
    "print('Classification error : {0:0.3f}%'.format(classification_error))"
   ]
  },
  {
   "cell_type": "markdown",
   "id": "78fb647a",
   "metadata": {},
   "source": [
    "##### Precision score (0 is positive class - subscriber hasn't left the company)"
   ]
  },
  {
   "cell_type": "code",
   "execution_count": 26,
   "id": "4d67362c",
   "metadata": {},
   "outputs": [
    {
     "name": "stdout",
     "output_type": "stream",
     "text": [
      "Precision : 99.575%\n"
     ]
    }
   ],
   "source": [
    "precision = TP / float(TP+FN) * 100\n",
    "print('Precision : {0:0.3f}%'.format(precision))\n",
    "\n",
    "# Only for 3 subscribers we have falsely predicted they would stay in the company, in reality they have left"
   ]
  },
  {
   "cell_type": "markdown",
   "id": "4cdbd9fb",
   "metadata": {},
   "source": [
    "##### Recall score (0 is positive class - customer hasn't left the company)"
   ]
  },
  {
   "cell_type": "code",
   "execution_count": 27,
   "id": "f058b4fa",
   "metadata": {},
   "outputs": [
    {
     "name": "stdout",
     "output_type": "stream",
     "text": [
      "Recall or Sensitivity : 100.000%\n"
     ]
    }
   ],
   "source": [
    "recall = TP / float(TP + FP) * 100\n",
    "print('Recall or Sensitivity : {0:0.3f}%'.format(recall))\n",
    "\n",
    "# For all subscribers that have stayed in the company, we have predicted that they would"
   ]
  },
  {
   "cell_type": "markdown",
   "id": "562c1159",
   "metadata": {},
   "source": [
    "#### ROC curve"
   ]
  },
  {
   "cell_type": "code",
   "execution_count": 28,
   "id": "b7c9a87e",
   "metadata": {},
   "outputs": [
    {
     "data": {
      "image/png": "[encoded data removed]",
      "text/plain": [
       "<Figure size 600x200 with 1 Axes>"
      ]
     },
     "metadata": {},
     "output_type": "display_data"
    }
   ],
   "source": [
    "from sklearn.metrics import roc_curve\n",
    "\n",
    "plt.figure(figsize=(6,2))\n",
    "\n",
    "fpr, tpr, thresholds = roc_curve(y_test, y_pred, pos_label = 1)\n",
    "plt.plot(fpr, tpr, linewidth=2)\n",
    "plt.plot([0,1], [0,1], 'k--' )\n",
    "plt.rcParams['font.size'] = 12\n",
    "plt.title('ROC curve for CHURN prediction classifier')\n",
    "plt.xlabel('False Positive Rate (1 - Specificity)')\n",
    "plt.ylabel('True Positive Rate (Sensitivity)')\n",
    "\n",
    "plt.show()"
   ]
  },
  {
   "cell_type": "markdown",
   "id": "a3931636",
   "metadata": {},
   "source": [
    "##### AUC (Area Under Curve)"
   ]
  },
  {
   "cell_type": "code",
   "execution_count": 29,
   "id": "ee3087ff",
   "metadata": {},
   "outputs": [
    {
     "name": "stdout",
     "output_type": "stream",
     "text": [
      "ROC AUC : 0.9931\n"
     ]
    }
   ],
   "source": [
    "from sklearn.metrics import roc_auc_score\n",
    "\n",
    "ROC_AUC = roc_auc_score(y_test, y_pred)\n",
    "\n",
    "print('ROC AUC : {:.4f}'.format(ROC_AUC))"
   ]
  }
 ],
 "metadata": {
  "kernelspec": {
   "display_name": "Python 3 (ipykernel)",
   "language": "python",
   "name": "python3"
  },
  "language_info": {
   "codemirror_mode": {
    "name": "ipython",
    "version": 3
   },
   "file_extension": ".py",
   "mimetype": "text/x-python",
   "name": "python",
   "nbconvert_exporter": "python",
   "pygments_lexer": "ipython3",
   "version": "3.11.5"
  }
 },
 "nbformat": 4,
 "nbformat_minor": 5
}

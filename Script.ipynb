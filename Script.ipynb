{
 "cells": [
  {
   "cell_type": "code",
   "execution_count": 1,
   "id": "a48f8144",
   "metadata": {},
   "outputs": [],
   "source": [
    "import pandas as pd\n",
    "import matplotlib.pyplot as plt"
   ]
  },
  {
   "cell_type": "code",
   "execution_count": 2,
   "id": "e2f9a8cb",
   "metadata": {},
   "outputs": [],
   "source": [
    "data = pd.read_excel('data.xlsx')"
   ]
  },
  {
   "cell_type": "code",
   "execution_count": 3,
   "id": "5da8eec9",
   "metadata": {},
   "outputs": [
    {
     "data": {
      "text/html": [
       "<div>\n",
       "<style scoped>\n",
       "    .dataframe tbody tr th:only-of-type {\n",
       "        vertical-align: middle;\n",
       "    }\n",
       "\n",
       "    .dataframe tbody tr th {\n",
       "        vertical-align: top;\n",
       "    }\n",
       "\n",
       "    .dataframe thead th {\n",
       "        text-align: right;\n",
       "    }\n",
       "</style>\n",
       "<table border=\"1\" class=\"dataframe\">\n",
       "  <thead>\n",
       "    <tr style=\"text-align: right;\">\n",
       "      <th></th>\n",
       "      <th>SUBSCRIBER_ID</th>\n",
       "      <th>BNUM_OUT</th>\n",
       "      <th>BNUM_IN</th>\n",
       "      <th>CHURN</th>\n",
       "      <th>PROD_CNT_MACRO</th>\n",
       "      <th>REV_BUN_MAC</th>\n",
       "      <th>REV_OUT</th>\n",
       "      <th>USAGE_OUT_INT_DUR</th>\n",
       "      <th>USAGE_OUT_OFFNET_DUR</th>\n",
       "      <th>USAGE_OUT_ONNET_DUR</th>\n",
       "      <th>LNE_TENURE</th>\n",
       "      <th>TOPUP_AMT</th>\n",
       "      <th>TOPUP_CNT</th>\n",
       "      <th>Segment</th>\n",
       "    </tr>\n",
       "  </thead>\n",
       "  <tbody>\n",
       "    <tr>\n",
       "      <th>0</th>\n",
       "      <td>1</td>\n",
       "      <td>2.0</td>\n",
       "      <td>3.0</td>\n",
       "      <td>1</td>\n",
       "      <td>NaN</td>\n",
       "      <td>NaN</td>\n",
       "      <td>0.0</td>\n",
       "      <td>0.0</td>\n",
       "      <td>2.0</td>\n",
       "      <td>1.0</td>\n",
       "      <td>163</td>\n",
       "      <td>NaN</td>\n",
       "      <td>NaN</td>\n",
       "      <td>Segment 1</td>\n",
       "    </tr>\n",
       "    <tr>\n",
       "      <th>1</th>\n",
       "      <td>2</td>\n",
       "      <td>52.0</td>\n",
       "      <td>32.0</td>\n",
       "      <td>0</td>\n",
       "      <td>3.0</td>\n",
       "      <td>2.0</td>\n",
       "      <td>1.0</td>\n",
       "      <td>0.0</td>\n",
       "      <td>0.0</td>\n",
       "      <td>966.0</td>\n",
       "      <td>76</td>\n",
       "      <td>2.0</td>\n",
       "      <td>3.0</td>\n",
       "      <td>Segment 2</td>\n",
       "    </tr>\n",
       "    <tr>\n",
       "      <th>2</th>\n",
       "      <td>3</td>\n",
       "      <td>NaN</td>\n",
       "      <td>NaN</td>\n",
       "      <td>0</td>\n",
       "      <td>NaN</td>\n",
       "      <td>NaN</td>\n",
       "      <td>NaN</td>\n",
       "      <td>NaN</td>\n",
       "      <td>NaN</td>\n",
       "      <td>NaN</td>\n",
       "      <td>118</td>\n",
       "      <td>NaN</td>\n",
       "      <td>0.0</td>\n",
       "      <td>Segment 3</td>\n",
       "    </tr>\n",
       "    <tr>\n",
       "      <th>3</th>\n",
       "      <td>4</td>\n",
       "      <td>4.0</td>\n",
       "      <td>5.0</td>\n",
       "      <td>1</td>\n",
       "      <td>NaN</td>\n",
       "      <td>NaN</td>\n",
       "      <td>3.0</td>\n",
       "      <td>0.0</td>\n",
       "      <td>5.0</td>\n",
       "      <td>5.0</td>\n",
       "      <td>107</td>\n",
       "      <td>4.0</td>\n",
       "      <td>2.0</td>\n",
       "      <td>Segment 1</td>\n",
       "    </tr>\n",
       "    <tr>\n",
       "      <th>4</th>\n",
       "      <td>5</td>\n",
       "      <td>0.0</td>\n",
       "      <td>14.0</td>\n",
       "      <td>0</td>\n",
       "      <td>0.0</td>\n",
       "      <td>NaN</td>\n",
       "      <td>0.0</td>\n",
       "      <td>0.0</td>\n",
       "      <td>0.0</td>\n",
       "      <td>0.0</td>\n",
       "      <td>149</td>\n",
       "      <td>6.0</td>\n",
       "      <td>2.0</td>\n",
       "      <td>Segment 5</td>\n",
       "    </tr>\n",
       "  </tbody>\n",
       "</table>\n",
       "</div>"
      ],
      "text/plain": [
       "   SUBSCRIBER_ID  BNUM_OUT  BNUM_IN  CHURN  PROD_CNT_MACRO  REV_BUN_MAC  \\\n",
       "0              1       2.0      3.0      1             NaN          NaN   \n",
       "1              2      52.0     32.0      0             3.0          2.0   \n",
       "2              3       NaN      NaN      0             NaN          NaN   \n",
       "3              4       4.0      5.0      1             NaN          NaN   \n",
       "4              5       0.0     14.0      0             0.0          NaN   \n",
       "\n",
       "   REV_OUT  USAGE_OUT_INT_DUR  USAGE_OUT_OFFNET_DUR  USAGE_OUT_ONNET_DUR  \\\n",
       "0      0.0                0.0                   2.0                  1.0   \n",
       "1      1.0                0.0                   0.0                966.0   \n",
       "2      NaN                NaN                   NaN                  NaN   \n",
       "3      3.0                0.0                   5.0                  5.0   \n",
       "4      0.0                0.0                   0.0                  0.0   \n",
       "\n",
       "   LNE_TENURE  TOPUP_AMT  TOPUP_CNT    Segment  \n",
       "0         163        NaN        NaN  Segment 1  \n",
       "1          76        2.0        3.0  Segment 2  \n",
       "2         118        NaN        0.0  Segment 3  \n",
       "3         107        4.0        2.0  Segment 1  \n",
       "4         149        6.0        2.0  Segment 5  "
      ]
     },
     "execution_count": 3,
     "metadata": {},
     "output_type": "execute_result"
    }
   ],
   "source": [
    "data.head()"
   ]
  },
  {
   "cell_type": "code",
   "execution_count": 4,
   "id": "97b5a439",
   "metadata": {},
   "outputs": [
    {
     "name": "stdout",
     "output_type": "stream",
     "text": [
      "<class 'pandas.core.frame.DataFrame'>\n",
      "RangeIndex: 5000 entries, 0 to 4999\n",
      "Data columns (total 14 columns):\n",
      " #   Column                Non-Null Count  Dtype  \n",
      "---  ------                --------------  -----  \n",
      " 0   SUBSCRIBER_ID         5000 non-null   int64  \n",
      " 1   BNUM_OUT              4512 non-null   float64\n",
      " 2   BNUM_IN               4512 non-null   float64\n",
      " 3   CHURN                 5000 non-null   int64  \n",
      " 4   PROD_CNT_MACRO        2175 non-null   float64\n",
      " 5   REV_BUN_MAC           1023 non-null   float64\n",
      " 6   REV_OUT               4492 non-null   float64\n",
      " 7   USAGE_OUT_INT_DUR     4599 non-null   float64\n",
      " 8   USAGE_OUT_OFFNET_DUR  4599 non-null   float64\n",
      " 9   USAGE_OUT_ONNET_DUR   4599 non-null   float64\n",
      " 10  LNE_TENURE            5000 non-null   int64  \n",
      " 11  TOPUP_AMT             2737 non-null   float64\n",
      " 12  TOPUP_CNT             3091 non-null   float64\n",
      " 13  Segment               4998 non-null   object \n",
      "dtypes: float64(10), int64(3), object(1)\n",
      "memory usage: 547.0+ KB\n"
     ]
    }
   ],
   "source": [
    "# quick info about data\n",
    "data.info()"
   ]
  },
  {
   "cell_type": "code",
   "execution_count": 5,
   "id": "c6e16994",
   "metadata": {},
   "outputs": [
    {
     "data": {
      "text/plain": [
       "SUBSCRIBER_ID             int64\n",
       "BNUM_OUT                float64\n",
       "BNUM_IN                 float64\n",
       "CHURN                     int64\n",
       "PROD_CNT_MACRO          float64\n",
       "REV_BUN_MAC             float64\n",
       "REV_OUT                 float64\n",
       "USAGE_OUT_INT_DUR       float64\n",
       "USAGE_OUT_OFFNET_DUR    float64\n",
       "USAGE_OUT_ONNET_DUR     float64\n",
       "LNE_TENURE                int64\n",
       "TOPUP_AMT               float64\n",
       "TOPUP_CNT               float64\n",
       "Segment                  object\n",
       "dtype: object"
      ]
     },
     "execution_count": 5,
     "metadata": {},
     "output_type": "execute_result"
    }
   ],
   "source": [
    "# checking for data types\n",
    "data.dtypes"
   ]
  },
  {
   "cell_type": "code",
   "execution_count": 6,
   "id": "2703c4f5",
   "metadata": {},
   "outputs": [
    {
     "data": {
      "text/html": [
       "<div>\n",
       "<style scoped>\n",
       "    .dataframe tbody tr th:only-of-type {\n",
       "        vertical-align: middle;\n",
       "    }\n",
       "\n",
       "    .dataframe tbody tr th {\n",
       "        vertical-align: top;\n",
       "    }\n",
       "\n",
       "    .dataframe thead th {\n",
       "        text-align: right;\n",
       "    }\n",
       "</style>\n",
       "<table border=\"1\" class=\"dataframe\">\n",
       "  <thead>\n",
       "    <tr style=\"text-align: right;\">\n",
       "      <th></th>\n",
       "      <th>SUBSCRIBER_ID</th>\n",
       "      <th>BNUM_OUT</th>\n",
       "      <th>BNUM_IN</th>\n",
       "      <th>CHURN</th>\n",
       "      <th>PROD_CNT_MACRO</th>\n",
       "      <th>REV_BUN_MAC</th>\n",
       "      <th>REV_OUT</th>\n",
       "      <th>USAGE_OUT_INT_DUR</th>\n",
       "      <th>USAGE_OUT_OFFNET_DUR</th>\n",
       "      <th>USAGE_OUT_ONNET_DUR</th>\n",
       "      <th>LNE_TENURE</th>\n",
       "      <th>TOPUP_AMT</th>\n",
       "      <th>TOPUP_CNT</th>\n",
       "    </tr>\n",
       "  </thead>\n",
       "  <tbody>\n",
       "    <tr>\n",
       "      <th>count</th>\n",
       "      <td>5000.000000</td>\n",
       "      <td>4512.000000</td>\n",
       "      <td>4512.000000</td>\n",
       "      <td>5000.000000</td>\n",
       "      <td>2175.000000</td>\n",
       "      <td>1023.000000</td>\n",
       "      <td>4492.000000</td>\n",
       "      <td>4599.000000</td>\n",
       "      <td>4599.000000</td>\n",
       "      <td>4599.000000</td>\n",
       "      <td>5000.000000</td>\n",
       "      <td>2737.000000</td>\n",
       "      <td>3091.000000</td>\n",
       "    </tr>\n",
       "    <tr>\n",
       "      <th>mean</th>\n",
       "      <td>2500.500000</td>\n",
       "      <td>9.847961</td>\n",
       "      <td>14.552527</td>\n",
       "      <td>0.217400</td>\n",
       "      <td>1.163678</td>\n",
       "      <td>3.654936</td>\n",
       "      <td>2.484862</td>\n",
       "      <td>0.921505</td>\n",
       "      <td>7.699935</td>\n",
       "      <td>79.876236</td>\n",
       "      <td>120.761000</td>\n",
       "      <td>6.536719</td>\n",
       "      <td>2.422193</td>\n",
       "    </tr>\n",
       "    <tr>\n",
       "      <th>std</th>\n",
       "      <td>1443.520003</td>\n",
       "      <td>13.768099</td>\n",
       "      <td>18.200048</td>\n",
       "      <td>0.412518</td>\n",
       "      <td>1.619757</td>\n",
       "      <td>3.325051</td>\n",
       "      <td>5.177284</td>\n",
       "      <td>10.959876</td>\n",
       "      <td>24.665487</td>\n",
       "      <td>232.314367</td>\n",
       "      <td>33.032095</td>\n",
       "      <td>8.235579</td>\n",
       "      <td>2.670954</td>\n",
       "    </tr>\n",
       "    <tr>\n",
       "      <th>min</th>\n",
       "      <td>1.000000</td>\n",
       "      <td>0.000000</td>\n",
       "      <td>0.000000</td>\n",
       "      <td>0.000000</td>\n",
       "      <td>0.000000</td>\n",
       "      <td>1.000000</td>\n",
       "      <td>0.000000</td>\n",
       "      <td>0.000000</td>\n",
       "      <td>0.000000</td>\n",
       "      <td>0.000000</td>\n",
       "      <td>0.000000</td>\n",
       "      <td>1.000000</td>\n",
       "      <td>0.000000</td>\n",
       "    </tr>\n",
       "    <tr>\n",
       "      <th>25%</th>\n",
       "      <td>1250.750000</td>\n",
       "      <td>1.000000</td>\n",
       "      <td>4.000000</td>\n",
       "      <td>0.000000</td>\n",
       "      <td>0.000000</td>\n",
       "      <td>1.000000</td>\n",
       "      <td>0.000000</td>\n",
       "      <td>0.000000</td>\n",
       "      <td>0.000000</td>\n",
       "      <td>0.000000</td>\n",
       "      <td>93.000000</td>\n",
       "      <td>2.000000</td>\n",
       "      <td>1.000000</td>\n",
       "    </tr>\n",
       "    <tr>\n",
       "      <th>50%</th>\n",
       "      <td>2500.500000</td>\n",
       "      <td>5.000000</td>\n",
       "      <td>9.000000</td>\n",
       "      <td>0.000000</td>\n",
       "      <td>0.000000</td>\n",
       "      <td>3.000000</td>\n",
       "      <td>1.000000</td>\n",
       "      <td>0.000000</td>\n",
       "      <td>1.000000</td>\n",
       "      <td>3.000000</td>\n",
       "      <td>114.000000</td>\n",
       "      <td>4.000000</td>\n",
       "      <td>2.000000</td>\n",
       "    </tr>\n",
       "    <tr>\n",
       "      <th>75%</th>\n",
       "      <td>3750.250000</td>\n",
       "      <td>13.000000</td>\n",
       "      <td>19.000000</td>\n",
       "      <td>0.000000</td>\n",
       "      <td>2.000000</td>\n",
       "      <td>5.000000</td>\n",
       "      <td>3.000000</td>\n",
       "      <td>0.000000</td>\n",
       "      <td>6.000000</td>\n",
       "      <td>32.000000</td>\n",
       "      <td>149.000000</td>\n",
       "      <td>8.000000</td>\n",
       "      <td>3.000000</td>\n",
       "    </tr>\n",
       "    <tr>\n",
       "      <th>max</th>\n",
       "      <td>5000.000000</td>\n",
       "      <td>158.000000</td>\n",
       "      <td>445.000000</td>\n",
       "      <td>1.000000</td>\n",
       "      <td>18.000000</td>\n",
       "      <td>28.000000</td>\n",
       "      <td>82.000000</td>\n",
       "      <td>321.000000</td>\n",
       "      <td>710.000000</td>\n",
       "      <td>5706.000000</td>\n",
       "      <td>190.000000</td>\n",
       "      <td>106.000000</td>\n",
       "      <td>31.000000</td>\n",
       "    </tr>\n",
       "  </tbody>\n",
       "</table>\n",
       "</div>"
      ],
      "text/plain": [
       "       SUBSCRIBER_ID     BNUM_OUT      BNUM_IN        CHURN  PROD_CNT_MACRO  \\\n",
       "count    5000.000000  4512.000000  4512.000000  5000.000000     2175.000000   \n",
       "mean     2500.500000     9.847961    14.552527     0.217400        1.163678   \n",
       "std      1443.520003    13.768099    18.200048     0.412518        1.619757   \n",
       "min         1.000000     0.000000     0.000000     0.000000        0.000000   \n",
       "25%      1250.750000     1.000000     4.000000     0.000000        0.000000   \n",
       "50%      2500.500000     5.000000     9.000000     0.000000        0.000000   \n",
       "75%      3750.250000    13.000000    19.000000     0.000000        2.000000   \n",
       "max      5000.000000   158.000000   445.000000     1.000000       18.000000   \n",
       "\n",
       "       REV_BUN_MAC      REV_OUT  USAGE_OUT_INT_DUR  USAGE_OUT_OFFNET_DUR  \\\n",
       "count  1023.000000  4492.000000        4599.000000           4599.000000   \n",
       "mean      3.654936     2.484862           0.921505              7.699935   \n",
       "std       3.325051     5.177284          10.959876             24.665487   \n",
       "min       1.000000     0.000000           0.000000              0.000000   \n",
       "25%       1.000000     0.000000           0.000000              0.000000   \n",
       "50%       3.000000     1.000000           0.000000              1.000000   \n",
       "75%       5.000000     3.000000           0.000000              6.000000   \n",
       "max      28.000000    82.000000         321.000000            710.000000   \n",
       "\n",
       "       USAGE_OUT_ONNET_DUR   LNE_TENURE    TOPUP_AMT    TOPUP_CNT  \n",
       "count          4599.000000  5000.000000  2737.000000  3091.000000  \n",
       "mean             79.876236   120.761000     6.536719     2.422193  \n",
       "std             232.314367    33.032095     8.235579     2.670954  \n",
       "min               0.000000     0.000000     1.000000     0.000000  \n",
       "25%               0.000000    93.000000     2.000000     1.000000  \n",
       "50%               3.000000   114.000000     4.000000     2.000000  \n",
       "75%              32.000000   149.000000     8.000000     3.000000  \n",
       "max            5706.000000   190.000000   106.000000    31.000000  "
      ]
     },
     "execution_count": 6,
     "metadata": {},
     "output_type": "execute_result"
    }
   ],
   "source": [
    "# basic statistical information\n",
    "data.describe()"
   ]
  },
  {
   "cell_type": "code",
   "execution_count": 7,
   "id": "7734e1c9",
   "metadata": {},
   "outputs": [
    {
     "data": {
      "text/plain": [
       "REV_BUN_MAC             3977\n",
       "PROD_CNT_MACRO          2825\n",
       "TOPUP_AMT               2263\n",
       "TOPUP_CNT               1909\n",
       "REV_OUT                  508\n",
       "BNUM_OUT                 488\n",
       "BNUM_IN                  488\n",
       "USAGE_OUT_INT_DUR        401\n",
       "USAGE_OUT_OFFNET_DUR     401\n",
       "USAGE_OUT_ONNET_DUR      401\n",
       "Segment                    2\n",
       "SUBSCRIBER_ID              0\n",
       "CHURN                      0\n",
       "LNE_TENURE                 0\n",
       "dtype: int64"
      ]
     },
     "execution_count": 7,
     "metadata": {},
     "output_type": "execute_result"
    }
   ],
   "source": [
    "# questioning the presence of missing values\n",
    "total_missing = data.isna().sum().sort_values(ascending = False)\n",
    "total_missing"
   ]
  },
  {
   "cell_type": "code",
   "execution_count": 8,
   "id": "f2c9477f",
   "metadata": {},
   "outputs": [
    {
     "data": {
      "text/plain": [
       "REV_BUN_MAC             79.54\n",
       "PROD_CNT_MACRO          56.50\n",
       "TOPUP_AMT               45.26\n",
       "TOPUP_CNT               38.18\n",
       "REV_OUT                 10.16\n",
       "BNUM_OUT                 9.76\n",
       "BNUM_IN                  9.76\n",
       "USAGE_OUT_INT_DUR        8.02\n",
       "USAGE_OUT_OFFNET_DUR     8.02\n",
       "USAGE_OUT_ONNET_DUR      8.02\n",
       "Segment                  0.04\n",
       "SUBSCRIBER_ID            0.00\n",
       "CHURN                    0.00\n",
       "LNE_TENURE               0.00\n",
       "dtype: float64"
      ]
     },
     "execution_count": 8,
     "metadata": {},
     "output_type": "execute_result"
    }
   ],
   "source": [
    "missing_ratio = data.isna().mean() * 100\n",
    "missing_ratio = missing_ratio.sort_values(ascending = False)\n",
    "missing_ratio"
   ]
  },
  {
   "cell_type": "code",
   "execution_count": 9,
   "id": "da79bfaf",
   "metadata": {},
   "outputs": [
    {
     "name": "stdout",
     "output_type": "stream",
     "text": [
      "                      Total missing  Ratio\n",
      "REV_BUN_MAC                    3977  79.54\n",
      "PROD_CNT_MACRO                 2825  56.50\n",
      "TOPUP_AMT                      2263  45.26\n",
      "TOPUP_CNT                      1909  38.18\n",
      "REV_OUT                         508  10.16\n",
      "BNUM_OUT                        488   9.76\n",
      "BNUM_IN                         488   9.76\n",
      "USAGE_OUT_INT_DUR               401   8.02\n",
      "USAGE_OUT_OFFNET_DUR            401   8.02\n",
      "USAGE_OUT_ONNET_DUR             401   8.02\n",
      "Segment                           2   0.04\n"
     ]
    }
   ],
   "source": [
    "# number of missing values and ratio to all values in data set\n",
    "missing_data = pd.concat([total_missing, missing_ratio], axis = 1, keys= ['Total missing','Ratio'])\n",
    "print(missing_data[missing_data.Ratio >0])"
   ]
  },
  {
   "cell_type": "code",
   "execution_count": 10,
   "id": "e06a77eb",
   "metadata": {},
   "outputs": [],
   "source": [
    "# deleting the SUBSCRIBER_ID column as it is o no use\n",
    "data.drop('SUBSCRIBER_ID', axis = 1, inplace = True)"
   ]
  },
  {
   "cell_type": "code",
   "execution_count": 11,
   "id": "ccfe5a11",
   "metadata": {},
   "outputs": [
    {
     "data": {
      "text/html": [
       "<div>\n",
       "<style scoped>\n",
       "    .dataframe tbody tr th:only-of-type {\n",
       "        vertical-align: middle;\n",
       "    }\n",
       "\n",
       "    .dataframe tbody tr th {\n",
       "        vertical-align: top;\n",
       "    }\n",
       "\n",
       "    .dataframe thead th {\n",
       "        text-align: right;\n",
       "    }\n",
       "</style>\n",
       "<table border=\"1\" class=\"dataframe\">\n",
       "  <thead>\n",
       "    <tr style=\"text-align: right;\">\n",
       "      <th></th>\n",
       "      <th>BNUM_OUT</th>\n",
       "      <th>BNUM_IN</th>\n",
       "      <th>CHURN</th>\n",
       "      <th>REV_OUT</th>\n",
       "      <th>USAGE_OUT_INT_DUR</th>\n",
       "      <th>USAGE_OUT_OFFNET_DUR</th>\n",
       "      <th>USAGE_OUT_ONNET_DUR</th>\n",
       "      <th>LNE_TENURE</th>\n",
       "      <th>Segment</th>\n",
       "    </tr>\n",
       "  </thead>\n",
       "  <tbody>\n",
       "    <tr>\n",
       "      <th>0</th>\n",
       "      <td>2.0</td>\n",
       "      <td>3.0</td>\n",
       "      <td>1</td>\n",
       "      <td>0.0</td>\n",
       "      <td>0.0</td>\n",
       "      <td>2.0</td>\n",
       "      <td>1.0</td>\n",
       "      <td>163</td>\n",
       "      <td>Segment 1</td>\n",
       "    </tr>\n",
       "    <tr>\n",
       "      <th>1</th>\n",
       "      <td>52.0</td>\n",
       "      <td>32.0</td>\n",
       "      <td>0</td>\n",
       "      <td>1.0</td>\n",
       "      <td>0.0</td>\n",
       "      <td>0.0</td>\n",
       "      <td>966.0</td>\n",
       "      <td>76</td>\n",
       "      <td>Segment 2</td>\n",
       "    </tr>\n",
       "    <tr>\n",
       "      <th>2</th>\n",
       "      <td>NaN</td>\n",
       "      <td>NaN</td>\n",
       "      <td>0</td>\n",
       "      <td>NaN</td>\n",
       "      <td>NaN</td>\n",
       "      <td>NaN</td>\n",
       "      <td>NaN</td>\n",
       "      <td>118</td>\n",
       "      <td>Segment 3</td>\n",
       "    </tr>\n",
       "    <tr>\n",
       "      <th>3</th>\n",
       "      <td>4.0</td>\n",
       "      <td>5.0</td>\n",
       "      <td>1</td>\n",
       "      <td>3.0</td>\n",
       "      <td>0.0</td>\n",
       "      <td>5.0</td>\n",
       "      <td>5.0</td>\n",
       "      <td>107</td>\n",
       "      <td>Segment 1</td>\n",
       "    </tr>\n",
       "    <tr>\n",
       "      <th>4</th>\n",
       "      <td>0.0</td>\n",
       "      <td>14.0</td>\n",
       "      <td>0</td>\n",
       "      <td>0.0</td>\n",
       "      <td>0.0</td>\n",
       "      <td>0.0</td>\n",
       "      <td>0.0</td>\n",
       "      <td>149</td>\n",
       "      <td>Segment 5</td>\n",
       "    </tr>\n",
       "    <tr>\n",
       "      <th>...</th>\n",
       "      <td>...</td>\n",
       "      <td>...</td>\n",
       "      <td>...</td>\n",
       "      <td>...</td>\n",
       "      <td>...</td>\n",
       "      <td>...</td>\n",
       "      <td>...</td>\n",
       "      <td>...</td>\n",
       "      <td>...</td>\n",
       "    </tr>\n",
       "    <tr>\n",
       "      <th>4995</th>\n",
       "      <td>1.0</td>\n",
       "      <td>0.0</td>\n",
       "      <td>1</td>\n",
       "      <td>0.0</td>\n",
       "      <td>0.0</td>\n",
       "      <td>0.0</td>\n",
       "      <td>1.0</td>\n",
       "      <td>137</td>\n",
       "      <td>Segment 1</td>\n",
       "    </tr>\n",
       "    <tr>\n",
       "      <th>4996</th>\n",
       "      <td>11.0</td>\n",
       "      <td>11.0</td>\n",
       "      <td>0</td>\n",
       "      <td>0.0</td>\n",
       "      <td>0.0</td>\n",
       "      <td>2.0</td>\n",
       "      <td>213.0</td>\n",
       "      <td>150</td>\n",
       "      <td>Segment 2</td>\n",
       "    </tr>\n",
       "    <tr>\n",
       "      <th>4997</th>\n",
       "      <td>2.0</td>\n",
       "      <td>9.0</td>\n",
       "      <td>0</td>\n",
       "      <td>0.0</td>\n",
       "      <td>0.0</td>\n",
       "      <td>0.0</td>\n",
       "      <td>188.0</td>\n",
       "      <td>134</td>\n",
       "      <td>Segment 5</td>\n",
       "    </tr>\n",
       "    <tr>\n",
       "      <th>4998</th>\n",
       "      <td>15.0</td>\n",
       "      <td>17.0</td>\n",
       "      <td>0</td>\n",
       "      <td>3.0</td>\n",
       "      <td>0.0</td>\n",
       "      <td>3.0</td>\n",
       "      <td>2.0</td>\n",
       "      <td>115</td>\n",
       "      <td>Segment 3</td>\n",
       "    </tr>\n",
       "    <tr>\n",
       "      <th>4999</th>\n",
       "      <td>1.0</td>\n",
       "      <td>4.0</td>\n",
       "      <td>1</td>\n",
       "      <td>0.0</td>\n",
       "      <td>0.0</td>\n",
       "      <td>0.0</td>\n",
       "      <td>0.0</td>\n",
       "      <td>156</td>\n",
       "      <td>Segment 1</td>\n",
       "    </tr>\n",
       "  </tbody>\n",
       "</table>\n",
       "<p>5000 rows × 9 columns</p>\n",
       "</div>"
      ],
      "text/plain": [
       "      BNUM_OUT  BNUM_IN  CHURN  REV_OUT  USAGE_OUT_INT_DUR  \\\n",
       "0          2.0      3.0      1      0.0                0.0   \n",
       "1         52.0     32.0      0      1.0                0.0   \n",
       "2          NaN      NaN      0      NaN                NaN   \n",
       "3          4.0      5.0      1      3.0                0.0   \n",
       "4          0.0     14.0      0      0.0                0.0   \n",
       "...        ...      ...    ...      ...                ...   \n",
       "4995       1.0      0.0      1      0.0                0.0   \n",
       "4996      11.0     11.0      0      0.0                0.0   \n",
       "4997       2.0      9.0      0      0.0                0.0   \n",
       "4998      15.0     17.0      0      3.0                0.0   \n",
       "4999       1.0      4.0      1      0.0                0.0   \n",
       "\n",
       "      USAGE_OUT_OFFNET_DUR  USAGE_OUT_ONNET_DUR  LNE_TENURE    Segment  \n",
       "0                      2.0                  1.0         163  Segment 1  \n",
       "1                      0.0                966.0          76  Segment 2  \n",
       "2                      NaN                  NaN         118  Segment 3  \n",
       "3                      5.0                  5.0         107  Segment 1  \n",
       "4                      0.0                  0.0         149  Segment 5  \n",
       "...                    ...                  ...         ...        ...  \n",
       "4995                   0.0                  1.0         137  Segment 1  \n",
       "4996                   2.0                213.0         150  Segment 2  \n",
       "4997                   0.0                188.0         134  Segment 5  \n",
       "4998                   3.0                  2.0         115  Segment 3  \n",
       "4999                   0.0                  0.0         156  Segment 1  \n",
       "\n",
       "[5000 rows x 9 columns]"
      ]
     },
     "execution_count": 11,
     "metadata": {},
     "output_type": "execute_result"
    }
   ],
   "source": [
    "# deleting columns: REV_BUN_MAC, PROD_CNT_MACRO, TOPUP_AMT, TOPUP_CNT since there are too many missing values\n",
    "data = data.drop(['REV_BUN_MAC','PROD_CNT_MACRO','TOPUP_AMT','TOPUP_CNT'], axis = 1)\n",
    "# printing the data\n",
    "data"
   ]
  },
  {
   "cell_type": "code",
   "execution_count": 12,
   "id": "d4888455",
   "metadata": {},
   "outputs": [
    {
     "data": {
      "text/plain": [
       "REV_OUT                 508\n",
       "BNUM_OUT                488\n",
       "BNUM_IN                 488\n",
       "USAGE_OUT_INT_DUR       401\n",
       "USAGE_OUT_OFFNET_DUR    401\n",
       "USAGE_OUT_ONNET_DUR     401\n",
       "Segment                   2\n",
       "CHURN                     0\n",
       "LNE_TENURE                0\n",
       "dtype: int64"
      ]
     },
     "execution_count": 12,
     "metadata": {},
     "output_type": "execute_result"
    }
   ],
   "source": [
    "total_missing = data.isna().sum().sort_values(ascending = False)\n",
    "total_missing"
   ]
  },
  {
   "cell_type": "code",
   "execution_count": 13,
   "id": "e7a320dc",
   "metadata": {},
   "outputs": [
    {
     "data": {
      "text/html": [
       "<div>\n",
       "<style scoped>\n",
       "    .dataframe tbody tr th:only-of-type {\n",
       "        vertical-align: middle;\n",
       "    }\n",
       "\n",
       "    .dataframe tbody tr th {\n",
       "        vertical-align: top;\n",
       "    }\n",
       "\n",
       "    .dataframe thead th {\n",
       "        text-align: right;\n",
       "    }\n",
       "</style>\n",
       "<table border=\"1\" class=\"dataframe\">\n",
       "  <thead>\n",
       "    <tr style=\"text-align: right;\">\n",
       "      <th></th>\n",
       "      <th>BNUM_OUT</th>\n",
       "      <th>BNUM_IN</th>\n",
       "      <th>CHURN</th>\n",
       "      <th>REV_OUT</th>\n",
       "      <th>USAGE_OUT_INT_DUR</th>\n",
       "      <th>USAGE_OUT_OFFNET_DUR</th>\n",
       "      <th>USAGE_OUT_ONNET_DUR</th>\n",
       "      <th>LNE_TENURE</th>\n",
       "      <th>Segment</th>\n",
       "    </tr>\n",
       "  </thead>\n",
       "  <tbody>\n",
       "    <tr>\n",
       "      <th>2</th>\n",
       "      <td>NaN</td>\n",
       "      <td>NaN</td>\n",
       "      <td>0</td>\n",
       "      <td>NaN</td>\n",
       "      <td>NaN</td>\n",
       "      <td>NaN</td>\n",
       "      <td>NaN</td>\n",
       "      <td>118</td>\n",
       "      <td>Segment 3</td>\n",
       "    </tr>\n",
       "    <tr>\n",
       "      <th>26</th>\n",
       "      <td>NaN</td>\n",
       "      <td>NaN</td>\n",
       "      <td>0</td>\n",
       "      <td>NaN</td>\n",
       "      <td>NaN</td>\n",
       "      <td>NaN</td>\n",
       "      <td>NaN</td>\n",
       "      <td>114</td>\n",
       "      <td>Segment 3</td>\n",
       "    </tr>\n",
       "    <tr>\n",
       "      <th>27</th>\n",
       "      <td>NaN</td>\n",
       "      <td>NaN</td>\n",
       "      <td>0</td>\n",
       "      <td>NaN</td>\n",
       "      <td>NaN</td>\n",
       "      <td>NaN</td>\n",
       "      <td>NaN</td>\n",
       "      <td>113</td>\n",
       "      <td>Segment 5</td>\n",
       "    </tr>\n",
       "    <tr>\n",
       "      <th>36</th>\n",
       "      <td>NaN</td>\n",
       "      <td>NaN</td>\n",
       "      <td>0</td>\n",
       "      <td>NaN</td>\n",
       "      <td>NaN</td>\n",
       "      <td>NaN</td>\n",
       "      <td>NaN</td>\n",
       "      <td>117</td>\n",
       "      <td>Segment 5</td>\n",
       "    </tr>\n",
       "    <tr>\n",
       "      <th>37</th>\n",
       "      <td>NaN</td>\n",
       "      <td>NaN</td>\n",
       "      <td>0</td>\n",
       "      <td>NaN</td>\n",
       "      <td>NaN</td>\n",
       "      <td>NaN</td>\n",
       "      <td>NaN</td>\n",
       "      <td>150</td>\n",
       "      <td>Segment 5</td>\n",
       "    </tr>\n",
       "    <tr>\n",
       "      <th>...</th>\n",
       "      <td>...</td>\n",
       "      <td>...</td>\n",
       "      <td>...</td>\n",
       "      <td>...</td>\n",
       "      <td>...</td>\n",
       "      <td>...</td>\n",
       "      <td>...</td>\n",
       "      <td>...</td>\n",
       "      <td>...</td>\n",
       "    </tr>\n",
       "    <tr>\n",
       "      <th>4891</th>\n",
       "      <td>NaN</td>\n",
       "      <td>NaN</td>\n",
       "      <td>0</td>\n",
       "      <td>NaN</td>\n",
       "      <td>NaN</td>\n",
       "      <td>NaN</td>\n",
       "      <td>NaN</td>\n",
       "      <td>113</td>\n",
       "      <td>Segment 5</td>\n",
       "    </tr>\n",
       "    <tr>\n",
       "      <th>4897</th>\n",
       "      <td>NaN</td>\n",
       "      <td>NaN</td>\n",
       "      <td>0</td>\n",
       "      <td>NaN</td>\n",
       "      <td>NaN</td>\n",
       "      <td>NaN</td>\n",
       "      <td>NaN</td>\n",
       "      <td>107</td>\n",
       "      <td>Segment 5</td>\n",
       "    </tr>\n",
       "    <tr>\n",
       "      <th>4910</th>\n",
       "      <td>NaN</td>\n",
       "      <td>NaN</td>\n",
       "      <td>0</td>\n",
       "      <td>NaN</td>\n",
       "      <td>NaN</td>\n",
       "      <td>NaN</td>\n",
       "      <td>NaN</td>\n",
       "      <td>137</td>\n",
       "      <td>Segment 5</td>\n",
       "    </tr>\n",
       "    <tr>\n",
       "      <th>4928</th>\n",
       "      <td>NaN</td>\n",
       "      <td>NaN</td>\n",
       "      <td>0</td>\n",
       "      <td>NaN</td>\n",
       "      <td>NaN</td>\n",
       "      <td>NaN</td>\n",
       "      <td>NaN</td>\n",
       "      <td>89</td>\n",
       "      <td>Segment 5</td>\n",
       "    </tr>\n",
       "    <tr>\n",
       "      <th>4930</th>\n",
       "      <td>NaN</td>\n",
       "      <td>NaN</td>\n",
       "      <td>0</td>\n",
       "      <td>NaN</td>\n",
       "      <td>NaN</td>\n",
       "      <td>NaN</td>\n",
       "      <td>NaN</td>\n",
       "      <td>115</td>\n",
       "      <td>Segment 5</td>\n",
       "    </tr>\n",
       "  </tbody>\n",
       "</table>\n",
       "<p>401 rows × 9 columns</p>\n",
       "</div>"
      ],
      "text/plain": [
       "      BNUM_OUT  BNUM_IN  CHURN  REV_OUT  USAGE_OUT_INT_DUR  \\\n",
       "2          NaN      NaN      0      NaN                NaN   \n",
       "26         NaN      NaN      0      NaN                NaN   \n",
       "27         NaN      NaN      0      NaN                NaN   \n",
       "36         NaN      NaN      0      NaN                NaN   \n",
       "37         NaN      NaN      0      NaN                NaN   \n",
       "...        ...      ...    ...      ...                ...   \n",
       "4891       NaN      NaN      0      NaN                NaN   \n",
       "4897       NaN      NaN      0      NaN                NaN   \n",
       "4910       NaN      NaN      0      NaN                NaN   \n",
       "4928       NaN      NaN      0      NaN                NaN   \n",
       "4930       NaN      NaN      0      NaN                NaN   \n",
       "\n",
       "      USAGE_OUT_OFFNET_DUR  USAGE_OUT_ONNET_DUR  LNE_TENURE    Segment  \n",
       "2                      NaN                  NaN         118  Segment 3  \n",
       "26                     NaN                  NaN         114  Segment 3  \n",
       "27                     NaN                  NaN         113  Segment 5  \n",
       "36                     NaN                  NaN         117  Segment 5  \n",
       "37                     NaN                  NaN         150  Segment 5  \n",
       "...                    ...                  ...         ...        ...  \n",
       "4891                   NaN                  NaN         113  Segment 5  \n",
       "4897                   NaN                  NaN         107  Segment 5  \n",
       "4910                   NaN                  NaN         137  Segment 5  \n",
       "4928                   NaN                  NaN          89  Segment 5  \n",
       "4930                   NaN                  NaN         115  Segment 5  \n",
       "\n",
       "[401 rows x 9 columns]"
      ]
     },
     "execution_count": 13,
     "metadata": {},
     "output_type": "execute_result"
    }
   ],
   "source": [
    "pd.set_option('display.max_rows', 100)\n",
    "# all rows with missing values for USAGE_OUT_INT_DUR \n",
    "data[data['USAGE_OUT_INT_DUR'].isna()]\n",
    "# missing values for variables REV_OUT, USAGE_OUT_INT_DUR, USAGE_OUT_OFFNET_DUR, USAGE_OUT_ONNET_DUR co-occur"
   ]
  },
  {
   "cell_type": "code",
   "execution_count": 14,
   "id": "8738082a",
   "metadata": {},
   "outputs": [
    {
     "data": {
      "text/html": [
       "<div>\n",
       "<style scoped>\n",
       "    .dataframe tbody tr th:only-of-type {\n",
       "        vertical-align: middle;\n",
       "    }\n",
       "\n",
       "    .dataframe tbody tr th {\n",
       "        vertical-align: top;\n",
       "    }\n",
       "\n",
       "    .dataframe thead th {\n",
       "        text-align: right;\n",
       "    }\n",
       "</style>\n",
       "<table border=\"1\" class=\"dataframe\">\n",
       "  <thead>\n",
       "    <tr style=\"text-align: right;\">\n",
       "      <th></th>\n",
       "      <th>BNUM_OUT</th>\n",
       "      <th>BNUM_IN</th>\n",
       "      <th>CHURN</th>\n",
       "      <th>REV_OUT</th>\n",
       "      <th>USAGE_OUT_INT_DUR</th>\n",
       "      <th>USAGE_OUT_OFFNET_DUR</th>\n",
       "      <th>USAGE_OUT_ONNET_DUR</th>\n",
       "      <th>LNE_TENURE</th>\n",
       "      <th>Segment</th>\n",
       "    </tr>\n",
       "  </thead>\n",
       "  <tbody>\n",
       "    <tr>\n",
       "      <th>19</th>\n",
       "      <td>0.0</td>\n",
       "      <td>2.0</td>\n",
       "      <td>0</td>\n",
       "      <td>NaN</td>\n",
       "      <td>0.0</td>\n",
       "      <td>0.0</td>\n",
       "      <td>0.0</td>\n",
       "      <td>149</td>\n",
       "      <td>Segment 5</td>\n",
       "    </tr>\n",
       "    <tr>\n",
       "      <th>32</th>\n",
       "      <td>0.0</td>\n",
       "      <td>1.0</td>\n",
       "      <td>0</td>\n",
       "      <td>NaN</td>\n",
       "      <td>0.0</td>\n",
       "      <td>0.0</td>\n",
       "      <td>0.0</td>\n",
       "      <td>91</td>\n",
       "      <td>Segment 3</td>\n",
       "    </tr>\n",
       "    <tr>\n",
       "      <th>49</th>\n",
       "      <td>0.0</td>\n",
       "      <td>3.0</td>\n",
       "      <td>0</td>\n",
       "      <td>NaN</td>\n",
       "      <td>0.0</td>\n",
       "      <td>0.0</td>\n",
       "      <td>0.0</td>\n",
       "      <td>150</td>\n",
       "      <td>Segment 3</td>\n",
       "    </tr>\n",
       "    <tr>\n",
       "      <th>57</th>\n",
       "      <td>0.0</td>\n",
       "      <td>1.0</td>\n",
       "      <td>0</td>\n",
       "      <td>NaN</td>\n",
       "      <td>0.0</td>\n",
       "      <td>0.0</td>\n",
       "      <td>0.0</td>\n",
       "      <td>124</td>\n",
       "      <td>Segment 5</td>\n",
       "    </tr>\n",
       "    <tr>\n",
       "      <th>101</th>\n",
       "      <td>0.0</td>\n",
       "      <td>7.0</td>\n",
       "      <td>0</td>\n",
       "      <td>NaN</td>\n",
       "      <td>0.0</td>\n",
       "      <td>0.0</td>\n",
       "      <td>0.0</td>\n",
       "      <td>89</td>\n",
       "      <td>Segment 5</td>\n",
       "    </tr>\n",
       "    <tr>\n",
       "      <th>...</th>\n",
       "      <td>...</td>\n",
       "      <td>...</td>\n",
       "      <td>...</td>\n",
       "      <td>...</td>\n",
       "      <td>...</td>\n",
       "      <td>...</td>\n",
       "      <td>...</td>\n",
       "      <td>...</td>\n",
       "      <td>...</td>\n",
       "    </tr>\n",
       "    <tr>\n",
       "      <th>4614</th>\n",
       "      <td>0.0</td>\n",
       "      <td>2.0</td>\n",
       "      <td>0</td>\n",
       "      <td>NaN</td>\n",
       "      <td>0.0</td>\n",
       "      <td>0.0</td>\n",
       "      <td>0.0</td>\n",
       "      <td>75</td>\n",
       "      <td>Segment 3</td>\n",
       "    </tr>\n",
       "    <tr>\n",
       "      <th>4656</th>\n",
       "      <td>0.0</td>\n",
       "      <td>1.0</td>\n",
       "      <td>0</td>\n",
       "      <td>NaN</td>\n",
       "      <td>0.0</td>\n",
       "      <td>0.0</td>\n",
       "      <td>0.0</td>\n",
       "      <td>148</td>\n",
       "      <td>Segment 5</td>\n",
       "    </tr>\n",
       "    <tr>\n",
       "      <th>4736</th>\n",
       "      <td>0.0</td>\n",
       "      <td>3.0</td>\n",
       "      <td>0</td>\n",
       "      <td>NaN</td>\n",
       "      <td>0.0</td>\n",
       "      <td>0.0</td>\n",
       "      <td>0.0</td>\n",
       "      <td>130</td>\n",
       "      <td>Segment 5</td>\n",
       "    </tr>\n",
       "    <tr>\n",
       "      <th>4889</th>\n",
       "      <td>0.0</td>\n",
       "      <td>1.0</td>\n",
       "      <td>0</td>\n",
       "      <td>NaN</td>\n",
       "      <td>0.0</td>\n",
       "      <td>0.0</td>\n",
       "      <td>0.0</td>\n",
       "      <td>150</td>\n",
       "      <td>Segment 5</td>\n",
       "    </tr>\n",
       "    <tr>\n",
       "      <th>4917</th>\n",
       "      <td>0.0</td>\n",
       "      <td>2.0</td>\n",
       "      <td>0</td>\n",
       "      <td>NaN</td>\n",
       "      <td>0.0</td>\n",
       "      <td>0.0</td>\n",
       "      <td>0.0</td>\n",
       "      <td>155</td>\n",
       "      <td>Segment 5</td>\n",
       "    </tr>\n",
       "  </tbody>\n",
       "</table>\n",
       "<p>107 rows × 9 columns</p>\n",
       "</div>"
      ],
      "text/plain": [
       "      BNUM_OUT  BNUM_IN  CHURN  REV_OUT  USAGE_OUT_INT_DUR  \\\n",
       "19         0.0      2.0      0      NaN                0.0   \n",
       "32         0.0      1.0      0      NaN                0.0   \n",
       "49         0.0      3.0      0      NaN                0.0   \n",
       "57         0.0      1.0      0      NaN                0.0   \n",
       "101        0.0      7.0      0      NaN                0.0   \n",
       "...        ...      ...    ...      ...                ...   \n",
       "4614       0.0      2.0      0      NaN                0.0   \n",
       "4656       0.0      1.0      0      NaN                0.0   \n",
       "4736       0.0      3.0      0      NaN                0.0   \n",
       "4889       0.0      1.0      0      NaN                0.0   \n",
       "4917       0.0      2.0      0      NaN                0.0   \n",
       "\n",
       "      USAGE_OUT_OFFNET_DUR  USAGE_OUT_ONNET_DUR  LNE_TENURE    Segment  \n",
       "19                     0.0                  0.0         149  Segment 5  \n",
       "32                     0.0                  0.0          91  Segment 3  \n",
       "49                     0.0                  0.0         150  Segment 3  \n",
       "57                     0.0                  0.0         124  Segment 5  \n",
       "101                    0.0                  0.0          89  Segment 5  \n",
       "...                    ...                  ...         ...        ...  \n",
       "4614                   0.0                  0.0          75  Segment 3  \n",
       "4656                   0.0                  0.0         148  Segment 5  \n",
       "4736                   0.0                  0.0         130  Segment 5  \n",
       "4889                   0.0                  0.0         150  Segment 5  \n",
       "4917                   0.0                  0.0         155  Segment 5  \n",
       "\n",
       "[107 rows x 9 columns]"
      ]
     },
     "execution_count": 14,
     "metadata": {},
     "output_type": "execute_result"
    }
   ],
   "source": [
    "data[~data['USAGE_OUT_INT_DUR'].isna() & data['REV_OUT'].isna()]\n",
    "# Variable REV_OUT has more missing values than variables USAGE_OUT_INT_DUR, USAGE_OUT_OFFNET_DUR, USAGE_OUT_ONNET_DUR\n",
    "# Even when the values are known for variables USAGE_OUT_INT_DUR.., those values are 0 and do not provide any important information"
   ]
  },
  {
   "cell_type": "code",
   "execution_count": 15,
   "id": "ef31ec50",
   "metadata": {},
   "outputs": [
    {
     "data": {
      "text/html": [
       "<div>\n",
       "<style scoped>\n",
       "    .dataframe tbody tr th:only-of-type {\n",
       "        vertical-align: middle;\n",
       "    }\n",
       "\n",
       "    .dataframe tbody tr th {\n",
       "        vertical-align: top;\n",
       "    }\n",
       "\n",
       "    .dataframe thead th {\n",
       "        text-align: right;\n",
       "    }\n",
       "</style>\n",
       "<table border=\"1\" class=\"dataframe\">\n",
       "  <thead>\n",
       "    <tr style=\"text-align: right;\">\n",
       "      <th></th>\n",
       "      <th>BNUM_OUT</th>\n",
       "      <th>BNUM_IN</th>\n",
       "      <th>CHURN</th>\n",
       "      <th>REV_OUT</th>\n",
       "      <th>USAGE_OUT_INT_DUR</th>\n",
       "      <th>USAGE_OUT_OFFNET_DUR</th>\n",
       "      <th>USAGE_OUT_ONNET_DUR</th>\n",
       "      <th>LNE_TENURE</th>\n",
       "      <th>Segment</th>\n",
       "    </tr>\n",
       "  </thead>\n",
       "  <tbody>\n",
       "    <tr>\n",
       "      <th>2567</th>\n",
       "      <td>71.0</td>\n",
       "      <td>75.0</td>\n",
       "      <td>1</td>\n",
       "      <td>71.0</td>\n",
       "      <td>1.0</td>\n",
       "      <td>568.0</td>\n",
       "      <td>474.0</td>\n",
       "      <td>134</td>\n",
       "      <td>NaN</td>\n",
       "    </tr>\n",
       "    <tr>\n",
       "      <th>4516</th>\n",
       "      <td>56.0</td>\n",
       "      <td>54.0</td>\n",
       "      <td>1</td>\n",
       "      <td>82.0</td>\n",
       "      <td>205.0</td>\n",
       "      <td>94.0</td>\n",
       "      <td>251.0</td>\n",
       "      <td>122</td>\n",
       "      <td>NaN</td>\n",
       "    </tr>\n",
       "  </tbody>\n",
       "</table>\n",
       "</div>"
      ],
      "text/plain": [
       "      BNUM_OUT  BNUM_IN  CHURN  REV_OUT  USAGE_OUT_INT_DUR  \\\n",
       "2567      71.0     75.0      1     71.0                1.0   \n",
       "4516      56.0     54.0      1     82.0              205.0   \n",
       "\n",
       "      USAGE_OUT_OFFNET_DUR  USAGE_OUT_ONNET_DUR  LNE_TENURE Segment  \n",
       "2567                 568.0                474.0         134     NaN  \n",
       "4516                  94.0                251.0         122     NaN  "
      ]
     },
     "execution_count": 15,
     "metadata": {},
     "output_type": "execute_result"
    }
   ],
   "source": [
    "# Segment is na rows\n",
    "data[data['Segment'].isna()]"
   ]
  },
  {
   "cell_type": "code",
   "execution_count": 16,
   "id": "0c5b384a",
   "metadata": {},
   "outputs": [
    {
     "data": {
      "text/plain": [
       "'Segment 5'"
      ]
     },
     "execution_count": 16,
     "metadata": {},
     "output_type": "execute_result"
    }
   ],
   "source": [
    "data_sorted_segment = data.Segment.value_counts()\n",
    "data_sorted_segment\n",
    "\n",
    "most_frequent = data.Segment.mode()[0]\n",
    "most_frequent"
   ]
  },
  {
   "cell_type": "code",
   "execution_count": 17,
   "id": "2a09beff",
   "metadata": {
    "scrolled": true
   },
   "outputs": [],
   "source": [
    "data.Segment = data.Segment.fillna(most_frequent)"
   ]
  },
  {
   "cell_type": "code",
   "execution_count": 18,
   "id": "c9642cc3",
   "metadata": {},
   "outputs": [
    {
     "data": {
      "text/plain": [
       "REV_OUT                 508\n",
       "BNUM_OUT                488\n",
       "BNUM_IN                 488\n",
       "USAGE_OUT_INT_DUR       401\n",
       "USAGE_OUT_OFFNET_DUR    401\n",
       "USAGE_OUT_ONNET_DUR     401\n",
       "CHURN                     0\n",
       "LNE_TENURE                0\n",
       "Segment                   0\n",
       "dtype: int64"
      ]
     },
     "execution_count": 18,
     "metadata": {},
     "output_type": "execute_result"
    }
   ],
   "source": [
    "# checking for remaining missing values\n",
    "total_missing = data.isna().sum().sort_values(ascending = False)\n",
    "total_missing"
   ]
  },
  {
   "cell_type": "code",
   "execution_count": 19,
   "id": "34e76006",
   "metadata": {},
   "outputs": [
    {
     "data": {
      "text/plain": [
       "REV_OUT                 107\n",
       "BNUM_OUT                 87\n",
       "BNUM_IN                  87\n",
       "CHURN                     0\n",
       "USAGE_OUT_INT_DUR         0\n",
       "USAGE_OUT_OFFNET_DUR      0\n",
       "USAGE_OUT_ONNET_DUR       0\n",
       "LNE_TENURE                0\n",
       "Segment                   0\n",
       "dtype: int64"
      ]
     },
     "execution_count": 19,
     "metadata": {},
     "output_type": "execute_result"
    }
   ],
   "source": [
    "# eliminating rows with missing values for columns USAGE_OUT_INT_DUR, USAGE_OUT_OFFNET_DUR, USAGE_OUT_ONNET_DUR\n",
    "data = data.dropna(subset = ['USAGE_OUT_INT_DUR', 'USAGE_OUT_OFFNET_DUR','USAGE_OUT_ONNET_DUR'])\n",
    "total_missing = data.isna().sum().sort_values(ascending = False)\n",
    "total_missing"
   ]
  },
  {
   "cell_type": "code",
   "execution_count": 20,
   "id": "cd36b0b7",
   "metadata": {},
   "outputs": [
    {
     "data": {
      "text/plain": [
       "REV_OUT     1.0\n",
       "BNUM_OUT    1.0\n",
       "BNUM_IN     1.0\n",
       "dtype: float64"
      ]
     },
     "execution_count": 20,
     "metadata": {},
     "output_type": "execute_result"
    }
   ],
   "source": [
    "# applying shapiro test\n",
    "from scipy.stats import shapiro\n",
    "\n",
    "columns_shapiro = ['REV_OUT','BNUM_OUT','BNUM_IN']\n",
    "p_values = data[columns_shapiro].apply(lambda x: shapiro(x)[1])\n",
    "p_values"
   ]
  },
  {
   "cell_type": "code",
   "execution_count": 21,
   "id": "01f16533",
   "metadata": {},
   "outputs": [
    {
     "data": {
      "text/plain": [
       "14.55252659574468"
      ]
     },
     "execution_count": 21,
     "metadata": {},
     "output_type": "execute_result"
    }
   ],
   "source": [
    "rev_mean = data.REV_OUT.mean()\n",
    "rev_mean\n",
    "\n",
    "bnum_out_mean = data.BNUM_OUT.mean()\n",
    "bnum_out_mean\n",
    "\n",
    "bnum_in_mean = data.BNUM_IN.mean()\n",
    "bnum_in_mean"
   ]
  },
  {
   "cell_type": "code",
   "execution_count": 22,
   "id": "a3a0dac8",
   "metadata": {},
   "outputs": [
    {
     "name": "stdout",
     "output_type": "stream",
     "text": [
      "BNUM_OUT                87\n",
      "BNUM_IN                 87\n",
      "CHURN                    0\n",
      "REV_OUT                  0\n",
      "USAGE_OUT_INT_DUR        0\n",
      "USAGE_OUT_OFFNET_DUR     0\n",
      "USAGE_OUT_ONNET_DUR      0\n",
      "LNE_TENURE               0\n",
      "Segment                  0\n",
      "dtype: int64\n"
     ]
    }
   ],
   "source": [
    "# filling missing values for REV_OUT\n",
    "data.loc[:, 'REV_OUT'] = data['REV_OUT'].fillna(rev_mean)\n",
    "print(data.isna().sum().sort_values(ascending = False))"
   ]
  },
  {
   "cell_type": "code",
   "execution_count": 23,
   "id": "673686be",
   "metadata": {
    "scrolled": true
   },
   "outputs": [
    {
     "name": "stdout",
     "output_type": "stream",
     "text": [
      "BNUM_OUT                0\n",
      "BNUM_IN                 0\n",
      "CHURN                   0\n",
      "REV_OUT                 0\n",
      "USAGE_OUT_INT_DUR       0\n",
      "USAGE_OUT_OFFNET_DUR    0\n",
      "USAGE_OUT_ONNET_DUR     0\n",
      "LNE_TENURE              0\n",
      "Segment                 0\n",
      "dtype: int64\n"
     ]
    }
   ],
   "source": [
    "data.loc[:, 'BNUM_OUT'] = data['BNUM_OUT'].fillna(bnum_out_mean)\n",
    "data.loc[:, 'BNUM_IN'] = data['BNUM_IN'].fillna(bnum_in_mean)\n",
    "\n",
    "print(data.isna().sum().sort_values(ascending = False))"
   ]
  },
  {
   "cell_type": "code",
   "execution_count": 24,
   "id": "fcb0dfca",
   "metadata": {
    "scrolled": true
   },
   "outputs": [
    {
     "data": {
      "text/plain": [
       "<Axes: >"
      ]
     },
     "execution_count": 24,
     "metadata": {},
     "output_type": "execute_result"
    },
    {
     "data": {
      "image/png": "[encoded data removed]",
      "text/plain": [
       "<Figure size 3000x2000 with 1 Axes>"
      ]
     },
     "metadata": {},
     "output_type": "display_data"
    }
   ],
   "source": [
    "data.boxplot(figsize = (30,20))\n",
    "# Variable USAGE_OUT_ONNET_DUR has the most outliers by far\n",
    "# Number of outgoing minutes in the network that customer makes can differ drastically, as well as the number of calls to\n",
    "# competitor network provider and international calls that customer has made\n",
    "\n",
    "# LN_TENURE has only three outlier, meaning user tenure is constant and reliable, and CHURN has only 1"
   ]
  },
  {
   "cell_type": "code",
   "execution_count": 25,
   "id": "b1b9f13c",
   "metadata": {},
   "outputs": [
    {
     "data": {
      "image/png": "[encoded data removed]",
      "text/plain": [
       "<Figure size 640x480 with 1 Axes>"
      ]
     },
     "metadata": {},
     "output_type": "display_data"
    }
   ],
   "source": [
    "import seaborn as sn\n",
    "sn.boxplot(x = data['USAGE_OUT_ONNET_DUR'])\n",
    "plt.show()"
   ]
  },
  {
   "cell_type": "code",
   "execution_count": 26,
   "id": "204a818b",
   "metadata": {},
   "outputs": [
    {
     "data": {
      "image/png": "[encoded data removed]",
      "text/plain": [
       "<Figure size 640x480 with 1 Axes>"
      ]
     },
     "metadata": {},
     "output_type": "display_data"
    }
   ],
   "source": [
    "sn.boxplot(x = data['CHURN'])\n",
    "plt.show()"
   ]
  },
  {
   "cell_type": "code",
   "execution_count": 27,
   "id": "e0fe4cc0",
   "metadata": {
    "scrolled": true
   },
   "outputs": [
    {
     "data": {
      "text/html": [
       "<div>\n",
       "<style scoped>\n",
       "    .dataframe tbody tr th:only-of-type {\n",
       "        vertical-align: middle;\n",
       "    }\n",
       "\n",
       "    .dataframe tbody tr th {\n",
       "        vertical-align: top;\n",
       "    }\n",
       "\n",
       "    .dataframe thead th {\n",
       "        text-align: right;\n",
       "    }\n",
       "</style>\n",
       "<table border=\"1\" class=\"dataframe\">\n",
       "  <thead>\n",
       "    <tr style=\"text-align: right;\">\n",
       "      <th>Segment</th>\n",
       "      <th>Segment 1</th>\n",
       "      <th>Segment 2</th>\n",
       "      <th>Segment 3</th>\n",
       "      <th>Segment 5</th>\n",
       "    </tr>\n",
       "  </thead>\n",
       "  <tbody>\n",
       "    <tr>\n",
       "      <th>BNUM_OUT</th>\n",
       "      <td>4.464634</td>\n",
       "      <td>22.021600</td>\n",
       "      <td>4.962982</td>\n",
       "      <td>4.242792</td>\n",
       "    </tr>\n",
       "    <tr>\n",
       "      <th>BNUM_IN</th>\n",
       "      <td>6.041038</td>\n",
       "      <td>26.736468</td>\n",
       "      <td>11.666183</td>\n",
       "      <td>10.330334</td>\n",
       "    </tr>\n",
       "    <tr>\n",
       "      <th>CHURN</th>\n",
       "      <td>1.000000</td>\n",
       "      <td>0.002843</td>\n",
       "      <td>0.000000</td>\n",
       "      <td>0.001445</td>\n",
       "    </tr>\n",
       "    <tr>\n",
       "      <th>REV_OUT</th>\n",
       "      <td>1.359852</td>\n",
       "      <td>5.004975</td>\n",
       "      <td>1.131175</td>\n",
       "      <td>1.512656</td>\n",
       "    </tr>\n",
       "    <tr>\n",
       "      <th>USAGE_OUT_INT_DUR</th>\n",
       "      <td>0.473636</td>\n",
       "      <td>2.034826</td>\n",
       "      <td>0.163686</td>\n",
       "      <td>0.537572</td>\n",
       "    </tr>\n",
       "    <tr>\n",
       "      <th>USAGE_OUT_OFFNET_DUR</th>\n",
       "      <td>3.790009</td>\n",
       "      <td>16.400142</td>\n",
       "      <td>2.795048</td>\n",
       "      <td>4.485549</td>\n",
       "    </tr>\n",
       "    <tr>\n",
       "      <th>USAGE_OUT_ONNET_DUR</th>\n",
       "      <td>19.940823</td>\n",
       "      <td>223.417278</td>\n",
       "      <td>21.258927</td>\n",
       "      <td>11.554501</td>\n",
       "    </tr>\n",
       "    <tr>\n",
       "      <th>LNE_TENURE</th>\n",
       "      <td>118.025902</td>\n",
       "      <td>122.583511</td>\n",
       "      <td>113.645117</td>\n",
       "      <td>125.507225</td>\n",
       "    </tr>\n",
       "  </tbody>\n",
       "</table>\n",
       "</div>"
      ],
      "text/plain": [
       "Segment                Segment 1   Segment 2   Segment 3   Segment 5\n",
       "BNUM_OUT                4.464634   22.021600    4.962982    4.242792\n",
       "BNUM_IN                 6.041038   26.736468   11.666183   10.330334\n",
       "CHURN                   1.000000    0.002843    0.000000    0.001445\n",
       "REV_OUT                 1.359852    5.004975    1.131175    1.512656\n",
       "USAGE_OUT_INT_DUR       0.473636    2.034826    0.163686    0.537572\n",
       "USAGE_OUT_OFFNET_DUR    3.790009   16.400142    2.795048    4.485549\n",
       "USAGE_OUT_ONNET_DUR    19.940823  223.417278   21.258927   11.554501\n",
       "LNE_TENURE            118.025902  122.583511  113.645117  125.507225"
      ]
     },
     "execution_count": 27,
     "metadata": {},
     "output_type": "execute_result"
    }
   ],
   "source": [
    "# grouping data by variable Segment\n",
    "data_group = data.groupby('Segment').mean().transpose()\n",
    "data_group"
   ]
  },
  {
   "cell_type": "code",
   "execution_count": 57,
   "id": "af209dc7",
   "metadata": {},
   "outputs": [
    {
     "data": {
      "text/plain": [
       "Segment\n",
       "Segment 2    1407\n",
       "Segment 5    1384\n",
       "Segment 1    1081\n",
       "Segment 3     727\n",
       "Name: count, dtype: int64"
      ]
     },
     "execution_count": 57,
     "metadata": {},
     "output_type": "execute_result"
    }
   ],
   "source": [
    "# number of instances (customers) in every segment\n",
    "segment_counts = data.Segment.value_counts().sort_values(ascending = False)\n",
    "segment_counts"
   ]
  },
  {
   "cell_type": "code",
   "execution_count": 60,
   "id": "fb074b8e",
   "metadata": {},
   "outputs": [
    {
     "name": "stdout",
     "output_type": "stream",
     "text": [
      "6\n"
     ]
    }
   ],
   "source": [
    "# print(len(data[(data['CHURN'] == 1) & ((data['Segment'] == 'Segment 2') | (data['Segment'] == 'Segment 5'))]))"
   ]
  },
  {
   "cell_type": "code",
   "execution_count": 38,
   "id": "c747af9a",
   "metadata": {},
   "outputs": [
    {
     "data": {
      "image/png": "[encoded data removed]",
      "text/plain": [
       "<Figure size 1000x600 with 4 Axes>"
      ]
     },
     "metadata": {},
     "output_type": "display_data"
    }
   ],
   "source": [
    "plt.figure(figsize=(10, 6))\n",
    "i = 1\n",
    "for segment_category in data['Segment'].unique():\n",
    "    plt.subplot(2, 2, i)\n",
    "    i += 1\n",
    "    segment_data = data[data['Segment'] == segment_category]\n",
    "    plt.scatter(segment_data['BNUM_OUT'], segment_data['BNUM_OUT'], label=segment_category)\n",
    "\n",
    "plt.title('Number of outgoing calss for each customer segment')\n",
    "plt.show()"
   ]
  },
  {
   "cell_type": "code",
   "execution_count": 41,
   "id": "5ff8cc83",
   "metadata": {},
   "outputs": [
    {
     "data": {
      "image/png": "[encoded data removed]",
      "text/plain": [
       "<Figure size 640x480 with 1 Axes>"
      ]
     },
     "metadata": {},
     "output_type": "display_data"
    }
   ],
   "source": [
    "data_group = data.groupby('Segment')\n",
    "\n",
    "for segment_category, segment_group in data_group:\n",
    "    plt.plot(segment_group['BNUM_OUT'], label=segment_category)\n",
    "plt.legend()\n",
    "    \n",
    "plt.show()"
   ]
  },
  {
   "cell_type": "code",
   "execution_count": 53,
   "id": "70f4aeac",
   "metadata": {},
   "outputs": [
    {
     "data": {
      "image/png": "[encoded data removed]",
      "text/plain": [
       "<Figure size 2000x700 with 1 Axes>"
      ]
     },
     "metadata": {},
     "output_type": "display_data"
    }
   ],
   "source": [
    "\n",
    "plt.figure(figsize = (20,7))\n",
    "\n",
    "sn.kdeplot(data=data[data['Segment'] == 'Segment 1']['BNUM_OUT'], label='Segment 1', fill=True, color = 'blue')\n",
    "sn.kdeplot(data=data[data['Segment'] == 'Segment 2']['BNUM_OUT'], label='Segment 2', fill=True, color = 'red')\n",
    "sn.kdeplot(data=data[data['Segment'] == 'Segment 3']['BNUM_OUT'], label='Segment 3', fill=True, color = 'green')\n",
    "sn.kdeplot(data=data[data['Segment'] == 'Segment 5']['BNUM_OUT'], label='Segment 5', fill=True, color = 'yellow')\n",
    "\n",
    "plt.legend()\n",
    "plt.show()"
   ]
  },
  {
   "cell_type": "code",
   "execution_count": 58,
   "id": "ad67e0fb",
   "metadata": {},
   "outputs": [
    {
     "name": "stdout",
     "output_type": "stream",
     "text": [
      "CHURN\n",
      "0    3512\n",
      "1    1087\n",
      "Name: count, dtype: int64\n"
     ]
    }
   ],
   "source": [
    "# print(data['CHURN'].value_counts()/len(data) * 100)\n",
    "print(data['CHURN'].value_counts())"
   ]
  }
 ],
 "metadata": {
  "kernelspec": {
   "display_name": "Python 3 (ipykernel)",
   "language": "python",
   "name": "python3"
  },
  "language_info": {
   "codemirror_mode": {
    "name": "ipython",
    "version": 3
   },
   "file_extension": ".py",
   "mimetype": "text/x-python",
   "name": "python",
   "nbconvert_exporter": "python",
   "pygments_lexer": "ipython3",
   "version": "3.11.5"
  }
 },
 "nbformat": 4,
 "nbformat_minor": 5
}
